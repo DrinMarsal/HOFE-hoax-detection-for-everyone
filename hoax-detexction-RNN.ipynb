{
  "nbformat": 4,
  "nbformat_minor": 0,
  "metadata": {
    "colab": {
      "provenance": [],
      "gpuType": "T4"
    },
    "kernelspec": {
      "name": "python3",
      "display_name": "Python 3"
    },
    "language_info": {
      "name": "python"
    },
    "accelerator": "GPU"
  },
  "cells": [
    {
      "cell_type": "markdown",
      "source": [
        "# Import Library yang dibutuhkan"
      ],
      "metadata": {
        "id": "6HlGk0OjPaaY"
      }
    },
    {
      "cell_type": "code",
      "execution_count": null,
      "metadata": {
        "id": "g-Cpl20WgG4J"
      },
      "outputs": [],
      "source": [
        "import pandas as pd  # Untuk manipulasi dan analisis data\n",
        "import matplotlib.pyplot as plt  # Untuk visualisasi data\n",
        "import numpy as np  # Untuk operasi numerik dan array\n",
        "import tensorflow as tf  # Untuk membangun dan melatih model deep learning\n",
        "import re  # Untuk pemrosesan teks dengan regular expressions\n",
        "from tensorflow.keras.preprocessing.text import Tokenizer  # Untuk tokenisasi teks (mengubah kata menjadi token)\n",
        "import tensorflow as tf  # Mengimpor TensorFlow dua kali mungkin tidak perlu\n",
        "from sklearn.metrics import accuracy_score  # Untuk menghitung akurasi\n",
        "from sklearn.model_selection import train_test_split  # Untuk membagi data menjadi set pelatihan dan pengujian\n",
        "from sklearn.metrics import accuracy_score, confusion_matrix, precision_score, recall_score  # Untuk evaluasi model\n",
        "import seaborn as sns  # Untuk visualisasi matriks kebingunguan dan lainnya\n",
        "plt.style.use('ggplot')  # Menggunakan style visualisasi 'ggplot' di Matplotlib"
      ]
    },
    {
      "cell_type": "markdown",
      "source": [
        "# Load Dataset"
      ],
      "metadata": {
        "id": "3nFNrkH9QnxY"
      }
    },
    {
      "cell_type": "code",
      "source": [
        "# Membaca dataset yang berisi data hoax (palsu) yang sudah dibersihkan\n",
        "fake_df = pd.read_csv('cleaned_dataset_turnbackhoax_10_cleaned.csv')  # Dataset yang berisi berita hoax (palsu)\n",
        "\n",
        "# Membaca dataset yang berisi data berita nyata (real) yang sudah dibersihkan\n",
        "real_df = pd.read_csv('cleaned_dataset_scrap.csv')  # Dataset yang berisi berita asli (real)"
      ],
      "metadata": {
        "id": "7m3OIhpDgPkl"
      },
      "execution_count": null,
      "outputs": []
    },
    {
      "cell_type": "markdown",
      "source": [
        "# Menambahkan kolom 'label'"
      ],
      "metadata": {
        "id": "d52BxxvWQ6ho"
      }
    },
    {
      "cell_type": "code",
      "source": [
        "# Menambahkan kolom 'label' pada DataFrame fake_df dan memberikan nilai 0 untuk berita hoax (palsu)\n",
        "fake_df['label'] = 0  # Label 0 menandakan bahwa data ini adalah berita hoax\n",
        "\n",
        "# Menambahkan kolom 'label' pada DataFrame real_df dan memberikan nilai 1 untuk berita yang nyata\n",
        "real_df['label'] = 1  # Label 1 menandakan bahwa data ini adalah berita asli (nyata)"
      ],
      "metadata": {
        "id": "qbR44LN3g--o"
      },
      "execution_count": null,
      "outputs": []
    },
    {
      "cell_type": "markdown",
      "source": [
        "# Visualisasi Dataset"
      ],
      "metadata": {
        "id": "SfhdUE9TREt4"
      }
    },
    {
      "cell_type": "code",
      "source": [
        "import matplotlib.ticker as ticker\n",
        "\n",
        "# Membuat plot pertama untuk distribusi jumlah berita hoax dan berita nyata\n",
        "plt.figure(figsize=(10, 5))  # Mengatur ukuran plot\n",
        "plt.bar('Berita Hoax', len(fake_df), color='orange')  # Membuat bar untuk berita hoax dengan warna oranye\n",
        "plt.bar('Berita Nyata', len(real_df), color='green')  # Membuat bar untuk berita nyata dengan warna hijau\n",
        "plt.title('Distribusi Berita Hoax dan Berita Nyata', size=15)  # Menambahkan judul pada plot\n",
        "plt.xlabel('Jenis Berita', size=15)  # Menambahkan label untuk sumbu x (jenis berita)\n",
        "plt.ylabel('Jumlah Artikel Berita', size=15)  # Menambahkan label untuk sumbu y (jumlah artikel berita)\n",
        "\n",
        "# Menambahkan format titik per-seribu pada sumbu Y\n",
        "plt.gca().yaxis.set_major_formatter(ticker.FuncFormatter(lambda x, pos: '{:,.0f}'.format(x)))\n",
        "\n",
        "# Menampilkan plot\n",
        "plt.show()"
      ],
      "metadata": {
        "colab": {
          "base_uri": "https://localhost:8080/",
          "height": 495
        },
        "id": "uVHxNKDhhK_x",
        "outputId": "db10ec5c-2992-42ae-9b7d-e8974ba735d0"
      },
      "execution_count": null,
      "outputs": [
        {
          "output_type": "display_data",
          "data": {
            "text/plain": [
              "<Figure size 1000x500 with 1 Axes>"
            ],
            "image/png": "[encoded data removed]"
          },
          "metadata": {}
        }
      ]
    },
    {
      "cell_type": "code",
      "source": [
        "print('Difference in news articles:',len(fake_df)-len(real_df))"
      ],
      "metadata": {
        "colab": {
          "base_uri": "https://localhost:8080/"
        },
        "id": "Sir7JMyFhRhF",
        "outputId": "8fafe7a4-d41c-4e21-c275-b2d1cdcad20c"
      },
      "execution_count": null,
      "outputs": [
        {
          "output_type": "stream",
          "name": "stdout",
          "text": [
            "Difference in news articles: -3890\n"
          ]
        }
      ]
    },
    {
      "cell_type": "markdown",
      "source": [
        "# Gabung Dataset"
      ],
      "metadata": {
        "id": "AnvE4J7dR44g"
      }
    },
    {
      "cell_type": "code",
      "source": [
        "# Gabung dataset fake dan real\n",
        "news_df = pd.concat([fake_df, real_df], ignore_index=True, sort=False)"
      ],
      "metadata": {
        "id": "5-7TsiAuhXEa"
      },
      "execution_count": null,
      "outputs": []
    },
    {
      "cell_type": "code",
      "source": [
        "news_df"
      ],
      "metadata": {
        "colab": {
          "base_uri": "https://localhost:8080/",
          "height": 424
        },
        "id": "MzA1b1VMRuA4",
        "outputId": "13ed7a2c-a412-4a4f-8b65-fad693bdc7b7"
      },
      "execution_count": null,
      "outputs": [
        {
          "output_type": "execute_result",
          "data": {
            "text/plain": [
              "                                                    Text   tagging  label\n",
              "0      BISA DILIHAT SI ONTA YAMAN NGGAK PEDULI ITU AP...      hoax      0\n",
              "1      ini bener gasih?? Ya Allah gimna keadaan pa ha...      hoax      0\n",
              "2      Nenek lampir pemimpin partai banteng bercula s...      hoax      0\n",
              "3      gerombolan kulup banyak menyusup ke ormas2 isl...      hoax      0\n",
              "4      M g w ti Di Panggil B4waslu:exclamation: Bvntu...      hoax      0\n",
              "...                                                  ...       ...    ...\n",
              "16839  Jakarta Wakapolda Metro Jaya Brigjen Djati Wiy...  non-hoax      1\n",
              "16840  Jakarta Lembaga survei Indikator merilis hasil...  non-hoax      1\n",
              "16841  Jakarta Lembaga survei Indikator merilis hasil...  non-hoax      1\n",
              "16842  Daftar Isi Cara Cek Quick Count Pilkada Jateng...  non-hoax      1\n",
              "16843  Daftar Isi Cara Cek Quick Count Pilkada Jateng...  non-hoax      1\n",
              "\n",
              "[16844 rows x 3 columns]"
            ],
            "text/html": [
              "\n",
              "  <div id=\"df-82e0cc97-30c5-4fef-9587-a6959acfe4eb\" class=\"colab-df-container\">\n",
              "    <div>\n",
              "<style scoped>\n",
              "    .dataframe tbody tr th:only-of-type {\n",
              "        vertical-align: middle;\n",
              "    }\n",
              "\n",
              "    .dataframe tbody tr th {\n",
              "        vertical-align: top;\n",
              "    }\n",
              "\n",
              "    .dataframe thead th {\n",
              "        text-align: right;\n",
              "    }\n",
              "</style>\n",
              "<table border=\"1\" class=\"dataframe\">\n",
              "  <thead>\n",
              "    <tr style=\"text-align: right;\">\n",
              "      <th></th>\n",
              "      <th>Text</th>\n",
              "      <th>tagging</th>\n",
              "      <th>label</th>\n",
              "    </tr>\n",
              "  </thead>\n",
              "  <tbody>\n",
              "    <tr>\n",
              "      <th>0</th>\n",
              "      <td>BISA DILIHAT SI ONTA YAMAN NGGAK PEDULI ITU AP...</td>\n",
              "      <td>hoax</td>\n",
              "      <td>0</td>\n",
              "    </tr>\n",
              "    <tr>\n",
              "      <th>1</th>\n",
              "      <td>ini bener gasih?? Ya Allah gimna keadaan pa ha...</td>\n",
              "      <td>hoax</td>\n",
              "      <td>0</td>\n",
              "    </tr>\n",
              "    <tr>\n",
              "      <th>2</th>\n",
              "      <td>Nenek lampir pemimpin partai banteng bercula s...</td>\n",
              "      <td>hoax</td>\n",
              "      <td>0</td>\n",
              "    </tr>\n",
              "    <tr>\n",
              "      <th>3</th>\n",
              "      <td>gerombolan kulup banyak menyusup ke ormas2 isl...</td>\n",
              "      <td>hoax</td>\n",
              "      <td>0</td>\n",
              "    </tr>\n",
              "    <tr>\n",
              "      <th>4</th>\n",
              "      <td>M g w ti Di Panggil B4waslu:exclamation: Bvntu...</td>\n",
              "      <td>hoax</td>\n",
              "      <td>0</td>\n",
              "    </tr>\n",
              "    <tr>\n",
              "      <th>...</th>\n",
              "      <td>...</td>\n",
              "      <td>...</td>\n",
              "      <td>...</td>\n",
              "    </tr>\n",
              "    <tr>\n",
              "      <th>16839</th>\n",
              "      <td>Jakarta Wakapolda Metro Jaya Brigjen Djati Wiy...</td>\n",
              "      <td>non-hoax</td>\n",
              "      <td>1</td>\n",
              "    </tr>\n",
              "    <tr>\n",
              "      <th>16840</th>\n",
              "      <td>Jakarta Lembaga survei Indikator merilis hasil...</td>\n",
              "      <td>non-hoax</td>\n",
              "      <td>1</td>\n",
              "    </tr>\n",
              "    <tr>\n",
              "      <th>16841</th>\n",
              "      <td>Jakarta Lembaga survei Indikator merilis hasil...</td>\n",
              "      <td>non-hoax</td>\n",
              "      <td>1</td>\n",
              "    </tr>\n",
              "    <tr>\n",
              "      <th>16842</th>\n",
              "      <td>Daftar Isi Cara Cek Quick Count Pilkada Jateng...</td>\n",
              "      <td>non-hoax</td>\n",
              "      <td>1</td>\n",
              "    </tr>\n",
              "    <tr>\n",
              "      <th>16843</th>\n",
              "      <td>Daftar Isi Cara Cek Quick Count Pilkada Jateng...</td>\n",
              "      <td>non-hoax</td>\n",
              "      <td>1</td>\n",
              "    </tr>\n",
              "  </tbody>\n",
              "</table>\n",
              "<p>16844 rows × 3 columns</p>\n",
              "</div>\n",
              "    <div class=\"colab-df-buttons\">\n",
              "\n",
              "  <div class=\"colab-df-container\">\n",
              "    <button class=\"colab-df-convert\" onclick=\"convertToInteractive('df-82e0cc97-30c5-4fef-9587-a6959acfe4eb')\"\n",
              "            title=\"Convert this dataframe to an interactive table.\"\n",
              "            style=\"display:none;\">\n",
              "\n",
              "  <svg xmlns=\"http://www.w3.org/2000/svg\" height=\"24px\" viewBox=\"0 -960 960 960\">\n",
              "    <path d=\"M120-120v-720h720v720H120Zm60-500h600v-160H180v160Zm220 220h160v-160H400v160Zm0 220h160v-160H400v160ZM180-400h160v-160H180v160Zm440 0h160v-160H620v160ZM180-180h160v-160H180v160Zm440 0h160v-160H620v160Z\"/>\n",
              "  </svg>\n",
              "    </button>\n",
              "\n",
              "  <style>\n",
              "    .colab-df-container {\n",
              "      display:flex;\n",
              "      gap: 12px;\n",
              "    }\n",
              "\n",
              "    .colab-df-convert {\n",
              "      background-color: #E8F0FE;\n",
              "      border: none;\n",
              "      border-radius: 50%;\n",
              "      cursor: pointer;\n",
              "      display: none;\n",
              "      fill: #1967D2;\n",
              "      height: 32px;\n",
              "      padding: 0 0 0 0;\n",
              "      width: 32px;\n",
              "    }\n",
              "\n",
              "    .colab-df-convert:hover {\n",
              "      background-color: #E2EBFA;\n",
              "      box-shadow: 0px 1px 2px rgba(60, 64, 67, 0.3), 0px 1px 3px 1px rgba(60, 64, 67, 0.15);\n",
              "      fill: #174EA6;\n",
              "    }\n",
              "\n",
              "    .colab-df-buttons div {\n",
              "      margin-bottom: 4px;\n",
              "    }\n",
              "\n",
              "    [theme=dark] .colab-df-convert {\n",
              "      background-color: #3B4455;\n",
              "      fill: #D2E3FC;\n",
              "    }\n",
              "\n",
              "    [theme=dark] .colab-df-convert:hover {\n",
              "      background-color: #434B5C;\n",
              "      box-shadow: 0px 1px 3px 1px rgba(0, 0, 0, 0.15);\n",
              "      filter: drop-shadow(0px 1px 2px rgba(0, 0, 0, 0.3));\n",
              "      fill: #FFFFFF;\n",
              "    }\n",
              "  </style>\n",
              "\n",
              "    <script>\n",
              "      const buttonEl =\n",
              "        document.querySelector('#df-82e0cc97-30c5-4fef-9587-a6959acfe4eb button.colab-df-convert');\n",
              "      buttonEl.style.display =\n",
              "        google.colab.kernel.accessAllowed ? 'block' : 'none';\n",
              "\n",
              "      async function convertToInteractive(key) {\n",
              "        const element = document.querySelector('#df-82e0cc97-30c5-4fef-9587-a6959acfe4eb');\n",
              "        const dataTable =\n",
              "          await google.colab.kernel.invokeFunction('convertToInteractive',\n",
              "                                                    [key], {});\n",
              "        if (!dataTable) return;\n",
              "\n",
              "        const docLinkHtml = 'Like what you see? Visit the ' +\n",
              "          '<a target=\"_blank\" href=https://colab.research.google.com/notebooks/data_table.ipynb>data table notebook</a>'\n",
              "          + ' to learn more about interactive tables.';\n",
              "        element.innerHTML = '';\n",
              "        dataTable['output_type'] = 'display_data';\n",
              "        await google.colab.output.renderOutput(dataTable, element);\n",
              "        const docLink = document.createElement('div');\n",
              "        docLink.innerHTML = docLinkHtml;\n",
              "        element.appendChild(docLink);\n",
              "      }\n",
              "    </script>\n",
              "  </div>\n",
              "\n",
              "\n",
              "<div id=\"df-b0650204-96dd-4e39-a951-9f4612f42cf4\">\n",
              "  <button class=\"colab-df-quickchart\" onclick=\"quickchart('df-b0650204-96dd-4e39-a951-9f4612f42cf4')\"\n",
              "            title=\"Suggest charts\"\n",
              "            style=\"display:none;\">\n",
              "\n",
              "<svg xmlns=\"http://www.w3.org/2000/svg\" height=\"24px\"viewBox=\"0 0 24 24\"\n",
              "     width=\"24px\">\n",
              "    <g>\n",
              "        <path d=\"M19 3H5c-1.1 0-2 .9-2 2v14c0 1.1.9 2 2 2h14c1.1 0 2-.9 2-2V5c0-1.1-.9-2-2-2zM9 17H7v-7h2v7zm4 0h-2V7h2v10zm4 0h-2v-4h2v4z\"/>\n",
              "    </g>\n",
              "</svg>\n",
              "  </button>\n",
              "\n",
              "<style>\n",
              "  .colab-df-quickchart {\n",
              "      --bg-color: #E8F0FE;\n",
              "      --fill-color: #1967D2;\n",
              "      --hover-bg-color: #E2EBFA;\n",
              "      --hover-fill-color: #174EA6;\n",
              "      --disabled-fill-color: #AAA;\n",
              "      --disabled-bg-color: #DDD;\n",
              "  }\n",
              "\n",
              "  [theme=dark] .colab-df-quickchart {\n",
              "      --bg-color: #3B4455;\n",
              "      --fill-color: #D2E3FC;\n",
              "      --hover-bg-color: #434B5C;\n",
              "      --hover-fill-color: #FFFFFF;\n",
              "      --disabled-bg-color: #3B4455;\n",
              "      --disabled-fill-color: #666;\n",
              "  }\n",
              "\n",
              "  .colab-df-quickchart {\n",
              "    background-color: var(--bg-color);\n",
              "    border: none;\n",
              "    border-radius: 50%;\n",
              "    cursor: pointer;\n",
              "    display: none;\n",
              "    fill: var(--fill-color);\n",
              "    height: 32px;\n",
              "    padding: 0;\n",
              "    width: 32px;\n",
              "  }\n",
              "\n",
              "  .colab-df-quickchart:hover {\n",
              "    background-color: var(--hover-bg-color);\n",
              "    box-shadow: 0 1px 2px rgba(60, 64, 67, 0.3), 0 1px 3px 1px rgba(60, 64, 67, 0.15);\n",
              "    fill: var(--button-hover-fill-color);\n",
              "  }\n",
              "\n",
              "  .colab-df-quickchart-complete:disabled,\n",
              "  .colab-df-quickchart-complete:disabled:hover {\n",
              "    background-color: var(--disabled-bg-color);\n",
              "    fill: var(--disabled-fill-color);\n",
              "    box-shadow: none;\n",
              "  }\n",
              "\n",
              "  .colab-df-spinner {\n",
              "    border: 2px solid var(--fill-color);\n",
              "    border-color: transparent;\n",
              "    border-bottom-color: var(--fill-color);\n",
              "    animation:\n",
              "      spin 1s steps(1) infinite;\n",
              "  }\n",
              "\n",
              "  @keyframes spin {\n",
              "    0% {\n",
              "      border-color: transparent;\n",
              "      border-bottom-color: var(--fill-color);\n",
              "      border-left-color: var(--fill-color);\n",
              "    }\n",
              "    20% {\n",
              "      border-color: transparent;\n",
              "      border-left-color: var(--fill-color);\n",
              "      border-top-color: var(--fill-color);\n",
              "    }\n",
              "    30% {\n",
              "      border-color: transparent;\n",
              "      border-left-color: var(--fill-color);\n",
              "      border-top-color: var(--fill-color);\n",
              "      border-right-color: var(--fill-color);\n",
              "    }\n",
              "    40% {\n",
              "      border-color: transparent;\n",
              "      border-right-color: var(--fill-color);\n",
              "      border-top-color: var(--fill-color);\n",
              "    }\n",
              "    60% {\n",
              "      border-color: transparent;\n",
              "      border-right-color: var(--fill-color);\n",
              "    }\n",
              "    80% {\n",
              "      border-color: transparent;\n",
              "      border-right-color: var(--fill-color);\n",
              "      border-bottom-color: var(--fill-color);\n",
              "    }\n",
              "    90% {\n",
              "      border-color: transparent;\n",
              "      border-bottom-color: var(--fill-color);\n",
              "    }\n",
              "  }\n",
              "</style>\n",
              "\n",
              "  <script>\n",
              "    async function quickchart(key) {\n",
              "      const quickchartButtonEl =\n",
              "        document.querySelector('#' + key + ' button');\n",
              "      quickchartButtonEl.disabled = true;  // To prevent multiple clicks.\n",
              "      quickchartButtonEl.classList.add('colab-df-spinner');\n",
              "      try {\n",
              "        const charts = await google.colab.kernel.invokeFunction(\n",
              "            'suggestCharts', [key], {});\n",
              "      } catch (error) {\n",
              "        console.error('Error during call to suggestCharts:', error);\n",
              "      }\n",
              "      quickchartButtonEl.classList.remove('colab-df-spinner');\n",
              "      quickchartButtonEl.classList.add('colab-df-quickchart-complete');\n",
              "    }\n",
              "    (() => {\n",
              "      let quickchartButtonEl =\n",
              "        document.querySelector('#df-b0650204-96dd-4e39-a951-9f4612f42cf4 button');\n",
              "      quickchartButtonEl.style.display =\n",
              "        google.colab.kernel.accessAllowed ? 'block' : 'none';\n",
              "    })();\n",
              "  </script>\n",
              "</div>\n",
              "\n",
              "  <div id=\"id_2a5349e7-f5b8-43aa-b7bf-9cf552e6a37d\">\n",
              "    <style>\n",
              "      .colab-df-generate {\n",
              "        background-color: #E8F0FE;\n",
              "        border: none;\n",
              "        border-radius: 50%;\n",
              "        cursor: pointer;\n",
              "        display: none;\n",
              "        fill: #1967D2;\n",
              "        height: 32px;\n",
              "        padding: 0 0 0 0;\n",
              "        width: 32px;\n",
              "      }\n",
              "\n",
              "      .colab-df-generate:hover {\n",
              "        background-color: #E2EBFA;\n",
              "        box-shadow: 0px 1px 2px rgba(60, 64, 67, 0.3), 0px 1px 3px 1px rgba(60, 64, 67, 0.15);\n",
              "        fill: #174EA6;\n",
              "      }\n",
              "\n",
              "      [theme=dark] .colab-df-generate {\n",
              "        background-color: #3B4455;\n",
              "        fill: #D2E3FC;\n",
              "      }\n",
              "\n",
              "      [theme=dark] .colab-df-generate:hover {\n",
              "        background-color: #434B5C;\n",
              "        box-shadow: 0px 1px 3px 1px rgba(0, 0, 0, 0.15);\n",
              "        filter: drop-shadow(0px 1px 2px rgba(0, 0, 0, 0.3));\n",
              "        fill: #FFFFFF;\n",
              "      }\n",
              "    </style>\n",
              "    <button class=\"colab-df-generate\" onclick=\"generateWithVariable('news_df')\"\n",
              "            title=\"Generate code using this dataframe.\"\n",
              "            style=\"display:none;\">\n",
              "\n",
              "  <svg xmlns=\"http://www.w3.org/2000/svg\" height=\"24px\"viewBox=\"0 0 24 24\"\n",
              "       width=\"24px\">\n",
              "    <path d=\"M7,19H8.4L18.45,9,17,7.55,7,17.6ZM5,21V16.75L18.45,3.32a2,2,0,0,1,2.83,0l1.4,1.43a1.91,1.91,0,0,1,.58,1.4,1.91,1.91,0,0,1-.58,1.4L9.25,21ZM18.45,9,17,7.55Zm-12,3A5.31,5.31,0,0,0,4.9,8.1,5.31,5.31,0,0,0,1,6.5,5.31,5.31,0,0,0,4.9,4.9,5.31,5.31,0,0,0,6.5,1,5.31,5.31,0,0,0,8.1,4.9,5.31,5.31,0,0,0,12,6.5,5.46,5.46,0,0,0,6.5,12Z\"/>\n",
              "  </svg>\n",
              "    </button>\n",
              "    <script>\n",
              "      (() => {\n",
              "      const buttonEl =\n",
              "        document.querySelector('#id_2a5349e7-f5b8-43aa-b7bf-9cf552e6a37d button.colab-df-generate');\n",
              "      buttonEl.style.display =\n",
              "        google.colab.kernel.accessAllowed ? 'block' : 'none';\n",
              "\n",
              "      buttonEl.onclick = () => {\n",
              "        google.colab.notebook.generateWithVariable('news_df');\n",
              "      }\n",
              "      })();\n",
              "    </script>\n",
              "  </div>\n",
              "\n",
              "    </div>\n",
              "  </div>\n"
            ],
            "application/vnd.google.colaboratory.intrinsic+json": {
              "type": "dataframe",
              "variable_name": "news_df",
              "summary": "{\n  \"name\": \"news_df\",\n  \"rows\": 16844,\n  \"fields\": [\n    {\n      \"column\": \"Text\",\n      \"properties\": {\n        \"dtype\": \"category\",\n        \"num_unique_values\": 6794,\n        \"samples\": [\n          \"Mana komnas HAM ?Aparat di bacok FPI ?\",\n          \"Narasi postingan: Di taruh mana muka Ridwan saidi Narasi pada gambar: Pak Jokowi hanya mempraktekkan ajaran yang beliau anut, Balaslah keburukan dengan kebaikan. SIBUK MENGHITUNG DOSA PAK JOKOWI, MALAH DIBALAS DENGAN PEMBERIAN PENGHARGAAN. ITULAH AKHLAK SEORANG PRESIDEN JOKOWI Penjelasan: Akun Facebook Sam Budi membagikan gambar yang berisikan tangkapan layar pemberitaan dengan judul Ini Dosa-Dosa Jokowi di Mata Ridwan Saidi disandingan dengan foto Ridwan Saidi mendapat penghargaan dari Presiden Joko Widodo. Dalam gambar tersebut terdapat narasi SIBUK MENGHITUNG DOSA PAK JOKOWI, MALAH DIBALAS DENGAN PEMBERIAN PENGHARGAAN. ITULAH AKHLAK SEORANG PRESIDEN JOKOWI. Berdasarkan hasil penelusuran, diketahui bahwa foto Ridwan Saidi mendapat penghargaan dalam gambar tersebut hasil suntingan dari dua foto yang berasal dari antarafoto.com. Foto pertama ialah foto Ketua Mahkamah Agung periode 2009-2012 Harifin Andi Tumpa mendapatkan tanda kehormatan Bintang Mahaputera Utama di Istana Negara Jakarta, Kamis 15 Agustus 2019. Foto tersebut merupakan karya fotografi dari Wahyu Putro A dari antarafoto. Lalu, foto kedua ialah foto Ridwan Saidi saat menghadiri Diskusi Polemik bertajuk Kata Survey, Partai Islam Melorot, di Jakarta, Sabtu pada 20 Oktober 2012. Foto tersebut merupakan hasil karya Rosa Panggabean dari antarafoto. Melalui penelusuran lebih lanjut, penghargaan yang pernah diraih oleh Ridwan Saidi kisaran tahun 1971 hingga terakhir 2008. Berikut beberapa penghargaan kepada Ridwan Saidi yang dilansir dari merdeka.com: [ ] Karya Penerbitan: Golkar Pascapemilu 1992, 1993 Anak Betawi Diburu Intel Yahudi, 1996 Profil Orang Betawi: Asal muasal, kebudayaan, dan adat istiadatnya, 1997 Status Piagam Jakarta: Tinjauan hukum dan sejarah, 2007 Fakta dan Data Yahudi di Indonesia, 2008 Kegiatan Lain: White House Conference on Youth, Colorado, Amerika Serikat, 1971 Australia-Indonesia Dialogue, Canberra, Australia, 1981 International Parliament Union Conference, Manila, Filipina, 1982 ASEAN Parliament Conference, Singapura, 1983 Muktamar Rakyat Islam se-Dunia, Irak, 1993 Babylonian Cultural Festival, Irak, 1994 [ ] Berdasarkan penjelasan tersebut, maka konten yang dibagikan akun Facebook Sam Budi masuk ke dalam kategori Manipulated Content atau Konten yang Dimanipulasi. Referensi: https://web.facebook.com/groups/fafhh/permalink/1279392082393324/ https://www.antarafoto.com/seni-budaya/v1565857206/penganugerahan-tanda-gelar-kehormatan https://www.antarafoto.com/mudik/v1350712201/ridwan-saidi https://www.merdeka.com/ridwan-saidi/profil/\",\n          \"1. Narasi Akun Agung Dharma Putra: Duh Gusti Allah Kasihan Yach Indonesia Negara Ku .,Sampai Gak Di Hargain Sama Negara Asing,Mau Marah Sama Media Asing/Negara Asing Lha Wong Memang Fakta Dan Nyatanya Bener Oon ?Jadi Aku Kon Kepiye Jal Membalas Hinaan Bangsa Asing Yang Menghina Junjungan IQ200Sekolam,Kecebong Dan Projok,Menurut Kalian Piye Jal..!?? 2. Narasi dalam foto: Jokowi dikatakan seperti anak kecil dan bodoh oleh media luar.\"\n        ],\n        \"semantic_type\": \"\",\n        \"description\": \"\"\n      }\n    },\n    {\n      \"column\": \"tagging\",\n      \"properties\": {\n        \"dtype\": \"category\",\n        \"num_unique_values\": 2,\n        \"samples\": [\n          \"non-hoax\",\n          \"hoax\"\n        ],\n        \"semantic_type\": \"\",\n        \"description\": \"\"\n      }\n    },\n    {\n      \"column\": \"label\",\n      \"properties\": {\n        \"dtype\": \"number\",\n        \"std\": 0,\n        \"min\": 0,\n        \"max\": 1,\n        \"num_unique_values\": 2,\n        \"samples\": [\n          1,\n          0\n        ],\n        \"semantic_type\": \"\",\n        \"description\": \"\"\n      }\n    }\n  ]\n}"
            }
          },
          "metadata": {},
          "execution_count": 13
        }
      ]
    },
    {
      "cell_type": "markdown",
      "source": [
        "# Bagi dataset jadi data train dan test"
      ],
      "metadata": {
        "id": "yxjpI8MoSFp_"
      }
    },
    {
      "cell_type": "code",
      "source": [
        "# Mengambil kolom 'Text' sebagai fitur (fitur teks berita)\n",
        "features = news_df['Text']  # Fitur (berita teks) yang akan digunakan dalam model\n",
        "\n",
        "# Mengambil kolom 'label' sebagai target (label berita hoax atau nyata)\n",
        "targets = news_df['label']  # Target (label) yang menunjukkan apakah berita hoax (0) atau nyata (1)\n",
        "\n",
        "# Membagi dataset menjadi data latih (train) dan data uji (test) dengan proporsi 80% untuk data latih dan 20% untuk data uji\n",
        "X_train, X_test, y_train, y_test = train_test_split(features, targets, test_size=0.20, random_state=18)\n",
        "# - X_train: Fitur untuk data latih\n",
        "# - X_test: Fitur untuk data uji\n",
        "# - y_train: Target untuk data latih\n",
        "# - y_test: Target untuk data uji\n",
        "# test_size=0.20 berarti 20% data akan digunakan untuk pengujian dan sisanya untuk pelatihan\n",
        "# random_state=18 digunakan untuk memastikan pembagian data yang konsisten setiap kali kode dijalankan"
      ],
      "metadata": {
        "id": "3kxbnErAha-T"
      },
      "execution_count": null,
      "outputs": []
    },
    {
      "cell_type": "markdown",
      "source": [
        "# Fungsi pembersihan anomali text"
      ],
      "metadata": {
        "id": "gxxJwWU0SPb_"
      }
    },
    {
      "cell_type": "code",
      "source": [
        "# Fungsi untuk menormalkan (membersihkan) teks\n",
        "def normalize(data):\n",
        "    normalized = []  # Membuat list kosong untuk menyimpan hasil teks yang sudah dinormalisasi\n",
        "    for i in data:\n",
        "        i = i.lower()  # Mengubah semua huruf menjadi huruf kecil\n",
        "\n",
        "        # Menghilangkan URL (alamat situs web)\n",
        "        i = re.sub('https?://\\S+|www\\.\\S+', '', i)\n",
        "\n",
        "        # Menghilangkan karakter non-kata dan mengganti dengan spasi (seperti tanda baca dan simbol)\n",
        "        i = re.sub('\\\\W', ' ', i)\n",
        "\n",
        "        # Menghilangkan karakter newline\n",
        "        i = re.sub('\\n', '', i)\n",
        "\n",
        "        # Mengganti spasi ekstra yang lebih dari satu dengan satu spasi\n",
        "        i = re.sub(' +', ' ', i)\n",
        "\n",
        "        # Menghilangkan spasi di awal teks\n",
        "        i = re.sub('^ ', '', i)\n",
        "\n",
        "        # Menghilangkan spasi di akhir teks\n",
        "        i = re.sub(' $', '', i)\n",
        "\n",
        "        normalized.append(i)  # Menambahkan teks yang sudah dinormalisasi ke list\n",
        "    return normalized  # Mengembalikan hasil teks yang sudah dibersihkan\n",
        "\n",
        "# Menerapkan normalisasi pada data latih (X_train) dan data uji (X_test)\n",
        "X_train = normalize(X_train)  # Menormalkan teks pada data latih\n",
        "X_test = normalize(X_test)  # Menormalkan teks pada data uji"
      ],
      "metadata": {
        "id": "h3OwQS96hjXL"
      },
      "execution_count": null,
      "outputs": []
    },
    {
      "cell_type": "markdown",
      "source": [
        "# Membuat tokenizer"
      ],
      "metadata": {
        "id": "Kj5b71gVShtA"
      }
    },
    {
      "cell_type": "code",
      "source": [
        "# Menentukan batas maksimum jumlah kata (vocabulary) yang akan digunakan oleh tokenizer\n",
        "max_vocab = 10000  # Hanya mempertimbangkan 10.000 kata yang paling sering muncul\n",
        "\n",
        "# Membuat objek Tokenizer untuk memetakan kata-kata menjadi indeks berdasarkan frekuensinya\n",
        "tokenizer = Tokenizer(num_words=max_vocab)  # 'num_words' menentukan jumlah maksimal kata yang akan dipertimbangkan\n",
        "\n",
        "# Melatih tokenizer untuk memahami teks yang ada pada data latih (X_train)\n",
        "tokenizer.fit_on_texts(X_train)  # Tokenizer akan mempelajari teks pada X_train dan membuat kamus (vocabulary)"
      ],
      "metadata": {
        "id": "WYBg9wNbhmCN"
      },
      "execution_count": null,
      "outputs": []
    },
    {
      "cell_type": "markdown",
      "source": [
        "# Ubah text jadi data train dan data test"
      ],
      "metadata": {
        "id": "SGIpjVshSr6g"
      }
    },
    {
      "cell_type": "code",
      "source": [
        "# Mengubah teks dalam data latih (X_train) menjadi urutan angka (token) berdasarkan vocabulary yang sudah dibuat\n",
        "X_train = tokenizer.texts_to_sequences(X_train)  # Mengubah teks X_train menjadi urutan token (angka)\n",
        "\n",
        "# Mengubah teks dalam data uji (X_test) menjadi urutan angka (token) berdasarkan vocabulary yang sudah dibuat\n",
        "X_test = tokenizer.texts_to_sequences(X_test)  # Mengubah teks X_test menjadi urutan token (angka)"
      ],
      "metadata": {
        "id": "oRgJ8JwxhoVT"
      },
      "execution_count": null,
      "outputs": []
    },
    {
      "cell_type": "markdown",
      "source": [
        "# Config panjang text data train dan test"
      ],
      "metadata": {
        "id": "4uRRL21XS2C3"
      }
    },
    {
      "cell_type": "code",
      "source": [
        "# Menyelaraskan panjang urutan teks pada data latih (X_train) agar semua urutan memiliki panjang yang sama\n",
        "X_train = tf.keras.preprocessing.sequence.pad_sequences(X_train, padding='post', maxlen=256)\n",
        "# - 'padding='post'' berarti penambahan (padding) dilakukan setelah urutan teks.\n",
        "# - 'maxlen=256' berarti panjang maksimum urutan teks dibatasi menjadi 256 kata (jika teks lebih pendek, akan ditambahkan padding; jika lebih panjang, akan dipotong).\n",
        "\n",
        "# Menyelaraskan panjang urutan teks pada data uji (X_test) agar semua urutan memiliki panjang yang sama\n",
        "X_test = tf.keras.preprocessing.sequence.pad_sequences(X_test, padding='post', maxlen=256)\n",
        "# - Sama seperti pada X_train, teks pada X_test akan diselaraskan panjangnya hingga 256 kata."
      ],
      "metadata": {
        "id": "R4rQgREAhqyS"
      },
      "execution_count": null,
      "outputs": []
    },
    {
      "cell_type": "code",
      "source": [
        "print(X_train.shape)  # Pastikan output ini sesuai dengan model Anda\n",
        "print(y_train.shape)\n"
      ],
      "metadata": {
        "colab": {
          "base_uri": "https://localhost:8080/"
        },
        "id": "_AMTWnV2ifWd",
        "outputId": "efe7918b-80a4-44e5-a4f6-40c64f520540"
      },
      "execution_count": null,
      "outputs": [
        {
          "output_type": "stream",
          "name": "stdout",
          "text": [
            "(13475, 256)\n",
            "(13475,)\n"
          ]
        }
      ]
    },
    {
      "cell_type": "markdown",
      "source": [
        "# Membangun model Sequential"
      ],
      "metadata": {
        "id": "pUXaKnnHTEKP"
      }
    },
    {
      "cell_type": "code",
      "source": [
        "# Membangun model Sequential dengan beberapa lapisan untuk klasifikasi teks\n",
        "model = tf.keras.Sequential([  # Model sequential, artinya lapisan-lapisan akan ditambahkan secara berurutan\n",
        "\n",
        "    # Lapisan embedding untuk mengubah token angka menjadi vektor embedding\n",
        "    tf.keras.layers.Embedding(max_vocab, 128),  # 'max_vocab' adalah jumlah kata dalam vocabulary, '128' adalah dimensi vektor embedding\n",
        "\n",
        "    # Lapisan LSTM dua arah pertama (Bidirectional LSTM)\n",
        "    tf.keras.layers.Bidirectional(tf.keras.layers.LSTM(64, return_sequences=True)),  # LSTM dengan 64 unit, dan outputnya berupa urutan (return_sequences=True)\n",
        "\n",
        "    # Lapisan LSTM dua arah kedua (Bidirectional LSTM)\n",
        "    tf.keras.layers.Bidirectional(tf.keras.layers.LSTM(16)),  # LSTM dengan 16 unit, hanya output akhir yang diambil (return_sequences=False secara default)\n",
        "\n",
        "    # Lapisan Dense untuk melakukan pemrosesan selanjutnya setelah LSTM\n",
        "    tf.keras.layers.Dense(64, activation='relu'),  # Lapisan Dense dengan 64 unit dan fungsi aktivasi ReLU untuk non-linearitas\n",
        "\n",
        "    # Lapisan Dropout untuk mencegah overfitting\n",
        "    tf.keras.layers.Dropout(0.5),  # Dropout dengan rate 0.5 untuk mengurangi kemungkinan overfitting\n",
        "\n",
        "    # Lapisan Dense output untuk klasifikasi\n",
        "    tf.keras.layers.Dense(1)  # Lapisan Dense dengan 1 unit (output), untuk output klasifikasi biner (0 atau 1)\n",
        "])"
      ],
      "metadata": {
        "id": "faFDFMyWfLcz"
      },
      "execution_count": null,
      "outputs": []
    },
    {
      "cell_type": "markdown",
      "source": [
        "# Training model"
      ],
      "metadata": {
        "id": "QshVqfpKTPFo"
      }
    },
    {
      "cell_type": "code",
      "source": [
        "early_stop = tf.keras.callbacks.EarlyStopping(monitor='val_loss', patience=2, restore_best_weights=True)\n",
        "model.compile(loss=tf.keras.losses.BinaryCrossentropy(from_logits=True),\n",
        "              optimizer=tf.keras.optimizers.Adam(1e-4),\n",
        "              metrics=['accuracy'])\n",
        "\n",
        "history = model.fit(X_train, y_train, epochs=4,validation_split=0.1, batch_size=30, shuffle=True, callbacks=[early_stop])"
      ],
      "metadata": {
        "colab": {
          "base_uri": "https://localhost:8080/"
        },
        "id": "xDcc2bWjht9h",
        "outputId": "4fbb03c0-5fed-443e-b587-9613f8ae0e00"
      },
      "execution_count": null,
      "outputs": [
        {
          "output_type": "stream",
          "name": "stdout",
          "text": [
            "Epoch 1/4\n",
            "\u001b[1m405/405\u001b[0m \u001b[32m━━━━━━━━━━━━━━━━━━━━\u001b[0m\u001b[37m\u001b[0m \u001b[1m305s\u001b[0m 726ms/step - accuracy: 0.6501 - loss: 0.4495 - val_accuracy: 0.9889 - val_loss: 0.0609\n",
            "Epoch 2/4\n",
            "\u001b[1m405/405\u001b[0m \u001b[32m━━━━━━━━━━━━━━━━━━━━\u001b[0m\u001b[37m\u001b[0m \u001b[1m250s\u001b[0m 549ms/step - accuracy: 0.9939 - loss: 0.0443 - val_accuracy: 0.9948 - val_loss: 0.0246\n",
            "Epoch 3/4\n",
            "\u001b[1m405/405\u001b[0m \u001b[32m━━━━━━━━━━━━━━━━━━━━\u001b[0m\u001b[37m\u001b[0m \u001b[1m262s\u001b[0m 547ms/step - accuracy: 0.9973 - loss: 0.0164 - val_accuracy: 0.9955 - val_loss: 0.0155\n",
            "Epoch 4/4\n",
            "\u001b[1m405/405\u001b[0m \u001b[32m━━━━━━━━━━━━━━━━━━━━\u001b[0m\u001b[37m\u001b[0m \u001b[1m262s\u001b[0m 547ms/step - accuracy: 0.9991 - loss: 0.0060 - val_accuracy: 0.9970 - val_loss: 0.0123\n"
          ]
        }
      ]
    },
    {
      "cell_type": "markdown",
      "source": [
        "# Menampilkan arsitektur Model"
      ],
      "metadata": {
        "id": "HHsYc5KkTX3v"
      }
    },
    {
      "cell_type": "code",
      "source": [
        "model.summary()  # Menampilkan ringkasan arsitektur model"
      ],
      "metadata": {
        "colab": {
          "base_uri": "https://localhost:8080/",
          "height": 367
        },
        "id": "uRSbY10nrlzT",
        "outputId": "a09e1f12-3f68-433d-a855-2933f5c0d6de"
      },
      "execution_count": null,
      "outputs": [
        {
          "output_type": "display_data",
          "data": {
            "text/plain": [
              "\u001b[1mModel: \"sequential_2\"\u001b[0m\n"
            ],
            "text/html": [
              "<pre style=\"white-space:pre;overflow-x:auto;line-height:normal;font-family:Menlo,'DejaVu Sans Mono',consolas,'Courier New',monospace\"><span style=\"font-weight: bold\">Model: \"sequential_2\"</span>\n",
              "</pre>\n"
            ]
          },
          "metadata": {}
        },
        {
          "output_type": "display_data",
          "data": {
            "text/plain": [
              "┏━━━━━━━━━━━━━━━━━━━━━━━━━━━━━━━━━━━━━━┳━━━━━━━━━━━━━━━━━━━━━━━━━━━━━┳━━━━━━━━━━━━━━━━━┓\n",
              "┃\u001b[1m \u001b[0m\u001b[1mLayer (type)                        \u001b[0m\u001b[1m \u001b[0m┃\u001b[1m \u001b[0m\u001b[1mOutput Shape               \u001b[0m\u001b[1m \u001b[0m┃\u001b[1m \u001b[0m\u001b[1m        Param #\u001b[0m\u001b[1m \u001b[0m┃\n",
              "┡━━━━━━━━━━━━━━━━━━━━━━━━━━━━━━━━━━━━━━╇━━━━━━━━━━━━━━━━━━━━━━━━━━━━━╇━━━━━━━━━━━━━━━━━┩\n",
              "│ embedding_2 (\u001b[38;5;33mEmbedding\u001b[0m)              │ (\u001b[38;5;45mNone\u001b[0m, \u001b[38;5;34m256\u001b[0m, \u001b[38;5;34m128\u001b[0m)            │       \u001b[38;5;34m1,280,000\u001b[0m │\n",
              "├──────────────────────────────────────┼─────────────────────────────┼─────────────────┤\n",
              "│ bidirectional_2 (\u001b[38;5;33mBidirectional\u001b[0m)      │ (\u001b[38;5;45mNone\u001b[0m, \u001b[38;5;34m256\u001b[0m, \u001b[38;5;34m128\u001b[0m)            │          \u001b[38;5;34m98,816\u001b[0m │\n",
              "├──────────────────────────────────────┼─────────────────────────────┼─────────────────┤\n",
              "│ bidirectional_3 (\u001b[38;5;33mBidirectional\u001b[0m)      │ (\u001b[38;5;45mNone\u001b[0m, \u001b[38;5;34m32\u001b[0m)                  │          \u001b[38;5;34m18,560\u001b[0m │\n",
              "├──────────────────────────────────────┼─────────────────────────────┼─────────────────┤\n",
              "│ dense_3 (\u001b[38;5;33mDense\u001b[0m)                      │ (\u001b[38;5;45mNone\u001b[0m, \u001b[38;5;34m64\u001b[0m)                  │           \u001b[38;5;34m2,112\u001b[0m │\n",
              "├──────────────────────────────────────┼─────────────────────────────┼─────────────────┤\n",
              "│ dropout_1 (\u001b[38;5;33mDropout\u001b[0m)                  │ (\u001b[38;5;45mNone\u001b[0m, \u001b[38;5;34m64\u001b[0m)                  │               \u001b[38;5;34m0\u001b[0m │\n",
              "├──────────────────────────────────────┼─────────────────────────────┼─────────────────┤\n",
              "│ dense_4 (\u001b[38;5;33mDense\u001b[0m)                      │ (\u001b[38;5;45mNone\u001b[0m, \u001b[38;5;34m1\u001b[0m)                   │              \u001b[38;5;34m65\u001b[0m │\n",
              "└──────────────────────────────────────┴─────────────────────────────┴─────────────────┘\n"
            ],
            "text/html": [
              "<pre style=\"white-space:pre;overflow-x:auto;line-height:normal;font-family:Menlo,'DejaVu Sans Mono',consolas,'Courier New',monospace\">┏━━━━━━━━━━━━━━━━━━━━━━━━━━━━━━━━━━━━━━┳━━━━━━━━━━━━━━━━━━━━━━━━━━━━━┳━━━━━━━━━━━━━━━━━┓\n",
              "┃<span style=\"font-weight: bold\"> Layer (type)                         </span>┃<span style=\"font-weight: bold\"> Output Shape                </span>┃<span style=\"font-weight: bold\">         Param # </span>┃\n",
              "┡━━━━━━━━━━━━━━━━━━━━━━━━━━━━━━━━━━━━━━╇━━━━━━━━━━━━━━━━━━━━━━━━━━━━━╇━━━━━━━━━━━━━━━━━┩\n",
              "│ embedding_2 (<span style=\"color: #0087ff; text-decoration-color: #0087ff\">Embedding</span>)              │ (<span style=\"color: #00d7ff; text-decoration-color: #00d7ff\">None</span>, <span style=\"color: #00af00; text-decoration-color: #00af00\">256</span>, <span style=\"color: #00af00; text-decoration-color: #00af00\">128</span>)            │       <span style=\"color: #00af00; text-decoration-color: #00af00\">1,280,000</span> │\n",
              "├──────────────────────────────────────┼─────────────────────────────┼─────────────────┤\n",
              "│ bidirectional_2 (<span style=\"color: #0087ff; text-decoration-color: #0087ff\">Bidirectional</span>)      │ (<span style=\"color: #00d7ff; text-decoration-color: #00d7ff\">None</span>, <span style=\"color: #00af00; text-decoration-color: #00af00\">256</span>, <span style=\"color: #00af00; text-decoration-color: #00af00\">128</span>)            │          <span style=\"color: #00af00; text-decoration-color: #00af00\">98,816</span> │\n",
              "├──────────────────────────────────────┼─────────────────────────────┼─────────────────┤\n",
              "│ bidirectional_3 (<span style=\"color: #0087ff; text-decoration-color: #0087ff\">Bidirectional</span>)      │ (<span style=\"color: #00d7ff; text-decoration-color: #00d7ff\">None</span>, <span style=\"color: #00af00; text-decoration-color: #00af00\">32</span>)                  │          <span style=\"color: #00af00; text-decoration-color: #00af00\">18,560</span> │\n",
              "├──────────────────────────────────────┼─────────────────────────────┼─────────────────┤\n",
              "│ dense_3 (<span style=\"color: #0087ff; text-decoration-color: #0087ff\">Dense</span>)                      │ (<span style=\"color: #00d7ff; text-decoration-color: #00d7ff\">None</span>, <span style=\"color: #00af00; text-decoration-color: #00af00\">64</span>)                  │           <span style=\"color: #00af00; text-decoration-color: #00af00\">2,112</span> │\n",
              "├──────────────────────────────────────┼─────────────────────────────┼─────────────────┤\n",
              "│ dropout_1 (<span style=\"color: #0087ff; text-decoration-color: #0087ff\">Dropout</span>)                  │ (<span style=\"color: #00d7ff; text-decoration-color: #00d7ff\">None</span>, <span style=\"color: #00af00; text-decoration-color: #00af00\">64</span>)                  │               <span style=\"color: #00af00; text-decoration-color: #00af00\">0</span> │\n",
              "├──────────────────────────────────────┼─────────────────────────────┼─────────────────┤\n",
              "│ dense_4 (<span style=\"color: #0087ff; text-decoration-color: #0087ff\">Dense</span>)                      │ (<span style=\"color: #00d7ff; text-decoration-color: #00d7ff\">None</span>, <span style=\"color: #00af00; text-decoration-color: #00af00\">1</span>)                   │              <span style=\"color: #00af00; text-decoration-color: #00af00\">65</span> │\n",
              "└──────────────────────────────────────┴─────────────────────────────┴─────────────────┘\n",
              "</pre>\n"
            ]
          },
          "metadata": {}
        },
        {
          "output_type": "display_data",
          "data": {
            "text/plain": [
              "\u001b[1m Total params: \u001b[0m\u001b[38;5;34m4,198,661\u001b[0m (16.02 MB)\n"
            ],
            "text/html": [
              "<pre style=\"white-space:pre;overflow-x:auto;line-height:normal;font-family:Menlo,'DejaVu Sans Mono',consolas,'Courier New',monospace\"><span style=\"font-weight: bold\"> Total params: </span><span style=\"color: #00af00; text-decoration-color: #00af00\">4,198,661</span> (16.02 MB)\n",
              "</pre>\n"
            ]
          },
          "metadata": {}
        },
        {
          "output_type": "display_data",
          "data": {
            "text/plain": [
              "\u001b[1m Trainable params: \u001b[0m\u001b[38;5;34m1,399,553\u001b[0m (5.34 MB)\n"
            ],
            "text/html": [
              "<pre style=\"white-space:pre;overflow-x:auto;line-height:normal;font-family:Menlo,'DejaVu Sans Mono',consolas,'Courier New',monospace\"><span style=\"font-weight: bold\"> Trainable params: </span><span style=\"color: #00af00; text-decoration-color: #00af00\">1,399,553</span> (5.34 MB)\n",
              "</pre>\n"
            ]
          },
          "metadata": {}
        },
        {
          "output_type": "display_data",
          "data": {
            "text/plain": [
              "\u001b[1m Non-trainable params: \u001b[0m\u001b[38;5;34m0\u001b[0m (0.00 B)\n"
            ],
            "text/html": [
              "<pre style=\"white-space:pre;overflow-x:auto;line-height:normal;font-family:Menlo,'DejaVu Sans Mono',consolas,'Courier New',monospace\"><span style=\"font-weight: bold\"> Non-trainable params: </span><span style=\"color: #00af00; text-decoration-color: #00af00\">0</span> (0.00 B)\n",
              "</pre>\n"
            ]
          },
          "metadata": {}
        },
        {
          "output_type": "display_data",
          "data": {
            "text/plain": [
              "\u001b[1m Optimizer params: \u001b[0m\u001b[38;5;34m2,799,108\u001b[0m (10.68 MB)\n"
            ],
            "text/html": [
              "<pre style=\"white-space:pre;overflow-x:auto;line-height:normal;font-family:Menlo,'DejaVu Sans Mono',consolas,'Courier New',monospace\"><span style=\"font-weight: bold\"> Optimizer params: </span><span style=\"color: #00af00; text-decoration-color: #00af00\">2,799,108</span> (10.68 MB)\n",
              "</pre>\n"
            ]
          },
          "metadata": {}
        }
      ]
    },
    {
      "cell_type": "markdown",
      "source": [
        "# Visualisasi hasil training"
      ],
      "metadata": {
        "id": "UxbvarJCTdfY"
      }
    },
    {
      "source": [
        "import matplotlib.pyplot as plt  # Mengimpor pustaka untuk visualisasi data\n",
        "\n",
        "# Mengambil metrik pelatihan dan validasi dari objek history\n",
        "epochs = range(1, len(history.history['accuracy']) + 1)  # Mengambil jumlah epoch\n",
        "loss = history.history['loss']  # Mendapatkan nilai loss untuk data latih\n",
        "val_loss = history.history['val_loss']  # Mendapatkan nilai loss untuk data validasi\n",
        "acc = history.history['accuracy']  # Mendapatkan akurasi untuk data latih\n",
        "val_acc = history.history['val_accuracy']  # Mendapatkan akurasi untuk data validasi\n",
        "\n",
        "# Membuat figure dengan 1 baris dan 2 kolom untuk subplot\n",
        "plt.figure(figsize=(12, 4))  # Ukuran plot lebih lebar dan lebih rendah\n",
        "\n",
        "# Plot Training and Validation Loss\n",
        "plt.subplot(1, 2, 1)  # Subplot pertama (di kiri)\n",
        "plt.plot(epochs, loss, 'r', label='Training loss')  # Plot loss untuk pelatihan dengan warna merah\n",
        "plt.plot(epochs, val_loss, 'b', label='Validation loss')  # Plot loss untuk validasi dengan warna biru\n",
        "plt.title('Training and validation loss', size=14)  # Judul plot\n",
        "plt.xlabel('Epochs', size=12)  # Label sumbu x (Epochs)\n",
        "plt.ylabel('Loss', size=12)  # Label sumbu y (Loss)\n",
        "plt.legend(prop={'size': 12})  # Menampilkan legenda dengan ukuran font lebih kecil\n",
        "\n",
        "# Plot Training and Validation Accuracy\n",
        "plt.subplot(1, 2, 2)  # Subplot kedua (di kanan)\n",
        "plt.plot(epochs, acc, 'g', label='Training acc')  # Plot akurasi untuk pelatihan dengan warna hijau\n",
        "plt.plot(epochs, val_acc, 'b', label='Validation acc')  # Plot akurasi untuk validasi dengan warna biru\n",
        "plt.title('Training and validation accuracy', size=14)  # Judul plot\n",
        "plt.xlabel('Epochs', size=12)  # Label sumbu x (Epochs)\n",
        "plt.ylabel('Accuracy', size=12)  # Label sumbu y (Akurasi)\n",
        "plt.legend(prop={'size': 12})  # Menampilkan legenda dengan ukuran font lebih kecil\n",
        "plt.ylim((0.5, 1))  # Menentukan batas untuk sumbu y antara 0.5 dan 1 (agar lebih fokus pada akurasi yang lebih tinggi)\n",
        "\n",
        "# Tampilkan semua plot dalam satu tampilan\n",
        "plt.tight_layout()  # Mengatur agar elemen-elemen dalam plot tidak bertumpuk\n",
        "plt.show()  # Menampilkan plot"
      ],
      "cell_type": "code",
      "metadata": {
        "colab": {
          "base_uri": "https://localhost:8080/",
          "height": 407
        },
        "id": "L17cG7MBgkAe",
        "outputId": "dbf36202-b1d8-4fb2-e140-2834279234a1"
      },
      "execution_count": null,
      "outputs": [
        {
          "output_type": "display_data",
          "data": {
            "text/plain": [
              "<Figure size 1200x400 with 2 Axes>"
            ],
            "image/png": "[encoded data removed]"
          },
          "metadata": {}
        }
      ]
    },
    {
      "cell_type": "markdown",
      "source": [
        "# Evaluasi model"
      ],
      "metadata": {
        "id": "LNXFwJlGTvBY"
      }
    },
    {
      "cell_type": "code",
      "source": [
        "model.evaluate(X_test, y_test)  # Evaluasi model pada data uji dan menampilkan hasilnya\n"
      ],
      "metadata": {
        "colab": {
          "base_uri": "https://localhost:8080/"
        },
        "id": "dzcL0CXCoa0S",
        "outputId": "52b9ad07-66dd-45b5-c8cd-47f2da722087"
      },
      "execution_count": null,
      "outputs": [
        {
          "output_type": "stream",
          "name": "stdout",
          "text": [
            "\u001b[1m106/106\u001b[0m \u001b[32m━━━━━━━━━━━━━━━━━━━━\u001b[0m\u001b[37m\u001b[0m \u001b[1m14s\u001b[0m 128ms/step - accuracy: 0.9979 - loss: 0.0075\n"
          ]
        },
        {
          "output_type": "execute_result",
          "data": {
            "text/plain": [
              "[0.010592962615191936, 0.9979222416877747]"
            ]
          },
          "metadata": {},
          "execution_count": 24
        }
      ]
    },
    {
      "cell_type": "markdown",
      "source": [
        "# Uji coba prediksi"
      ],
      "metadata": {
        "id": "1GFgp40MT-Hm"
      }
    },
    {
      "cell_type": "code",
      "source": [
        "# Melakukan prediksi pada data uji (X_test) menggunakan model yang telah dilatih\n",
        "pred = model.predict(X_test)  # Hasil prediksi berupa probabilitas (logits) untuk setiap contoh dalam data uji\n",
        "\n",
        "# Membuat list untuk menyimpan prediksi biner (0 atau 1)\n",
        "binary_predictions = []  # List kosong yang akan menyimpan hasil prediksi dalam bentuk biner\n",
        "\n",
        "# Mengubah prediksi probabilitas menjadi prediksi biner\n",
        "for i in pred:  # Iterasi untuk setiap prediksi pada data uji\n",
        "    if i >= 0.5:  # Jika probabilitas lebih besar atau sama dengan 0.5, prediksi dianggap '1' (berita nyata)\n",
        "        binary_predictions.append(1)\n",
        "    else:  # Jika probabilitas lebih kecil dari 0.5, prediksi dianggap '0' (berita hoax)\n",
        "        binary_predictions.append(0)\n",
        "\n",
        "# binary_predictions sekarang berisi daftar hasil prediksi biner (0 atau 1) untuk setiap contoh di X_test"
      ],
      "metadata": {
        "colab": {
          "base_uri": "https://localhost:8080/"
        },
        "id": "8QC8jEy1pNTe",
        "outputId": "0d997639-8dfc-4385-d7b0-559ed56611ec"
      },
      "execution_count": null,
      "outputs": [
        {
          "output_type": "stream",
          "name": "stdout",
          "text": [
            "\u001b[1m106/106\u001b[0m \u001b[32m━━━━━━━━━━━━━━━━━━━━\u001b[0m\u001b[37m\u001b[0m \u001b[1m14s\u001b[0m 131ms/step\n"
          ]
        }
      ]
    },
    {
      "source": [
        "def predict_news(model, tokenizer, text, threshold=0.5):\n",
        "    \"\"\"\n",
        "    Fungsi untuk memprediksi apakah berita hoax atau fakta, dengan probabilitas untuk kedua kategori.\n",
        "    Args:\n",
        "        model: Model machine learning yang telah dilatih.\n",
        "        tokenizer: Tokenizer yang digunakan untuk memproses teks.\n",
        "        text: String, berita yang ingin diprediksi.\n",
        "        threshold: Batas probabilitas untuk klasifikasi (default 0.5).\n",
        "    Returns:\n",
        "        result: Kategori berita (Hoax/Fakta) dan probabilitasnya.\n",
        "    \"\"\"\n",
        "    # Tokenisasi input teks menggunakan texts_to_sequences\n",
        "    sequences = tokenizer.texts_to_sequences([text])\n",
        "    inputs = tf.keras.preprocessing.sequence.pad_sequences(sequences, maxlen=42, padding='post', truncating='post')\n",
        "\n",
        "    # Reshape inputs to have the correct dimensions for the model\n",
        "    inputs = inputs.reshape(1, inputs.shape[1])  # Reshape to (1, 42)\n",
        "\n",
        "    # Melakukan prediksi\n",
        "    pred = model.predict(inputs)\n",
        "\n",
        "    # Mendapatkan probabilitas (menggunakan sigmoid jika output belum diproses)\n",
        "    prob = tf.nn.sigmoid(pred).numpy()[0][0]\n",
        "\n",
        "    # Probabilitas untuk masing-masing kategori\n",
        "    prob_hoax = 1 - prob\n",
        "    prob_fakta = prob\n",
        "\n",
        "    # Menentukan kategori berdasarkan threshold\n",
        "    if prob >= threshold:\n",
        "        category = \"Fakta\"\n",
        "    else:\n",
        "        category = \"Hoax\"\n",
        "\n",
        "    return {\n",
        "        \"Kategori\": category,\n",
        "        \"Probabilitas Hoax\": f\"{prob_hoax:.2%}\",\n",
        "        \"Probabilitas Fakta\": f\"{prob_fakta:.2%}\"\n",
        "    }\n",
        "\n",
        "# Input berita dari pengguna\n",
        "berita_input = input(\"Masukkan teks berita untuk prediksi (Hoax/Fakta): \")\n",
        "\n",
        "# Prediksi hasil untuk berita yang dimasukkan\n",
        "hasil = predict_news(model, tokenizer, berita_input)\n",
        "\n",
        "# Output hasil prediksi\n",
        "print(f\"\\nKategori: {hasil['Kategori']}\")\n",
        "print(f\"Probabilitas Hoax: {hasil['Probabilitas Hoax']}\")\n",
        "print(f\"Probabilitas Fakta: {hasil['Probabilitas Fakta']}\")\n"
      ],
      "cell_type": "code",
      "metadata": {
        "colab": {
          "base_uri": "https://localhost:8080/"
        },
        "id": "pmTrj5fosp7l",
        "outputId": "095303ec-574b-4ce2-b56c-f549beb6f8bb"
      },
      "execution_count": null,
      "outputs": [
        {
          "output_type": "stream",
          "name": "stdout",
          "text": [
            "Masukkan teks berita untuk prediksi (Hoax/Fakta): Warwickshire - Real Madrid apes dua kali. Usai kalah dari Liverpool di Liga Champions, bus timnya juga mengalami kecelakaan. Melansir Daily Mail, bus tim Madrid terlibat dalam mengalami kecelakaan beruntun. Videonya beredar di media sosial.  Terlihat bus M40 berlogo Real Madrid menubruk bagian belakang truk kontainer di kawasan Warwickshire. Kecelakaan juga melibatkan mobil biasa, dan melansir Birmingham Mail, tak ada korban jiwa atas kejadian itu.  Tak ada pemain atau staf pelatih dalam bus tersebut. Hanya ada dua supir, petugas keamanan, dan manajer perjalanan dalam bus tersebut.  Hanya ada satu orang mengalami luka ringan di kaki. Kepolisian mengonfirmasi tak ada pemain dan staf pelatih Real Madrid di dalamnya.    Baca artikel sepakbola, \"Apes! Real Madrid Disikat Liverpool, Pulangnya Kecelakaan di Jalan\" selengkapnya https://sport.detik.com/sepakbola/uefa/d-7662206/apes-real-madrid-disikat-liverpool-pulangnya-kecelakaan-di-jalan.  Download Apps Detikcom Sekarang https://apps.detik.com/detik/\n",
            "\u001b[1m1/1\u001b[0m \u001b[32m━━━━━━━━━━━━━━━━━━━━\u001b[0m\u001b[37m\u001b[0m \u001b[1m1s\u001b[0m 586ms/step\n",
            "\n",
            "Kategori: Fakta\n",
            "Probabilitas Hoax: 0.40%\n",
            "Probabilitas Fakta: 99.60%\n"
          ]
        }
      ]
    },
    {
      "cell_type": "code",
      "source": [
        "print('Accuracy on testing set:', accuracy_score(binary_predictions, y_test))\n",
        "print('Precision on testing set:', precision_score(binary_predictions, y_test))\n",
        "print('Recall on testing set:', recall_score(binary_predictions, y_test))"
      ],
      "metadata": {
        "colab": {
          "base_uri": "https://localhost:8080/"
        },
        "id": "ijmVQQ_SphzC",
        "outputId": "d6611eef-8002-4dbd-a384-c85e70c94c87"
      },
      "execution_count": null,
      "outputs": [
        {
          "output_type": "stream",
          "name": "stdout",
          "text": [
            "Accuracy on testing set: 0.997922232116355\n",
            "Precision on testing set: 0.9985279685966634\n",
            "Recall on testing set: 0.998038254046101\n"
          ]
        }
      ]
    },
    {
      "cell_type": "markdown",
      "source": [
        "# Visualisasi confusion matrix"
      ],
      "metadata": {
        "id": "ecYdFgZ_UI5X"
      }
    },
    {
      "cell_type": "code",
      "source": [
        "import seaborn as sns  # Mengimpor pustaka untuk visualisasi data\n",
        "import matplotlib.pyplot as plt  # Mengimpor pustaka untuk visualisasi data\n",
        "from sklearn.metrics import confusion_matrix  # Mengimpor fungsi untuk membuat matriks kebingungan\n",
        "\n",
        "# Confusion Matrix\n",
        "matrix = confusion_matrix(binary_predictions, y_test, normalize='all')\n",
        "plt.figure(figsize=(8, 6))  # Ukuran lebih kecil\n",
        "ax = plt.subplot()\n",
        "sns.heatmap(matrix, annot=True, ax=ax, fmt='.2f', cmap='Blues')\n",
        "\n",
        "# Labels, title, and ticks\n",
        "ax.set_xlabel('Predicted Labels', size=14)  # Ukuran font label x lebih kecil\n",
        "ax.set_ylabel('True Labels', size=14)      # Ukuran font label y lebih kecil\n",
        "ax.set_title('Confusion Matrix', size=16)  # Ukuran font judul lebih kecil\n",
        "ax.xaxis.set_ticklabels([0, 1], size=12)   # Ukuran font ticks lebih kecil\n",
        "ax.yaxis.set_ticklabels([0, 1], size=12)   # Ukuran font ticks lebih kecil\n",
        "\n",
        "plt.tight_layout()  # Supaya grafik tidak terpotong\n",
        "plt.show()\n"
      ],
      "metadata": {
        "colab": {
          "base_uri": "https://localhost:8080/",
          "height": 607
        },
        "id": "h2rJLpsCp9AO",
        "outputId": "fd56d95f-cf21-4d08-b593-e2c8e4389c3e"
      },
      "execution_count": null,
      "outputs": [
        {
          "output_type": "display_data",
          "data": {
            "text/plain": [
              "<Figure size 800x600 with 2 Axes>"
            ],
            "image/png": "[encoded data removed]"
          },
          "metadata": {}
        }
      ]
    },
    {
      "cell_type": "code",
      "source": [
        "e = model.layers[0]  # Mengambil lapisan pertama (embedding) dari model\n",
        "weights = e.get_weights()[0]  # Mendapatkan bobot (weights) dari lapisan embedding\n",
        "print(weights.shape) # shape: (vocab_size, embedding_dim)"
      ],
      "metadata": {
        "colab": {
          "base_uri": "https://localhost:8080/"
        },
        "id": "UbXHd92bqBK7",
        "outputId": "dff40841-10ca-4c15-88b0-af60f9feb86c"
      },
      "execution_count": null,
      "outputs": [
        {
          "output_type": "stream",
          "name": "stdout",
          "text": [
            "(10000, 128)\n"
          ]
        }
      ]
    },
    {
      "cell_type": "code",
      "source": [
        "word_index = list(tokenizer.word_index.keys())  # Mendapatkan daftar kata-kata dari tokenizer\n",
        "word_index = word_index[:max_vocab-1]  # Memotong daftar kata-kata jika diperlukan"
      ],
      "metadata": {
        "id": "-O0Yjm_WqRNT"
      },
      "execution_count": null,
      "outputs": []
    },
    {
      "cell_type": "markdown",
      "source": [
        "# Save model"
      ],
      "metadata": {
        "id": "Qd9wMj_vUXXu"
      }
    },
    {
      "source": [
        "# Menyimpan arsitektur model dalam format JSON\n",
        "model_json = model.to_json()\n",
        "with open(\"config.json\", \"w\") as json_file:\n",
        "    json_file.write(model_json)\n",
        "\n",
        "# Menyimpan bobot model dalam format .h5\n",
        "model.save_weights(\"model.weights.h5\")\n",
        "\n",
        "# Menyimpan tokenizer dalam format JSON\n",
        "tokenizer_json = tokenizer.to_json()\n",
        "with open(\"tokenizer.json\", \"w\") as json_file:\n",
        "    json_file.write(tokenizer_json)\n"
      ],
      "cell_type": "code",
      "metadata": {
        "id": "YcPYOu7Mht3o"
      },
      "execution_count": null,
      "outputs": []
    },
    {
      "cell_type": "markdown",
      "source": [
        "# Uji coba model untuk prediksi"
      ],
      "metadata": {
        "id": "zGqdeKbpUcf1"
      }
    },
    {
      "cell_type": "code",
      "source": [
        "from tensorflow.keras.models import model_from_json\n",
        "\n",
        "# Memuat struktur model dari file JSON\n",
        "with open(\"config.json\", \"r\") as json_file:\n",
        "    loaded_model_json = json_file.read()\n",
        "\n",
        "# Memuat model dari struktur JSON\n",
        "loaded_model = model_from_json(loaded_model_json)\n",
        "\n",
        "# Memuat bobot model dari file .h5\n",
        "loaded_model.load_weights(\"model.weights.h5\")\n",
        "\n",
        "# Menyusun ulang model (jika perlu) setelah memuat bobot\n",
        "loaded_model.compile(loss='binary_crossentropy', optimizer='adam', metrics=['accuracy'])\n",
        "\n",
        "def predict_news(model, tokenizer, text, threshold=0.5):\n",
        "    \"\"\"\n",
        "    Fungsi untuk memprediksi apakah berita hoax atau fakta, dengan probabilitas untuk kedua kategori.\n",
        "    Args:\n",
        "        model: Model machine learning yang telah dilatih.\n",
        "        tokenizer: Tokenizer yang digunakan untuk memproses teks.\n",
        "        text: String, berita yang ingin diprediksi.\n",
        "        threshold: Batas probabilitas untuk klasifikasi (default 0.5).\n",
        "    Returns:\n",
        "        result: Kategori berita (Hoax/Fakta) dan probabilitasnya.\n",
        "    \"\"\"\n",
        "    # Tokenisasi input teks menggunakan texts_to_sequences\n",
        "    sequences = tokenizer.texts_to_sequences([text])\n",
        "    inputs = tf.keras.preprocessing.sequence.pad_sequences(sequences, maxlen=42, padding='post', truncating='post')\n",
        "\n",
        "    # Reshape inputs to have the correct dimensions for the model\n",
        "    inputs = inputs.reshape(1, inputs.shape[1])  # Reshape to (1, 42)\n",
        "\n",
        "    # Melakukan prediksi\n",
        "    pred = model.predict(inputs)\n",
        "\n",
        "    # Mendapatkan probabilitas (menggunakan sigmoid jika output belum diproses)\n",
        "    prob = tf.nn.sigmoid(pred).numpy()[0][0]\n",
        "\n",
        "    # Probabilitas untuk masing-masing kategori\n",
        "    prob_hoax = 1 - prob\n",
        "    prob_fakta = prob\n",
        "\n",
        "    # Menentukan kategori berdasarkan threshold\n",
        "    if prob >= threshold:\n",
        "        category = \"Fakta\"\n",
        "    else:\n",
        "        category = \"Hoax\"\n",
        "\n",
        "    return {\n",
        "        \"Kategori\": category,\n",
        "        \"Probabilitas Hoax\": f\"{prob_hoax:.2%}\",\n",
        "        \"Probabilitas Fakta\": f\"{prob_fakta:.2%}\"\n",
        "    }\n",
        "\n",
        "# Input berita dari pengguna\n",
        "berita_input = input(\"Masukkan teks berita untuk prediksi (Hoax/Fakta): \")\n",
        "\n",
        "# Prediksi hasil untuk berita yang dimasukkan\n",
        "hasil = predict_news(loaded_model, tokenizer, berita_input)\n",
        "\n",
        "# Output hasil prediksi\n",
        "print(f\"\\nKategori: {hasil['Kategori']}\")\n",
        "print(f\"Probabilitas Hoax: {hasil['Probabilitas Hoax']}\")\n",
        "print(f\"Probabilitas Fakta: {hasil['Probabilitas Fakta']}\")\n"
      ],
      "metadata": {
        "colab": {
          "base_uri": "https://localhost:8080/"
        },
        "id": "xIrA_UjvutXA",
        "outputId": "996bd8ca-8f7a-4fea-ece7-14b2687dbc71"
      },
      "execution_count": null,
      "outputs": [
        {
          "name": "stdout",
          "output_type": "stream",
          "text": [
            "Masukkan teks berita untuk prediksi (Hoax/Fakta):  Berita hoax ini mengklaim bahwa vaksin COVID-19 mengandung chip mikro yang dapat melacak aktivitas seseorang. Klaim ini telah dibantah oleh para ahli kesehatan yang menjelaskan bahwa vaksin aman dan tidak mengandung perangkat pelacak apapun\n"
          ]
        },
        {
          "output_type": "stream",
          "name": "stderr",
          "text": [
            "WARNING:tensorflow:5 out of the last 109 calls to <function TensorFlowTrainer.make_predict_function.<locals>.one_step_on_data_distributed at 0x7c8501db3e20> triggered tf.function retracing. Tracing is expensive and the excessive number of tracings could be due to (1) creating @tf.function repeatedly in a loop, (2) passing tensors with different shapes, (3) passing Python objects instead of tensors. For (1), please define your @tf.function outside of the loop. For (2), @tf.function has reduce_retracing=True option that can avoid unnecessary retracing. For (3), please refer to https://www.tensorflow.org/guide/function#controlling_retracing and https://www.tensorflow.org/api_docs/python/tf/function for  more details.\n"
          ]
        },
        {
          "output_type": "stream",
          "name": "stdout",
          "text": [
            "\u001b[1m1/1\u001b[0m \u001b[32m━━━━━━━━━━━━━━━━━━━━\u001b[0m\u001b[37m\u001b[0m \u001b[1m1s\u001b[0m 529ms/step\n",
            "\n",
            "Kategori: Hoax\n",
            "Probabilitas Hoax: 99.88%\n",
            "Probabilitas Fakta: 0.12%\n"
          ]
        }
      ]
    },
    {
      "cell_type": "code",
      "source": [],
      "metadata": {
        "id": "8F9Q_xaiYcHV"
      },
      "execution_count": null,
      "outputs": []
    }
  ]
}