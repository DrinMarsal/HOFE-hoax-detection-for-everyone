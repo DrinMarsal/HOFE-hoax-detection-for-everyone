{
  "cells": [
    {
      "cell_type": "markdown",
      "source": [
        "# **Gathering**"
      ],
      "metadata": {
        "id": "FylNCTpLd34s"
      },
      "id": "FylNCTpLd34s"
    },
    {
      "cell_type": "code",
      "execution_count": 1,
      "id": "ab4ea694-2989-4590-9381-862b3eed6cc8",
      "metadata": {
        "id": "ab4ea694-2989-4590-9381-862b3eed6cc8"
      },
      "outputs": [],
      "source": [
        "import pandas as pd\n",
        "import tensorflow as tf\n",
        "from sklearn.model_selection import train_test_split\n",
        "from sklearn.metrics import confusion_matrix, classification_report\n",
        "import seaborn as sns\n",
        "import matplotlib.pyplot as plt\n",
        "import joblib  # Untuk menyimpan dan memuat data preprocessing"
      ]
    },
    {
      "cell_type": "markdown",
      "id": "b9cee945-e147-4a12-a5d4-f6a76079a76a",
      "metadata": {
        "id": "b9cee945-e147-4a12-a5d4-f6a76079a76a"
      },
      "source": [
        "**Memuat data latih dari file CSV**"
      ]
    },
    {
      "cell_type": "code",
      "execution_count": 3,
      "id": "66b23774-b315-45f9-86a8-03a3bf12a963",
      "metadata": {
        "id": "66b23774-b315-45f9-86a8-03a3bf12a963"
      },
      "outputs": [],
      "source": [
        "train_file_path = \"Data_latih.csv\"\n",
        "test_file_path = \"Data_uji.csv\"\n",
        "\n",
        "train_df = pd.read_csv(train_file_path)\n",
        "test_df = pd.read_csv(test_file_path)\n",
        "\n",
        "# Ubah nama kolom agar sesuai\n",
        "train_df = train_df.rename(columns={\"narasi\": \"text\", \"label\": \"label\"})\n",
        "test_df = test_df.rename(columns={\"narasi\": \"text\"})"
      ]
    },
    {
      "cell_type": "markdown",
      "id": "09cbb423-d8f4-4c05-a94f-05ee96d83af6",
      "metadata": {
        "id": "09cbb423-d8f4-4c05-a94f-05ee96d83af6"
      },
      "source": [
        "**Membagi Dataset untuk TensorFlow**"
      ]
    },
    {
      "cell_type": "code",
      "execution_count": 35,
      "id": "6e8d9b27-75bc-4ec6-99b4-2a9da1cfebb5",
      "metadata": {
        "id": "6e8d9b27-75bc-4ec6-99b4-2a9da1cfebb5",
        "colab": {
          "base_uri": "https://localhost:8080/"
        },
        "outputId": "2233bfdd-1c41-45d5-dd52-7b3c1e4d8436"
      },
      "outputs": [
        {
          "output_type": "stream",
          "name": "stdout",
          "text": [
            "['0', '1']\n"
          ]
        }
      ],
      "source": [
        "X = train_df[\"text\"].values\n",
        "y = train_df[\"label\"].values\n",
        "\n",
        "# Membagi data latih dan validasi\n",
        "X_train, X_val, y_train, y_val = train_test_split(X, y, test_size=0.2, random_state=42)\n",
        "\n",
        "# Pastikan label berupa string\n",
        "y_train = y_train.astype(str)\n",
        "y_val = y_val.astype(str)\n",
        "\n",
        "# Melakukan encoding label (Hoaks -> 1, Bukan Hoaks -> 0)\n",
        "label_encoder = tf.keras.layers.StringLookup(vocabulary=[\"0\", \"1\"], output_mode=\"int\", mask_token=None, oov_token=\"\", num_oov_indices=0)\n",
        "y_train_encoded = label_encoder(tf.convert_to_tensor(y_train))\n",
        "y_val_encoded = label_encoder(tf.convert_to_tensor(y_val))\n",
        "print(label_encoder.get_vocabulary())\n"
      ]
    },
    {
      "cell_type": "markdown",
      "id": "841d4959-4caa-4465-87da-db36d3c52cf2",
      "metadata": {
        "id": "841d4959-4caa-4465-87da-db36d3c52cf2"
      },
      "source": [
        "**Vektorisasi Teks Menggunakan Tokenizer**"
      ]
    },
    {
      "cell_type": "code",
      "execution_count": 36,
      "id": "9b3df170-cbd8-4697-8257-8c718ddb3c0b",
      "metadata": {
        "colab": {
          "base_uri": "https://localhost:8080/"
        },
        "id": "9b3df170-cbd8-4697-8257-8c718ddb3c0b",
        "outputId": "b49f89f2-f8a6-4d1b-9cc8-218a123e76dc"
      },
      "outputs": [
        {
          "output_type": "stream",
          "name": "stdout",
          "text": [
            "Tokenizer disimpan.\n"
          ]
        }
      ],
      "source": [
        "tokenizer = tf.keras.preprocessing.text.Tokenizer(num_words=5000)\n",
        "tokenizer.fit_on_texts(X_train)\n",
        "\n",
        "X_train_seq = tokenizer.texts_to_sequences(X_train)\n",
        "X_val_seq = tokenizer.texts_to_sequences(X_val)\n",
        "X_test_seq = tokenizer.texts_to_sequences(test_df[\"text\"])\n",
        "\n",
        "# Padding sequences untuk memastikan dimensi konsisten\n",
        "maxlen = 100  # Panjang maksimal setiap teks\n",
        "X_train_padded = tf.keras.preprocessing.sequence.pad_sequences(X_train_seq, maxlen=maxlen, padding='post')\n",
        "X_val_padded = tf.keras.preprocessing.sequence.pad_sequences(X_val_seq, maxlen=maxlen, padding='post')\n",
        "X_test_padded = tf.keras.preprocessing.sequence.pad_sequences(X_test_seq, maxlen=maxlen, padding='post')\n",
        "\n",
        "# Menyimpan tokenizer\n",
        "joblib.dump(tokenizer, \"tokenizer.pkl\")\n",
        "print(\"Tokenizer disimpan.\")\n"
      ]
    },
    {
      "cell_type": "markdown",
      "source": [
        "# **Model**"
      ],
      "metadata": {
        "id": "WG_ZSBFegqRC"
      },
      "id": "WG_ZSBFegqRC"
    },
    {
      "cell_type": "markdown",
      "id": "e5f27f91-0180-45b7-a1d0-1e06a226c38a",
      "metadata": {
        "id": "e5f27f91-0180-45b7-a1d0-1e06a226c38a"
      },
      "source": [
        "**Membuat Model TensorFlow**"
      ]
    },
    {
      "cell_type": "code",
      "execution_count": 37,
      "id": "ceb4a8c6-b1d3-458c-ae7e-020a502870b7",
      "metadata": {
        "colab": {
          "base_uri": "https://localhost:8080/",
          "height": 357
        },
        "id": "ceb4a8c6-b1d3-458c-ae7e-020a502870b7",
        "outputId": "a3774ae8-b68c-49c7-d734-5b9e2aa6564f"
      },
      "outputs": [
        {
          "output_type": "stream",
          "name": "stderr",
          "text": [
            "/usr/local/lib/python3.10/dist-packages/keras/src/layers/core/embedding.py:90: UserWarning: Argument `input_length` is deprecated. Just remove it.\n",
            "  warnings.warn(\n"
          ]
        },
        {
          "output_type": "display_data",
          "data": {
            "text/plain": [
              "\u001b[1mModel: \"sequential_1\"\u001b[0m\n"
            ],
            "text/html": [
              "<pre style=\"white-space:pre;overflow-x:auto;line-height:normal;font-family:Menlo,'DejaVu Sans Mono',consolas,'Courier New',monospace\"><span style=\"font-weight: bold\">Model: \"sequential_1\"</span>\n",
              "</pre>\n"
            ]
          },
          "metadata": {}
        },
        {
          "output_type": "display_data",
          "data": {
            "text/plain": [
              "┏━━━━━━━━━━━━━━━━━━━━━━━━━━━━━━━━━━━━━━┳━━━━━━━━━━━━━━━━━━━━━━━━━━━━━┳━━━━━━━━━━━━━━━━━┓\n",
              "┃\u001b[1m \u001b[0m\u001b[1mLayer (type)                        \u001b[0m\u001b[1m \u001b[0m┃\u001b[1m \u001b[0m\u001b[1mOutput Shape               \u001b[0m\u001b[1m \u001b[0m┃\u001b[1m \u001b[0m\u001b[1m        Param #\u001b[0m\u001b[1m \u001b[0m┃\n",
              "┡━━━━━━━━━━━━━━━━━━━━━━━━━━━━━━━━━━━━━━╇━━━━━━━━━━━━━━━━━━━━━━━━━━━━━╇━━━━━━━━━━━━━━━━━┩\n",
              "│ embedding_1 (\u001b[38;5;33mEmbedding\u001b[0m)              │ ?                           │     \u001b[38;5;34m0\u001b[0m (unbuilt) │\n",
              "├──────────────────────────────────────┼─────────────────────────────┼─────────────────┤\n",
              "│ bidirectional_2 (\u001b[38;5;33mBidirectional\u001b[0m)      │ ?                           │     \u001b[38;5;34m0\u001b[0m (unbuilt) │\n",
              "├──────────────────────────────────────┼─────────────────────────────┼─────────────────┤\n",
              "│ bidirectional_3 (\u001b[38;5;33mBidirectional\u001b[0m)      │ ?                           │     \u001b[38;5;34m0\u001b[0m (unbuilt) │\n",
              "├──────────────────────────────────────┼─────────────────────────────┼─────────────────┤\n",
              "│ dense_2 (\u001b[38;5;33mDense\u001b[0m)                      │ ?                           │     \u001b[38;5;34m0\u001b[0m (unbuilt) │\n",
              "├──────────────────────────────────────┼─────────────────────────────┼─────────────────┤\n",
              "│ dropout_1 (\u001b[38;5;33mDropout\u001b[0m)                  │ ?                           │     \u001b[38;5;34m0\u001b[0m (unbuilt) │\n",
              "├──────────────────────────────────────┼─────────────────────────────┼─────────────────┤\n",
              "│ dense_3 (\u001b[38;5;33mDense\u001b[0m)                      │ ?                           │     \u001b[38;5;34m0\u001b[0m (unbuilt) │\n",
              "└──────────────────────────────────────┴─────────────────────────────┴─────────────────┘\n"
            ],
            "text/html": [
              "<pre style=\"white-space:pre;overflow-x:auto;line-height:normal;font-family:Menlo,'DejaVu Sans Mono',consolas,'Courier New',monospace\">┏━━━━━━━━━━━━━━━━━━━━━━━━━━━━━━━━━━━━━━┳━━━━━━━━━━━━━━━━━━━━━━━━━━━━━┳━━━━━━━━━━━━━━━━━┓\n",
              "┃<span style=\"font-weight: bold\"> Layer (type)                         </span>┃<span style=\"font-weight: bold\"> Output Shape                </span>┃<span style=\"font-weight: bold\">         Param # </span>┃\n",
              "┡━━━━━━━━━━━━━━━━━━━━━━━━━━━━━━━━━━━━━━╇━━━━━━━━━━━━━━━━━━━━━━━━━━━━━╇━━━━━━━━━━━━━━━━━┩\n",
              "│ embedding_1 (<span style=\"color: #0087ff; text-decoration-color: #0087ff\">Embedding</span>)              │ ?                           │     <span style=\"color: #00af00; text-decoration-color: #00af00\">0</span> (unbuilt) │\n",
              "├──────────────────────────────────────┼─────────────────────────────┼─────────────────┤\n",
              "│ bidirectional_2 (<span style=\"color: #0087ff; text-decoration-color: #0087ff\">Bidirectional</span>)      │ ?                           │     <span style=\"color: #00af00; text-decoration-color: #00af00\">0</span> (unbuilt) │\n",
              "├──────────────────────────────────────┼─────────────────────────────┼─────────────────┤\n",
              "│ bidirectional_3 (<span style=\"color: #0087ff; text-decoration-color: #0087ff\">Bidirectional</span>)      │ ?                           │     <span style=\"color: #00af00; text-decoration-color: #00af00\">0</span> (unbuilt) │\n",
              "├──────────────────────────────────────┼─────────────────────────────┼─────────────────┤\n",
              "│ dense_2 (<span style=\"color: #0087ff; text-decoration-color: #0087ff\">Dense</span>)                      │ ?                           │     <span style=\"color: #00af00; text-decoration-color: #00af00\">0</span> (unbuilt) │\n",
              "├──────────────────────────────────────┼─────────────────────────────┼─────────────────┤\n",
              "│ dropout_1 (<span style=\"color: #0087ff; text-decoration-color: #0087ff\">Dropout</span>)                  │ ?                           │     <span style=\"color: #00af00; text-decoration-color: #00af00\">0</span> (unbuilt) │\n",
              "├──────────────────────────────────────┼─────────────────────────────┼─────────────────┤\n",
              "│ dense_3 (<span style=\"color: #0087ff; text-decoration-color: #0087ff\">Dense</span>)                      │ ?                           │     <span style=\"color: #00af00; text-decoration-color: #00af00\">0</span> (unbuilt) │\n",
              "└──────────────────────────────────────┴─────────────────────────────┴─────────────────┘\n",
              "</pre>\n"
            ]
          },
          "metadata": {}
        },
        {
          "output_type": "display_data",
          "data": {
            "text/plain": [
              "\u001b[1m Total params: \u001b[0m\u001b[38;5;34m0\u001b[0m (0.00 B)\n"
            ],
            "text/html": [
              "<pre style=\"white-space:pre;overflow-x:auto;line-height:normal;font-family:Menlo,'DejaVu Sans Mono',consolas,'Courier New',monospace\"><span style=\"font-weight: bold\"> Total params: </span><span style=\"color: #00af00; text-decoration-color: #00af00\">0</span> (0.00 B)\n",
              "</pre>\n"
            ]
          },
          "metadata": {}
        },
        {
          "output_type": "display_data",
          "data": {
            "text/plain": [
              "\u001b[1m Trainable params: \u001b[0m\u001b[38;5;34m0\u001b[0m (0.00 B)\n"
            ],
            "text/html": [
              "<pre style=\"white-space:pre;overflow-x:auto;line-height:normal;font-family:Menlo,'DejaVu Sans Mono',consolas,'Courier New',monospace\"><span style=\"font-weight: bold\"> Trainable params: </span><span style=\"color: #00af00; text-decoration-color: #00af00\">0</span> (0.00 B)\n",
              "</pre>\n"
            ]
          },
          "metadata": {}
        },
        {
          "output_type": "display_data",
          "data": {
            "text/plain": [
              "\u001b[1m Non-trainable params: \u001b[0m\u001b[38;5;34m0\u001b[0m (0.00 B)\n"
            ],
            "text/html": [
              "<pre style=\"white-space:pre;overflow-x:auto;line-height:normal;font-family:Menlo,'DejaVu Sans Mono',consolas,'Courier New',monospace\"><span style=\"font-weight: bold\"> Non-trainable params: </span><span style=\"color: #00af00; text-decoration-color: #00af00\">0</span> (0.00 B)\n",
              "</pre>\n"
            ]
          },
          "metadata": {}
        }
      ],
      "source": [
        "model = tf.keras.Sequential([\n",
        "    tf.keras.layers.Embedding(input_dim=5000, output_dim=128, input_length=maxlen),\n",
        "    tf.keras.layers.Bidirectional(tf.keras.layers.LSTM(64, return_sequences=True)),\n",
        "    tf.keras.layers.Bidirectional(tf.keras.layers.LSTM(32)),\n",
        "    tf.keras.layers.Dense(64, activation='relu'),\n",
        "    tf.keras.layers.Dropout(0.5),\n",
        "    tf.keras.layers.Dense(1, activation='sigmoid')  # Output untuk klasifikasi biner\n",
        "])\n",
        "\n",
        "model.compile(optimizer='adam',\n",
        "              loss='binary_crossentropy',\n",
        "              metrics=['accuracy'])\n",
        "\n",
        "model.summary()\n"
      ]
    },
    {
      "cell_type": "markdown",
      "id": "8e73a2ff-e0b2-4501-bef3-b4825c22dff6",
      "metadata": {
        "id": "8e73a2ff-e0b2-4501-bef3-b4825c22dff6"
      },
      "source": [
        "**Melatih Model**"
      ]
    },
    {
      "cell_type": "code",
      "execution_count": 38,
      "id": "5ce353d9-1e26-450d-95dc-85edfb64821b",
      "metadata": {
        "colab": {
          "base_uri": "https://localhost:8080/"
        },
        "id": "5ce353d9-1e26-450d-95dc-85edfb64821b",
        "outputId": "d1962151-4f8a-4c9b-c5ce-1680cbdbcc49"
      },
      "outputs": [
        {
          "output_type": "stream",
          "name": "stdout",
          "text": [
            "Epoch 1/5\n",
            "\u001b[1m106/106\u001b[0m \u001b[32m━━━━━━━━━━━━━━━━━━━━\u001b[0m\u001b[37m\u001b[0m \u001b[1m7s\u001b[0m 25ms/step - accuracy: 0.7817 - loss: 0.5346 - val_accuracy: 0.8359 - val_loss: 0.4330\n",
            "Epoch 2/5\n",
            "\u001b[1m106/106\u001b[0m \u001b[32m━━━━━━━━━━━━━━━━━━━━\u001b[0m\u001b[37m\u001b[0m \u001b[1m5s\u001b[0m 22ms/step - accuracy: 0.8214 - loss: 0.4055 - val_accuracy: 0.8205 - val_loss: 0.4380\n",
            "Epoch 3/5\n",
            "\u001b[1m106/106\u001b[0m \u001b[32m━━━━━━━━━━━━━━━━━━━━\u001b[0m\u001b[37m\u001b[0m \u001b[1m2s\u001b[0m 20ms/step - accuracy: 0.9348 - loss: 0.2071 - val_accuracy: 0.7792 - val_loss: 0.6082\n",
            "Epoch 4/5\n",
            "\u001b[1m106/106\u001b[0m \u001b[32m━━━━━━━━━━━━━━━━━━━━\u001b[0m\u001b[37m\u001b[0m \u001b[1m3s\u001b[0m 27ms/step - accuracy: 0.9747 - loss: 0.0907 - val_accuracy: 0.8146 - val_loss: 0.8288\n",
            "Epoch 5/5\n",
            "\u001b[1m106/106\u001b[0m \u001b[32m━━━━━━━━━━━━━━━━━━━━\u001b[0m\u001b[37m\u001b[0m \u001b[1m2s\u001b[0m 22ms/step - accuracy: 0.9876 - loss: 0.0390 - val_accuracy: 0.7957 - val_loss: 0.9992\n"
          ]
        }
      ],
      "source": [
        "history = model.fit(\n",
        "    X_train_padded, y_train_encoded,\n",
        "    validation_data=(X_val_padded, y_val_encoded),\n",
        "    epochs=5,\n",
        "    batch_size=32\n",
        ")"
      ]
    },
    {
      "cell_type": "markdown",
      "id": "487e0760-d310-4e2e-8c29-644f458facb0",
      "metadata": {
        "id": "487e0760-d310-4e2e-8c29-644f458facb0"
      },
      "source": [
        "**Mengevaluasi Model**"
      ]
    },
    {
      "cell_type": "code",
      "execution_count": 39,
      "id": "5887e483-1e82-436f-a2f3-f7e5b5225dc0",
      "metadata": {
        "colab": {
          "base_uri": "https://localhost:8080/",
          "height": 619
        },
        "id": "5887e483-1e82-436f-a2f3-f7e5b5225dc0",
        "outputId": "9554799f-1cbb-471a-8aa0-aaa7a3513501"
      },
      "outputs": [
        {
          "output_type": "stream",
          "name": "stdout",
          "text": [
            "\u001b[1m27/27\u001b[0m \u001b[32m━━━━━━━━━━━━━━━━━━━━\u001b[0m\u001b[37m\u001b[0m \u001b[1m0s\u001b[0m 13ms/step - accuracy: 0.8055 - loss: 1.0001\n",
            "Validation Accuracy: 0.7957497239112854\n",
            "\u001b[1m27/27\u001b[0m \u001b[32m━━━━━━━━━━━━━━━━━━━━\u001b[0m\u001b[37m\u001b[0m \u001b[1m3s\u001b[0m 88ms/step\n"
          ]
        },
        {
          "output_type": "display_data",
          "data": {
            "text/plain": [
              "<Figure size 800x600 with 2 Axes>"
            ],
            "image/png": "[encoded data removed]"
          },
          "metadata": {}
        }
      ],
      "source": [
        "val_loss, val_accuracy = model.evaluate(X_val_padded, y_val_encoded)\n",
        "print(f\"Validation Accuracy: {val_accuracy}\")\n",
        "\n",
        "# Menampilkan Confusion Matrix\n",
        "y_val_pred = (model.predict(X_val_padded) > 0.5).astype(\"int32\")\n",
        "conf_matrix = confusion_matrix(y_val_encoded, y_val_pred)\n",
        "\n",
        "plt.figure(figsize=(8, 6))\n",
        "sns.heatmap(conf_matrix, annot=True, fmt=\"d\", cmap=\"Blues\",\n",
        "            xticklabels=[\"Bukan Hoaks\", \"Hoaks\"], yticklabels=[\"Bukan Hoaks\", \"Hoaks\"])\n",
        "plt.xlabel(\"Predicted Label\")\n",
        "plt.ylabel(\"True Label\")\n",
        "plt.title(\"Confusion Matrix pada Data Validasi\")\n",
        "plt.show()\n"
      ]
    },
    {
      "cell_type": "markdown",
      "id": "b2122c03-dddd-45cf-8ce8-37c07cc77609",
      "metadata": {
        "id": "b2122c03-dddd-45cf-8ce8-37c07cc77609"
      },
      "source": [
        "**Menyimpan Model**"
      ]
    },
    {
      "cell_type": "code",
      "execution_count": 40,
      "id": "4bf2c08f-f6e9-449e-a307-58b94ee268fc",
      "metadata": {
        "colab": {
          "base_uri": "https://localhost:8080/"
        },
        "id": "4bf2c08f-f6e9-449e-a307-58b94ee268fc",
        "outputId": "3ad38606-7c0a-41e0-c9ee-ea9b0f3b54f2"
      },
      "outputs": [
        {
          "output_type": "stream",
          "name": "stdout",
          "text": [
            "Model architecture saved in JSON format.\n"
          ]
        }
      ],
      "source": [
        "# Save the model architecture to a JSON file\n",
        "model_json = model.to_json()\n",
        "with open(\"hoax_detection_model.json\", \"w\") as json_file:\n",
        "    json_file.write(model_json)\n",
        "\n",
        "print(\"Model architecture saved in JSON format.\")"
      ]
    }
  ],
  "metadata": {
    "kernelspec": {
      "display_name": "Python 3",
      "name": "python3"
    },
    "language_info": {
      "codemirror_mode": {
        "name": "ipython",
        "version": 3
      },
      "file_extension": ".py",
      "mimetype": "text/x-python",
      "name": "python",
      "nbconvert_exporter": "python",
      "pygments_lexer": "ipython3",
      "version": "3.10.15"
    },
    "colab": {
      "provenance": [],
      "gpuType": "T4"
    },
    "accelerator": "GPU"
  },
  "nbformat": 4,
  "nbformat_minor": 5
}