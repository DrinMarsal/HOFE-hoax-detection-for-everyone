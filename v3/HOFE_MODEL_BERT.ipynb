{
  "cells": [
    {
      "cell_type": "markdown",
      "metadata": {
        "id": "D1FYhWUKX-zM"
      },
      "source": [
        "# Load Data"
      ]
    },
    {
      "cell_type": "code",
      "execution_count": null,
      "metadata": {
        "id": "EIKoEd4kGZvF"
      },
      "outputs": [],
      "source": [
        "import pandas as pd  # Mengimpor library pandas untuk memproses data\n",
        "\n",
        "# Load dataset non-hoax\n",
        "real_news = pd.read_csv('cleaned_dataset_scrap.csv')"
      ]
    },
    {
      "cell_type": "code",
      "execution_count": null,
      "metadata": {
        "colab": {
          "base_uri": "https://localhost:8080/",
          "height": 424
        },
        "id": "FpiBwUE6FiXS",
        "outputId": "c47ba3e4-4d87-4b15-9ffe-b552cfb2f810"
      },
      "outputs": [
        {
          "output_type": "execute_result",
          "data": {
            "text/plain": [
              "                                                    Text   tagging  label\n",
              "0      Kejaksaan Agung menetapkan mantan Menteri Perd...  non-hoax      1\n",
              "1      Israel bawa jasad Yahya Sinwar ke Tel Aviv unt...  non-hoax      1\n",
              "2      Pengelolaan jalan tol di Ibu Kota Nusantara IK...  non-hoax      1\n",
              "3      KOMPAScom Artis Meghan Markle yang merupakan i...  non-hoax      1\n",
              "4      Mahkamah Konstitusi MK memutuskan mengubah amb...  non-hoax      1\n",
              "...                                                  ...       ...    ...\n",
              "10362  Jakarta Wakapolda Metro Jaya Brigjen Djati Wiy...  non-hoax      1\n",
              "10363  Jakarta Lembaga survei Indikator merilis hasil...  non-hoax      1\n",
              "10364  Jakarta Lembaga survei Indikator merilis hasil...  non-hoax      1\n",
              "10365  Daftar Isi Cara Cek Quick Count Pilkada Jateng...  non-hoax      1\n",
              "10366  Daftar Isi Cara Cek Quick Count Pilkada Jateng...  non-hoax      1\n",
              "\n",
              "[10367 rows x 3 columns]"
            ],
            "text/html": [
              "\n",
              "  <div id=\"df-add0db62-e9d5-43b9-bb4d-0a014aaadd1b\" class=\"colab-df-container\">\n",
              "    <div>\n",
              "<style scoped>\n",
              "    .dataframe tbody tr th:only-of-type {\n",
              "        vertical-align: middle;\n",
              "    }\n",
              "\n",
              "    .dataframe tbody tr th {\n",
              "        vertical-align: top;\n",
              "    }\n",
              "\n",
              "    .dataframe thead th {\n",
              "        text-align: right;\n",
              "    }\n",
              "</style>\n",
              "<table border=\"1\" class=\"dataframe\">\n",
              "  <thead>\n",
              "    <tr style=\"text-align: right;\">\n",
              "      <th></th>\n",
              "      <th>Text</th>\n",
              "      <th>tagging</th>\n",
              "      <th>label</th>\n",
              "    </tr>\n",
              "  </thead>\n",
              "  <tbody>\n",
              "    <tr>\n",
              "      <th>0</th>\n",
              "      <td>Kejaksaan Agung menetapkan mantan Menteri Perd...</td>\n",
              "      <td>non-hoax</td>\n",
              "      <td>1</td>\n",
              "    </tr>\n",
              "    <tr>\n",
              "      <th>1</th>\n",
              "      <td>Israel bawa jasad Yahya Sinwar ke Tel Aviv unt...</td>\n",
              "      <td>non-hoax</td>\n",
              "      <td>1</td>\n",
              "    </tr>\n",
              "    <tr>\n",
              "      <th>2</th>\n",
              "      <td>Pengelolaan jalan tol di Ibu Kota Nusantara IK...</td>\n",
              "      <td>non-hoax</td>\n",
              "      <td>1</td>\n",
              "    </tr>\n",
              "    <tr>\n",
              "      <th>3</th>\n",
              "      <td>KOMPAScom Artis Meghan Markle yang merupakan i...</td>\n",
              "      <td>non-hoax</td>\n",
              "      <td>1</td>\n",
              "    </tr>\n",
              "    <tr>\n",
              "      <th>4</th>\n",
              "      <td>Mahkamah Konstitusi MK memutuskan mengubah amb...</td>\n",
              "      <td>non-hoax</td>\n",
              "      <td>1</td>\n",
              "    </tr>\n",
              "    <tr>\n",
              "      <th>...</th>\n",
              "      <td>...</td>\n",
              "      <td>...</td>\n",
              "      <td>...</td>\n",
              "    </tr>\n",
              "    <tr>\n",
              "      <th>10362</th>\n",
              "      <td>Jakarta Wakapolda Metro Jaya Brigjen Djati Wiy...</td>\n",
              "      <td>non-hoax</td>\n",
              "      <td>1</td>\n",
              "    </tr>\n",
              "    <tr>\n",
              "      <th>10363</th>\n",
              "      <td>Jakarta Lembaga survei Indikator merilis hasil...</td>\n",
              "      <td>non-hoax</td>\n",
              "      <td>1</td>\n",
              "    </tr>\n",
              "    <tr>\n",
              "      <th>10364</th>\n",
              "      <td>Jakarta Lembaga survei Indikator merilis hasil...</td>\n",
              "      <td>non-hoax</td>\n",
              "      <td>1</td>\n",
              "    </tr>\n",
              "    <tr>\n",
              "      <th>10365</th>\n",
              "      <td>Daftar Isi Cara Cek Quick Count Pilkada Jateng...</td>\n",
              "      <td>non-hoax</td>\n",
              "      <td>1</td>\n",
              "    </tr>\n",
              "    <tr>\n",
              "      <th>10366</th>\n",
              "      <td>Daftar Isi Cara Cek Quick Count Pilkada Jateng...</td>\n",
              "      <td>non-hoax</td>\n",
              "      <td>1</td>\n",
              "    </tr>\n",
              "  </tbody>\n",
              "</table>\n",
              "<p>10367 rows × 3 columns</p>\n",
              "</div>\n",
              "    <div class=\"colab-df-buttons\">\n",
              "\n",
              "  <div class=\"colab-df-container\">\n",
              "    <button class=\"colab-df-convert\" onclick=\"convertToInteractive('df-add0db62-e9d5-43b9-bb4d-0a014aaadd1b')\"\n",
              "            title=\"Convert this dataframe to an interactive table.\"\n",
              "            style=\"display:none;\">\n",
              "\n",
              "  <svg xmlns=\"http://www.w3.org/2000/svg\" height=\"24px\" viewBox=\"0 -960 960 960\">\n",
              "    <path d=\"M120-120v-720h720v720H120Zm60-500h600v-160H180v160Zm220 220h160v-160H400v160Zm0 220h160v-160H400v160ZM180-400h160v-160H180v160Zm440 0h160v-160H620v160ZM180-180h160v-160H180v160Zm440 0h160v-160H620v160Z\"/>\n",
              "  </svg>\n",
              "    </button>\n",
              "\n",
              "  <style>\n",
              "    .colab-df-container {\n",
              "      display:flex;\n",
              "      gap: 12px;\n",
              "    }\n",
              "\n",
              "    .colab-df-convert {\n",
              "      background-color: #E8F0FE;\n",
              "      border: none;\n",
              "      border-radius: 50%;\n",
              "      cursor: pointer;\n",
              "      display: none;\n",
              "      fill: #1967D2;\n",
              "      height: 32px;\n",
              "      padding: 0 0 0 0;\n",
              "      width: 32px;\n",
              "    }\n",
              "\n",
              "    .colab-df-convert:hover {\n",
              "      background-color: #E2EBFA;\n",
              "      box-shadow: 0px 1px 2px rgba(60, 64, 67, 0.3), 0px 1px 3px 1px rgba(60, 64, 67, 0.15);\n",
              "      fill: #174EA6;\n",
              "    }\n",
              "\n",
              "    .colab-df-buttons div {\n",
              "      margin-bottom: 4px;\n",
              "    }\n",
              "\n",
              "    [theme=dark] .colab-df-convert {\n",
              "      background-color: #3B4455;\n",
              "      fill: #D2E3FC;\n",
              "    }\n",
              "\n",
              "    [theme=dark] .colab-df-convert:hover {\n",
              "      background-color: #434B5C;\n",
              "      box-shadow: 0px 1px 3px 1px rgba(0, 0, 0, 0.15);\n",
              "      filter: drop-shadow(0px 1px 2px rgba(0, 0, 0, 0.3));\n",
              "      fill: #FFFFFF;\n",
              "    }\n",
              "  </style>\n",
              "\n",
              "    <script>\n",
              "      const buttonEl =\n",
              "        document.querySelector('#df-add0db62-e9d5-43b9-bb4d-0a014aaadd1b button.colab-df-convert');\n",
              "      buttonEl.style.display =\n",
              "        google.colab.kernel.accessAllowed ? 'block' : 'none';\n",
              "\n",
              "      async function convertToInteractive(key) {\n",
              "        const element = document.querySelector('#df-add0db62-e9d5-43b9-bb4d-0a014aaadd1b');\n",
              "        const dataTable =\n",
              "          await google.colab.kernel.invokeFunction('convertToInteractive',\n",
              "                                                    [key], {});\n",
              "        if (!dataTable) return;\n",
              "\n",
              "        const docLinkHtml = 'Like what you see? Visit the ' +\n",
              "          '<a target=\"_blank\" href=https://colab.research.google.com/notebooks/data_table.ipynb>data table notebook</a>'\n",
              "          + ' to learn more about interactive tables.';\n",
              "        element.innerHTML = '';\n",
              "        dataTable['output_type'] = 'display_data';\n",
              "        await google.colab.output.renderOutput(dataTable, element);\n",
              "        const docLink = document.createElement('div');\n",
              "        docLink.innerHTML = docLinkHtml;\n",
              "        element.appendChild(docLink);\n",
              "      }\n",
              "    </script>\n",
              "  </div>\n",
              "\n",
              "\n",
              "<div id=\"df-ab8ca641-7d83-4d73-bb84-5cde5968b68a\">\n",
              "  <button class=\"colab-df-quickchart\" onclick=\"quickchart('df-ab8ca641-7d83-4d73-bb84-5cde5968b68a')\"\n",
              "            title=\"Suggest charts\"\n",
              "            style=\"display:none;\">\n",
              "\n",
              "<svg xmlns=\"http://www.w3.org/2000/svg\" height=\"24px\"viewBox=\"0 0 24 24\"\n",
              "     width=\"24px\">\n",
              "    <g>\n",
              "        <path d=\"M19 3H5c-1.1 0-2 .9-2 2v14c0 1.1.9 2 2 2h14c1.1 0 2-.9 2-2V5c0-1.1-.9-2-2-2zM9 17H7v-7h2v7zm4 0h-2V7h2v10zm4 0h-2v-4h2v4z\"/>\n",
              "    </g>\n",
              "</svg>\n",
              "  </button>\n",
              "\n",
              "<style>\n",
              "  .colab-df-quickchart {\n",
              "      --bg-color: #E8F0FE;\n",
              "      --fill-color: #1967D2;\n",
              "      --hover-bg-color: #E2EBFA;\n",
              "      --hover-fill-color: #174EA6;\n",
              "      --disabled-fill-color: #AAA;\n",
              "      --disabled-bg-color: #DDD;\n",
              "  }\n",
              "\n",
              "  [theme=dark] .colab-df-quickchart {\n",
              "      --bg-color: #3B4455;\n",
              "      --fill-color: #D2E3FC;\n",
              "      --hover-bg-color: #434B5C;\n",
              "      --hover-fill-color: #FFFFFF;\n",
              "      --disabled-bg-color: #3B4455;\n",
              "      --disabled-fill-color: #666;\n",
              "  }\n",
              "\n",
              "  .colab-df-quickchart {\n",
              "    background-color: var(--bg-color);\n",
              "    border: none;\n",
              "    border-radius: 50%;\n",
              "    cursor: pointer;\n",
              "    display: none;\n",
              "    fill: var(--fill-color);\n",
              "    height: 32px;\n",
              "    padding: 0;\n",
              "    width: 32px;\n",
              "  }\n",
              "\n",
              "  .colab-df-quickchart:hover {\n",
              "    background-color: var(--hover-bg-color);\n",
              "    box-shadow: 0 1px 2px rgba(60, 64, 67, 0.3), 0 1px 3px 1px rgba(60, 64, 67, 0.15);\n",
              "    fill: var(--button-hover-fill-color);\n",
              "  }\n",
              "\n",
              "  .colab-df-quickchart-complete:disabled,\n",
              "  .colab-df-quickchart-complete:disabled:hover {\n",
              "    background-color: var(--disabled-bg-color);\n",
              "    fill: var(--disabled-fill-color);\n",
              "    box-shadow: none;\n",
              "  }\n",
              "\n",
              "  .colab-df-spinner {\n",
              "    border: 2px solid var(--fill-color);\n",
              "    border-color: transparent;\n",
              "    border-bottom-color: var(--fill-color);\n",
              "    animation:\n",
              "      spin 1s steps(1) infinite;\n",
              "  }\n",
              "\n",
              "  @keyframes spin {\n",
              "    0% {\n",
              "      border-color: transparent;\n",
              "      border-bottom-color: var(--fill-color);\n",
              "      border-left-color: var(--fill-color);\n",
              "    }\n",
              "    20% {\n",
              "      border-color: transparent;\n",
              "      border-left-color: var(--fill-color);\n",
              "      border-top-color: var(--fill-color);\n",
              "    }\n",
              "    30% {\n",
              "      border-color: transparent;\n",
              "      border-left-color: var(--fill-color);\n",
              "      border-top-color: var(--fill-color);\n",
              "      border-right-color: var(--fill-color);\n",
              "    }\n",
              "    40% {\n",
              "      border-color: transparent;\n",
              "      border-right-color: var(--fill-color);\n",
              "      border-top-color: var(--fill-color);\n",
              "    }\n",
              "    60% {\n",
              "      border-color: transparent;\n",
              "      border-right-color: var(--fill-color);\n",
              "    }\n",
              "    80% {\n",
              "      border-color: transparent;\n",
              "      border-right-color: var(--fill-color);\n",
              "      border-bottom-color: var(--fill-color);\n",
              "    }\n",
              "    90% {\n",
              "      border-color: transparent;\n",
              "      border-bottom-color: var(--fill-color);\n",
              "    }\n",
              "  }\n",
              "</style>\n",
              "\n",
              "  <script>\n",
              "    async function quickchart(key) {\n",
              "      const quickchartButtonEl =\n",
              "        document.querySelector('#' + key + ' button');\n",
              "      quickchartButtonEl.disabled = true;  // To prevent multiple clicks.\n",
              "      quickchartButtonEl.classList.add('colab-df-spinner');\n",
              "      try {\n",
              "        const charts = await google.colab.kernel.invokeFunction(\n",
              "            'suggestCharts', [key], {});\n",
              "      } catch (error) {\n",
              "        console.error('Error during call to suggestCharts:', error);\n",
              "      }\n",
              "      quickchartButtonEl.classList.remove('colab-df-spinner');\n",
              "      quickchartButtonEl.classList.add('colab-df-quickchart-complete');\n",
              "    }\n",
              "    (() => {\n",
              "      let quickchartButtonEl =\n",
              "        document.querySelector('#df-ab8ca641-7d83-4d73-bb84-5cde5968b68a button');\n",
              "      quickchartButtonEl.style.display =\n",
              "        google.colab.kernel.accessAllowed ? 'block' : 'none';\n",
              "    })();\n",
              "  </script>\n",
              "</div>\n",
              "\n",
              "  <div id=\"id_f1c19576-c104-4057-914f-f294a5ba0291\">\n",
              "    <style>\n",
              "      .colab-df-generate {\n",
              "        background-color: #E8F0FE;\n",
              "        border: none;\n",
              "        border-radius: 50%;\n",
              "        cursor: pointer;\n",
              "        display: none;\n",
              "        fill: #1967D2;\n",
              "        height: 32px;\n",
              "        padding: 0 0 0 0;\n",
              "        width: 32px;\n",
              "      }\n",
              "\n",
              "      .colab-df-generate:hover {\n",
              "        background-color: #E2EBFA;\n",
              "        box-shadow: 0px 1px 2px rgba(60, 64, 67, 0.3), 0px 1px 3px 1px rgba(60, 64, 67, 0.15);\n",
              "        fill: #174EA6;\n",
              "      }\n",
              "\n",
              "      [theme=dark] .colab-df-generate {\n",
              "        background-color: #3B4455;\n",
              "        fill: #D2E3FC;\n",
              "      }\n",
              "\n",
              "      [theme=dark] .colab-df-generate:hover {\n",
              "        background-color: #434B5C;\n",
              "        box-shadow: 0px 1px 3px 1px rgba(0, 0, 0, 0.15);\n",
              "        filter: drop-shadow(0px 1px 2px rgba(0, 0, 0, 0.3));\n",
              "        fill: #FFFFFF;\n",
              "      }\n",
              "    </style>\n",
              "    <button class=\"colab-df-generate\" onclick=\"generateWithVariable('real_news')\"\n",
              "            title=\"Generate code using this dataframe.\"\n",
              "            style=\"display:none;\">\n",
              "\n",
              "  <svg xmlns=\"http://www.w3.org/2000/svg\" height=\"24px\"viewBox=\"0 0 24 24\"\n",
              "       width=\"24px\">\n",
              "    <path d=\"M7,19H8.4L18.45,9,17,7.55,7,17.6ZM5,21V16.75L18.45,3.32a2,2,0,0,1,2.83,0l1.4,1.43a1.91,1.91,0,0,1,.58,1.4,1.91,1.91,0,0,1-.58,1.4L9.25,21ZM18.45,9,17,7.55Zm-12,3A5.31,5.31,0,0,0,4.9,8.1,5.31,5.31,0,0,0,1,6.5,5.31,5.31,0,0,0,4.9,4.9,5.31,5.31,0,0,0,6.5,1,5.31,5.31,0,0,0,8.1,4.9,5.31,5.31,0,0,0,12,6.5,5.46,5.46,0,0,0,6.5,12Z\"/>\n",
              "  </svg>\n",
              "    </button>\n",
              "    <script>\n",
              "      (() => {\n",
              "      const buttonEl =\n",
              "        document.querySelector('#id_f1c19576-c104-4057-914f-f294a5ba0291 button.colab-df-generate');\n",
              "      buttonEl.style.display =\n",
              "        google.colab.kernel.accessAllowed ? 'block' : 'none';\n",
              "\n",
              "      buttonEl.onclick = () => {\n",
              "        google.colab.notebook.generateWithVariable('real_news');\n",
              "      }\n",
              "      })();\n",
              "    </script>\n",
              "  </div>\n",
              "\n",
              "    </div>\n",
              "  </div>\n"
            ],
            "application/vnd.google.colaboratory.intrinsic+json": {
              "type": "dataframe",
              "variable_name": "real_news",
              "summary": "{\n  \"name\": \"real_news\",\n  \"rows\": 10367,\n  \"fields\": [\n    {\n      \"column\": \"Text\",\n      \"properties\": {\n        \"dtype\": \"category\",\n        \"num_unique_values\": 317,\n        \"samples\": [\n          \"Alat utama sistem senjata atau alutsista bekas menjadi sorotan selama debat calon presiden capres dan calon wakil presiden cawapres ketiga untuk Pemilihan Presiden Pilpres 2024 pada Minggu 712024 Menteri Pertahanan sekaligus capres nomor urut 2 Prabowo Subianto dicecar oleh capres nomor urut 1 Anies Baswedan dan capres nomor urut 3 Ganjar Pranowo soal alutsista bekas ituNamun Prabowo mengungkapkan alasannya membeli alutsista bekas lantaran alat perang itu usianya kurang lebih bisa mencapai 2530 tahunLalu apakah semua alutsista yang dibeli Prabowo mayoritas adalah armada bekas pakaiSimak selengkapnya dalam video berikutHost Wiyudha Betha DinaragisPenulis Naskah Tantri Febrina MaharaniVideografer Dimas BagasgaraVideo Editor Dimas BagasgaraProduser Naufal Noorosa RagadiniMusik Thunder TelecastedStealth Aakash GandhiObserver ChasmsMysterious Strange Things Yung LogosBlacksmith GodmodeAlutsista AlutsistaBekas PrabowoSubianto JernihkanHarapan Artikel terkait httpswwwkompascomtrenread20240108190000565disorotsaatdebatcapresinisederetalutsistabekasyangdibelimenhanpageall\",\n          \"Liputan6com Jakarta Dalam Upaya mewujudkan dunia yang lebih harmonis dan berkelanjutan Yayasan Upaya Indonesia Damai atau dikenal sebagai United In Diversity UID Foundation akan melangsungkan Tri Hita Karana Universal Reflection Journey T U yang turut mendukung Deklarasi Bersama Istiqlal Deklarasi ini merupakan sebuah seruan bagi seluruh umat manusia untuk bersatu dalam membangun masa depan yang lebih baik Dalam era globalisasi yang semakin kompleks umat manusia dihadapkan pada tantangan yang semakin besar THK U dan Deklarasi Istiqlal diharapkan dapat hadir sebagai sebuah lentera harapan menyinari jalan menuju perdamaian dan kemakmuran bagi seluruh umat manusia Dengan latar belakang keindahan alam Bali THK U menawarkan ruang bagi refleksi mendalam dan dialog konstruktif Pada 14 Desember 2024 para pemimpin dunia akan berkumpul di Kura Kura Bali untuk merefleksikan tantangan global yang mendesak dan merumuskan solusi bersama Advertisement Acara ini didasarkan pada nilainilai 5P Global Movement yaitu Perdamaian Kesejahteraan Manusia Bumi dan Kemitraan yang menjadi landasan bagi upaya kolektif kita untuk menciptakan dunia yang lebih adil damai dan berkelanjutan Tantowi Yahya Presiden UID menyebutkan bahwa THK U merupakan panggilan untuk kita dapat berhenti sejenak dan merenung atas tantangan global Tri Hita Karana Universal Reflection Journey hadir sebagai panggilan bagi kita semua untuk merefleksikan tantangan terbesar dunia sekaligus merumuskan solusi berkelanjutan yang berakar pada harmoni antara manusia alam dan spiritualitas Dengan semangat Tri Hita Karana kami mengajak seluruh pemimpin inovator dan insan peduli untuk bergabung dalam perjalanan transformasi ini ujar Tantowi Selasa 26112024 dalam keterangannya Duta Besar Keliling untuk Pasifik ini juga turut menyampaikan harapannya untuk THK U bisa berperan sebagai platform kolaborasi dan inovasi untuk masa depan berkelanjutan dan harmonis Terutama di masa penuh tantangan ini kolaborasi dan inovasi yang berlandaskan nilainilai kemanusiaan perdamaian dan keberlanjutan menjadi semakin penting Saya yakin melalui THK Universal Reflection Journey kita dapat berkontribusi dalam menciptakan masa depan yang lebih harmonis dan bahagia bagi generasi mendatang tambahnya\",\n          \"gaspol gaspolkompas putusanmk hastokristiyanto jernihmelihatdunia Sekjen PDIP Hasto Kristiyanto menyebut hasil Pemilu Presiden 2024 sebagai dimenangkannya pemilu prosedural di atas keadilan dan etika moral PDIP pun berkeyakinan putusan hakim MK ini masih akan diuji oleh waktu apakah dapat menghasilkan pemerintahan yang legitimate apalagi bila pemerintah mendatang harus berhadapan dengan sejumlah proyeksi krisis Di tengah kritikan PDIP ini akankah partai pimpinan Megawati Soekarnoputri ini mantap mengambil jalan sebagai oposisi atau beramairamai memasuki koalisi pendukung pemerintahKlik timecode di bawah untuk nonton momenmomen pilihan GASPOL0000 Intro0421 Kemenangan demokrasi prosedural0657 Jejak PDIP jadi oposisi di era SBY 0927 Gugat ke PTUN bukan tak mau move on1215 Putusan MK bakal diuji legitimasinya saat ada krisis 1852 Pengkhianatan itu biasa3031 Reaksi Megawati terhadap Jokowi4251 Rencana pertemuan Mega dan Jokowi 5224 PDIP oposisi atau koalisi pemerintah5655 Ganjar punya tugas baru dari MegawatiJernihMelihatDunia jernihkanharapan tatangditoAgar tidak ketinggalan beritaberita terkini terlengkap serta laporan langsung dari seluruh Indonesia yuk subscribe channel youtube Kompascom Aktifkan juga lonceng supaya kamu dapat notifikasi video terbaru dari Kompascom Follow kami di media sosial Facebook httpswwwfacebookcomKOMPAScomInstagram httpswwwinstagramcomKOMPAScomTwitter httpstwittercomkompascomTiktok httpstiktokcomkompascom\"\n        ],\n        \"semantic_type\": \"\",\n        \"description\": \"\"\n      }\n    },\n    {\n      \"column\": \"tagging\",\n      \"properties\": {\n        \"dtype\": \"category\",\n        \"num_unique_values\": 1,\n        \"samples\": [\n          \"non-hoax\"\n        ],\n        \"semantic_type\": \"\",\n        \"description\": \"\"\n      }\n    },\n    {\n      \"column\": \"label\",\n      \"properties\": {\n        \"dtype\": \"number\",\n        \"std\": 0,\n        \"min\": 1,\n        \"max\": 1,\n        \"num_unique_values\": 1,\n        \"samples\": [\n          1\n        ],\n        \"semantic_type\": \"\",\n        \"description\": \"\"\n      }\n    }\n  ]\n}"
            }
          },
          "metadata": {},
          "execution_count": 21
        }
      ],
      "source": [
        "real_news"
      ]
    },
    {
      "cell_type": "code",
      "execution_count": null,
      "metadata": {
        "id": "TTBA9Fg9GiPq"
      },
      "outputs": [],
      "source": [
        "# Load dataset hoax\n",
        "fake_news = pd.read_csv('cleaned_dataset_turnbackhoax_10_cleaned.csv')"
      ]
    },
    {
      "cell_type": "markdown",
      "metadata": {
        "id": "DvEKkMnwYCoO"
      },
      "source": [
        "# Combining and Shuffling the data"
      ]
    },
    {
      "cell_type": "code",
      "execution_count": null,
      "metadata": {
        "colab": {
          "base_uri": "https://localhost:8080/",
          "height": 424
        },
        "id": "KZ-ylSGjGNrv",
        "outputId": "e4317dd7-4c9a-49c1-b308-b83d1f479aaf"
      },
      "outputs": [
        {
          "output_type": "execute_result",
          "data": {
            "text/plain": [
              "                                                   Text tagging  label\n",
              "0     BISA DILIHAT SI ONTA YAMAN NGGAK PEDULI ITU AP...    hoax      0\n",
              "1     ini bener gasih?? Ya Allah gimna keadaan pa ha...    hoax      0\n",
              "2     Nenek lampir pemimpin partai banteng bercula s...    hoax      0\n",
              "3     gerombolan kulup banyak menyusup ke ormas2 isl...    hoax      0\n",
              "4     M g w ti Di Panggil B4waslu:exclamation: Bvntu...    hoax      0\n",
              "...                                                 ...     ...    ...\n",
              "6472  Raja Salman dari arab saudi membawa orang-oran...    hoax      0\n",
              "6473  hehe, selalu bisa tersenyum melihat tingkah la...    hoax      0\n",
              "6474  Pak Jokowi itu menjadi walikota periode pertam...    hoax      0\n",
              "6475  Hari ini, Rabu (23/09/2015), nilai tukar rupia...    hoax      0\n",
              "6476  MARI KITA TOLAK. 25 desember acara pastur di m...    hoax      0\n",
              "\n",
              "[6477 rows x 3 columns]"
            ],
            "text/html": [
              "\n",
              "  <div id=\"df-f51ff7d4-280f-4db2-aa15-907364c8917d\" class=\"colab-df-container\">\n",
              "    <div>\n",
              "<style scoped>\n",
              "    .dataframe tbody tr th:only-of-type {\n",
              "        vertical-align: middle;\n",
              "    }\n",
              "\n",
              "    .dataframe tbody tr th {\n",
              "        vertical-align: top;\n",
              "    }\n",
              "\n",
              "    .dataframe thead th {\n",
              "        text-align: right;\n",
              "    }\n",
              "</style>\n",
              "<table border=\"1\" class=\"dataframe\">\n",
              "  <thead>\n",
              "    <tr style=\"text-align: right;\">\n",
              "      <th></th>\n",
              "      <th>Text</th>\n",
              "      <th>tagging</th>\n",
              "      <th>label</th>\n",
              "    </tr>\n",
              "  </thead>\n",
              "  <tbody>\n",
              "    <tr>\n",
              "      <th>0</th>\n",
              "      <td>BISA DILIHAT SI ONTA YAMAN NGGAK PEDULI ITU AP...</td>\n",
              "      <td>hoax</td>\n",
              "      <td>0</td>\n",
              "    </tr>\n",
              "    <tr>\n",
              "      <th>1</th>\n",
              "      <td>ini bener gasih?? Ya Allah gimna keadaan pa ha...</td>\n",
              "      <td>hoax</td>\n",
              "      <td>0</td>\n",
              "    </tr>\n",
              "    <tr>\n",
              "      <th>2</th>\n",
              "      <td>Nenek lampir pemimpin partai banteng bercula s...</td>\n",
              "      <td>hoax</td>\n",
              "      <td>0</td>\n",
              "    </tr>\n",
              "    <tr>\n",
              "      <th>3</th>\n",
              "      <td>gerombolan kulup banyak menyusup ke ormas2 isl...</td>\n",
              "      <td>hoax</td>\n",
              "      <td>0</td>\n",
              "    </tr>\n",
              "    <tr>\n",
              "      <th>4</th>\n",
              "      <td>M g w ti Di Panggil B4waslu:exclamation: Bvntu...</td>\n",
              "      <td>hoax</td>\n",
              "      <td>0</td>\n",
              "    </tr>\n",
              "    <tr>\n",
              "      <th>...</th>\n",
              "      <td>...</td>\n",
              "      <td>...</td>\n",
              "      <td>...</td>\n",
              "    </tr>\n",
              "    <tr>\n",
              "      <th>6472</th>\n",
              "      <td>Raja Salman dari arab saudi membawa orang-oran...</td>\n",
              "      <td>hoax</td>\n",
              "      <td>0</td>\n",
              "    </tr>\n",
              "    <tr>\n",
              "      <th>6473</th>\n",
              "      <td>hehe, selalu bisa tersenyum melihat tingkah la...</td>\n",
              "      <td>hoax</td>\n",
              "      <td>0</td>\n",
              "    </tr>\n",
              "    <tr>\n",
              "      <th>6474</th>\n",
              "      <td>Pak Jokowi itu menjadi walikota periode pertam...</td>\n",
              "      <td>hoax</td>\n",
              "      <td>0</td>\n",
              "    </tr>\n",
              "    <tr>\n",
              "      <th>6475</th>\n",
              "      <td>Hari ini, Rabu (23/09/2015), nilai tukar rupia...</td>\n",
              "      <td>hoax</td>\n",
              "      <td>0</td>\n",
              "    </tr>\n",
              "    <tr>\n",
              "      <th>6476</th>\n",
              "      <td>MARI KITA TOLAK. 25 desember acara pastur di m...</td>\n",
              "      <td>hoax</td>\n",
              "      <td>0</td>\n",
              "    </tr>\n",
              "  </tbody>\n",
              "</table>\n",
              "<p>6477 rows × 3 columns</p>\n",
              "</div>\n",
              "    <div class=\"colab-df-buttons\">\n",
              "\n",
              "  <div class=\"colab-df-container\">\n",
              "    <button class=\"colab-df-convert\" onclick=\"convertToInteractive('df-f51ff7d4-280f-4db2-aa15-907364c8917d')\"\n",
              "            title=\"Convert this dataframe to an interactive table.\"\n",
              "            style=\"display:none;\">\n",
              "\n",
              "  <svg xmlns=\"http://www.w3.org/2000/svg\" height=\"24px\" viewBox=\"0 -960 960 960\">\n",
              "    <path d=\"M120-120v-720h720v720H120Zm60-500h600v-160H180v160Zm220 220h160v-160H400v160Zm0 220h160v-160H400v160ZM180-400h160v-160H180v160Zm440 0h160v-160H620v160ZM180-180h160v-160H180v160Zm440 0h160v-160H620v160Z\"/>\n",
              "  </svg>\n",
              "    </button>\n",
              "\n",
              "  <style>\n",
              "    .colab-df-container {\n",
              "      display:flex;\n",
              "      gap: 12px;\n",
              "    }\n",
              "\n",
              "    .colab-df-convert {\n",
              "      background-color: #E8F0FE;\n",
              "      border: none;\n",
              "      border-radius: 50%;\n",
              "      cursor: pointer;\n",
              "      display: none;\n",
              "      fill: #1967D2;\n",
              "      height: 32px;\n",
              "      padding: 0 0 0 0;\n",
              "      width: 32px;\n",
              "    }\n",
              "\n",
              "    .colab-df-convert:hover {\n",
              "      background-color: #E2EBFA;\n",
              "      box-shadow: 0px 1px 2px rgba(60, 64, 67, 0.3), 0px 1px 3px 1px rgba(60, 64, 67, 0.15);\n",
              "      fill: #174EA6;\n",
              "    }\n",
              "\n",
              "    .colab-df-buttons div {\n",
              "      margin-bottom: 4px;\n",
              "    }\n",
              "\n",
              "    [theme=dark] .colab-df-convert {\n",
              "      background-color: #3B4455;\n",
              "      fill: #D2E3FC;\n",
              "    }\n",
              "\n",
              "    [theme=dark] .colab-df-convert:hover {\n",
              "      background-color: #434B5C;\n",
              "      box-shadow: 0px 1px 3px 1px rgba(0, 0, 0, 0.15);\n",
              "      filter: drop-shadow(0px 1px 2px rgba(0, 0, 0, 0.3));\n",
              "      fill: #FFFFFF;\n",
              "    }\n",
              "  </style>\n",
              "\n",
              "    <script>\n",
              "      const buttonEl =\n",
              "        document.querySelector('#df-f51ff7d4-280f-4db2-aa15-907364c8917d button.colab-df-convert');\n",
              "      buttonEl.style.display =\n",
              "        google.colab.kernel.accessAllowed ? 'block' : 'none';\n",
              "\n",
              "      async function convertToInteractive(key) {\n",
              "        const element = document.querySelector('#df-f51ff7d4-280f-4db2-aa15-907364c8917d');\n",
              "        const dataTable =\n",
              "          await google.colab.kernel.invokeFunction('convertToInteractive',\n",
              "                                                    [key], {});\n",
              "        if (!dataTable) return;\n",
              "\n",
              "        const docLinkHtml = 'Like what you see? Visit the ' +\n",
              "          '<a target=\"_blank\" href=https://colab.research.google.com/notebooks/data_table.ipynb>data table notebook</a>'\n",
              "          + ' to learn more about interactive tables.';\n",
              "        element.innerHTML = '';\n",
              "        dataTable['output_type'] = 'display_data';\n",
              "        await google.colab.output.renderOutput(dataTable, element);\n",
              "        const docLink = document.createElement('div');\n",
              "        docLink.innerHTML = docLinkHtml;\n",
              "        element.appendChild(docLink);\n",
              "      }\n",
              "    </script>\n",
              "  </div>\n",
              "\n",
              "\n",
              "<div id=\"df-b26fa3cb-abae-4e80-865e-ae025bc5c539\">\n",
              "  <button class=\"colab-df-quickchart\" onclick=\"quickchart('df-b26fa3cb-abae-4e80-865e-ae025bc5c539')\"\n",
              "            title=\"Suggest charts\"\n",
              "            style=\"display:none;\">\n",
              "\n",
              "<svg xmlns=\"http://www.w3.org/2000/svg\" height=\"24px\"viewBox=\"0 0 24 24\"\n",
              "     width=\"24px\">\n",
              "    <g>\n",
              "        <path d=\"M19 3H5c-1.1 0-2 .9-2 2v14c0 1.1.9 2 2 2h14c1.1 0 2-.9 2-2V5c0-1.1-.9-2-2-2zM9 17H7v-7h2v7zm4 0h-2V7h2v10zm4 0h-2v-4h2v4z\"/>\n",
              "    </g>\n",
              "</svg>\n",
              "  </button>\n",
              "\n",
              "<style>\n",
              "  .colab-df-quickchart {\n",
              "      --bg-color: #E8F0FE;\n",
              "      --fill-color: #1967D2;\n",
              "      --hover-bg-color: #E2EBFA;\n",
              "      --hover-fill-color: #174EA6;\n",
              "      --disabled-fill-color: #AAA;\n",
              "      --disabled-bg-color: #DDD;\n",
              "  }\n",
              "\n",
              "  [theme=dark] .colab-df-quickchart {\n",
              "      --bg-color: #3B4455;\n",
              "      --fill-color: #D2E3FC;\n",
              "      --hover-bg-color: #434B5C;\n",
              "      --hover-fill-color: #FFFFFF;\n",
              "      --disabled-bg-color: #3B4455;\n",
              "      --disabled-fill-color: #666;\n",
              "  }\n",
              "\n",
              "  .colab-df-quickchart {\n",
              "    background-color: var(--bg-color);\n",
              "    border: none;\n",
              "    border-radius: 50%;\n",
              "    cursor: pointer;\n",
              "    display: none;\n",
              "    fill: var(--fill-color);\n",
              "    height: 32px;\n",
              "    padding: 0;\n",
              "    width: 32px;\n",
              "  }\n",
              "\n",
              "  .colab-df-quickchart:hover {\n",
              "    background-color: var(--hover-bg-color);\n",
              "    box-shadow: 0 1px 2px rgba(60, 64, 67, 0.3), 0 1px 3px 1px rgba(60, 64, 67, 0.15);\n",
              "    fill: var(--button-hover-fill-color);\n",
              "  }\n",
              "\n",
              "  .colab-df-quickchart-complete:disabled,\n",
              "  .colab-df-quickchart-complete:disabled:hover {\n",
              "    background-color: var(--disabled-bg-color);\n",
              "    fill: var(--disabled-fill-color);\n",
              "    box-shadow: none;\n",
              "  }\n",
              "\n",
              "  .colab-df-spinner {\n",
              "    border: 2px solid var(--fill-color);\n",
              "    border-color: transparent;\n",
              "    border-bottom-color: var(--fill-color);\n",
              "    animation:\n",
              "      spin 1s steps(1) infinite;\n",
              "  }\n",
              "\n",
              "  @keyframes spin {\n",
              "    0% {\n",
              "      border-color: transparent;\n",
              "      border-bottom-color: var(--fill-color);\n",
              "      border-left-color: var(--fill-color);\n",
              "    }\n",
              "    20% {\n",
              "      border-color: transparent;\n",
              "      border-left-color: var(--fill-color);\n",
              "      border-top-color: var(--fill-color);\n",
              "    }\n",
              "    30% {\n",
              "      border-color: transparent;\n",
              "      border-left-color: var(--fill-color);\n",
              "      border-top-color: var(--fill-color);\n",
              "      border-right-color: var(--fill-color);\n",
              "    }\n",
              "    40% {\n",
              "      border-color: transparent;\n",
              "      border-right-color: var(--fill-color);\n",
              "      border-top-color: var(--fill-color);\n",
              "    }\n",
              "    60% {\n",
              "      border-color: transparent;\n",
              "      border-right-color: var(--fill-color);\n",
              "    }\n",
              "    80% {\n",
              "      border-color: transparent;\n",
              "      border-right-color: var(--fill-color);\n",
              "      border-bottom-color: var(--fill-color);\n",
              "    }\n",
              "    90% {\n",
              "      border-color: transparent;\n",
              "      border-bottom-color: var(--fill-color);\n",
              "    }\n",
              "  }\n",
              "</style>\n",
              "\n",
              "  <script>\n",
              "    async function quickchart(key) {\n",
              "      const quickchartButtonEl =\n",
              "        document.querySelector('#' + key + ' button');\n",
              "      quickchartButtonEl.disabled = true;  // To prevent multiple clicks.\n",
              "      quickchartButtonEl.classList.add('colab-df-spinner');\n",
              "      try {\n",
              "        const charts = await google.colab.kernel.invokeFunction(\n",
              "            'suggestCharts', [key], {});\n",
              "      } catch (error) {\n",
              "        console.error('Error during call to suggestCharts:', error);\n",
              "      }\n",
              "      quickchartButtonEl.classList.remove('colab-df-spinner');\n",
              "      quickchartButtonEl.classList.add('colab-df-quickchart-complete');\n",
              "    }\n",
              "    (() => {\n",
              "      let quickchartButtonEl =\n",
              "        document.querySelector('#df-b26fa3cb-abae-4e80-865e-ae025bc5c539 button');\n",
              "      quickchartButtonEl.style.display =\n",
              "        google.colab.kernel.accessAllowed ? 'block' : 'none';\n",
              "    })();\n",
              "  </script>\n",
              "</div>\n",
              "\n",
              "  <div id=\"id_84d62aef-5434-479e-8193-eb4725c20625\">\n",
              "    <style>\n",
              "      .colab-df-generate {\n",
              "        background-color: #E8F0FE;\n",
              "        border: none;\n",
              "        border-radius: 50%;\n",
              "        cursor: pointer;\n",
              "        display: none;\n",
              "        fill: #1967D2;\n",
              "        height: 32px;\n",
              "        padding: 0 0 0 0;\n",
              "        width: 32px;\n",
              "      }\n",
              "\n",
              "      .colab-df-generate:hover {\n",
              "        background-color: #E2EBFA;\n",
              "        box-shadow: 0px 1px 2px rgba(60, 64, 67, 0.3), 0px 1px 3px 1px rgba(60, 64, 67, 0.15);\n",
              "        fill: #174EA6;\n",
              "      }\n",
              "\n",
              "      [theme=dark] .colab-df-generate {\n",
              "        background-color: #3B4455;\n",
              "        fill: #D2E3FC;\n",
              "      }\n",
              "\n",
              "      [theme=dark] .colab-df-generate:hover {\n",
              "        background-color: #434B5C;\n",
              "        box-shadow: 0px 1px 3px 1px rgba(0, 0, 0, 0.15);\n",
              "        filter: drop-shadow(0px 1px 2px rgba(0, 0, 0, 0.3));\n",
              "        fill: #FFFFFF;\n",
              "      }\n",
              "    </style>\n",
              "    <button class=\"colab-df-generate\" onclick=\"generateWithVariable('fake_news')\"\n",
              "            title=\"Generate code using this dataframe.\"\n",
              "            style=\"display:none;\">\n",
              "\n",
              "  <svg xmlns=\"http://www.w3.org/2000/svg\" height=\"24px\"viewBox=\"0 0 24 24\"\n",
              "       width=\"24px\">\n",
              "    <path d=\"M7,19H8.4L18.45,9,17,7.55,7,17.6ZM5,21V16.75L18.45,3.32a2,2,0,0,1,2.83,0l1.4,1.43a1.91,1.91,0,0,1,.58,1.4,1.91,1.91,0,0,1-.58,1.4L9.25,21ZM18.45,9,17,7.55Zm-12,3A5.31,5.31,0,0,0,4.9,8.1,5.31,5.31,0,0,0,1,6.5,5.31,5.31,0,0,0,4.9,4.9,5.31,5.31,0,0,0,6.5,1,5.31,5.31,0,0,0,8.1,4.9,5.31,5.31,0,0,0,12,6.5,5.46,5.46,0,0,0,6.5,12Z\"/>\n",
              "  </svg>\n",
              "    </button>\n",
              "    <script>\n",
              "      (() => {\n",
              "      const buttonEl =\n",
              "        document.querySelector('#id_84d62aef-5434-479e-8193-eb4725c20625 button.colab-df-generate');\n",
              "      buttonEl.style.display =\n",
              "        google.colab.kernel.accessAllowed ? 'block' : 'none';\n",
              "\n",
              "      buttonEl.onclick = () => {\n",
              "        google.colab.notebook.generateWithVariable('fake_news');\n",
              "      }\n",
              "      })();\n",
              "    </script>\n",
              "  </div>\n",
              "\n",
              "    </div>\n",
              "  </div>\n"
            ],
            "application/vnd.google.colaboratory.intrinsic+json": {
              "type": "dataframe",
              "variable_name": "fake_news",
              "summary": "{\n  \"name\": \"fake_news\",\n  \"rows\": 6477,\n  \"fields\": [\n    {\n      \"column\": \"Text\",\n      \"properties\": {\n        \"dtype\": \"string\",\n        \"num_unique_values\": 6477,\n        \"samples\": [\n          \"Inilah video detik detik kecelakan mobil vanesa angel yang terekam kamera saat menghantam pagar pembatas di tol jombang\",\n          \"Bagi yang belum dapat vaksin 1 dan 2 silakan datang ke RSAL untuk ikut vaksin di sana.Hari/Tanggal : Senin, 16 Agustus 2021Likasi : RSAL (Tenda depan Fakultas Kedokteran Hang Tuah)Mobil dan motor masuk lewat depan frontage A. YaniPukul : 07.00 selesaiSyarat: Vaksin 1 KTP asliVaksin 2 KTP asli dan surat vaksin ke 1Vaksin ke 1 bukan di RSAL tetap bisa datangHanya untuk jadwal vaksin ke 2 pas di hari H (Tgl. 16 Agustus) atau yang sudah lewat waktunya vaksin ke 2 tidak boleh ikutKTP Surabaya maupun luar Surabaya tetap bisa datang, tanpa surat domisiliJenis vaksin : Sinovac.\",\n          \"17 countries have BANNED OXFORD ASTRA ZENICA apart from the Still happy to take it???\"\n        ],\n        \"semantic_type\": \"\",\n        \"description\": \"\"\n      }\n    },\n    {\n      \"column\": \"tagging\",\n      \"properties\": {\n        \"dtype\": \"category\",\n        \"num_unique_values\": 1,\n        \"samples\": [\n          \"hoax\"\n        ],\n        \"semantic_type\": \"\",\n        \"description\": \"\"\n      }\n    },\n    {\n      \"column\": \"label\",\n      \"properties\": {\n        \"dtype\": \"number\",\n        \"std\": 0,\n        \"min\": 0,\n        \"max\": 0,\n        \"num_unique_values\": 1,\n        \"samples\": [\n          0\n        ],\n        \"semantic_type\": \"\",\n        \"description\": \"\"\n      }\n    }\n  ]\n}"
            }
          },
          "metadata": {},
          "execution_count": 23
        }
      ],
      "source": [
        "fake_news"
      ]
    },
    {
      "cell_type": "code",
      "execution_count": null,
      "metadata": {
        "colab": {
          "base_uri": "https://localhost:8080/"
        },
        "id": "rADmIBu0Gj-g",
        "outputId": "8d6d0a32-706b-4f02-9b03-9f07dcb71286"
      },
      "outputs": [
        {
          "output_type": "stream",
          "name": "stdout",
          "text": [
            "Data berhasil dimuat dan file CSV gabungan telah dibuat!\n"
          ]
        }
      ],
      "source": [
        "# Supaya label lebih terkonfirmasi dengan lebal masing\"\n",
        "fake_news['label'] = 0\n",
        "real_news['label'] = 1\n",
        "\n",
        "# Gabung file\n",
        "data = pd.concat([fake_news, real_news]).sample(frac=1.0)\n",
        "\n",
        "# Simpen gabungan file\n",
        "data.to_csv('combined.csv', index=False)\n",
        "\n",
        "print(\"Data berhasil dimuat dan file CSV gabungan telah dibuat!\")"
      ]
    },
    {
      "cell_type": "code",
      "execution_count": null,
      "metadata": {
        "colab": {
          "base_uri": "https://localhost:8080/",
          "height": 424
        },
        "id": "iK9GypFwGt80",
        "outputId": "04134469-922f-4338-a8e8-21951e9a78ac"
      },
      "outputs": [
        {
          "output_type": "execute_result",
          "data": {
            "text/plain": [
              "                                                   Text   tagging  label\n",
              "4040  Liputan6com Jakarta Ketua Umum Ketum Partai Go...  non-hoax      1\n",
              "622   TEL AVIV KOMPAScom Pemerintah Israel setuju ge...  non-hoax      1\n",
              "1242  Perkenalkan saya Bupati Situbondo . Dana donas...      hoax      0\n",
              "2778  Liputan6com Jakarta Direktur Eksekutif Amnesty...  non-hoax      1\n",
              "2554  Liputan6com Jakarta Dalam momentum Pilkada 202...  non-hoax      1\n",
              "...                                                 ...       ...    ...\n",
              "1346  Ma ruf Amin: ajak orang berharta bantu negara ...      hoax      0\n",
              "6602  Jakarta Lembaga survei Indikator merilis hasil...  non-hoax      1\n",
              "3686  China Komunis BIADAB sudah mulai cari masalah ...      hoax      0\n",
              "783   GANJAR RESMI DIKELUARKAN MEGAWATI USIR GANJAR ...      hoax      0\n",
              "6181  Ridwan alias Ius Pane, DPO Perampokan Pulomas ...      hoax      0\n",
              "\n",
              "[16844 rows x 3 columns]"
            ],
            "text/html": [
              "\n",
              "  <div id=\"df-d60a25a0-1b5e-44ee-86f6-1d5074991923\" class=\"colab-df-container\">\n",
              "    <div>\n",
              "<style scoped>\n",
              "    .dataframe tbody tr th:only-of-type {\n",
              "        vertical-align: middle;\n",
              "    }\n",
              "\n",
              "    .dataframe tbody tr th {\n",
              "        vertical-align: top;\n",
              "    }\n",
              "\n",
              "    .dataframe thead th {\n",
              "        text-align: right;\n",
              "    }\n",
              "</style>\n",
              "<table border=\"1\" class=\"dataframe\">\n",
              "  <thead>\n",
              "    <tr style=\"text-align: right;\">\n",
              "      <th></th>\n",
              "      <th>Text</th>\n",
              "      <th>tagging</th>\n",
              "      <th>label</th>\n",
              "    </tr>\n",
              "  </thead>\n",
              "  <tbody>\n",
              "    <tr>\n",
              "      <th>4040</th>\n",
              "      <td>Liputan6com Jakarta Ketua Umum Ketum Partai Go...</td>\n",
              "      <td>non-hoax</td>\n",
              "      <td>1</td>\n",
              "    </tr>\n",
              "    <tr>\n",
              "      <th>622</th>\n",
              "      <td>TEL AVIV KOMPAScom Pemerintah Israel setuju ge...</td>\n",
              "      <td>non-hoax</td>\n",
              "      <td>1</td>\n",
              "    </tr>\n",
              "    <tr>\n",
              "      <th>1242</th>\n",
              "      <td>Perkenalkan saya Bupati Situbondo . Dana donas...</td>\n",
              "      <td>hoax</td>\n",
              "      <td>0</td>\n",
              "    </tr>\n",
              "    <tr>\n",
              "      <th>2778</th>\n",
              "      <td>Liputan6com Jakarta Direktur Eksekutif Amnesty...</td>\n",
              "      <td>non-hoax</td>\n",
              "      <td>1</td>\n",
              "    </tr>\n",
              "    <tr>\n",
              "      <th>2554</th>\n",
              "      <td>Liputan6com Jakarta Dalam momentum Pilkada 202...</td>\n",
              "      <td>non-hoax</td>\n",
              "      <td>1</td>\n",
              "    </tr>\n",
              "    <tr>\n",
              "      <th>...</th>\n",
              "      <td>...</td>\n",
              "      <td>...</td>\n",
              "      <td>...</td>\n",
              "    </tr>\n",
              "    <tr>\n",
              "      <th>1346</th>\n",
              "      <td>Ma ruf Amin: ajak orang berharta bantu negara ...</td>\n",
              "      <td>hoax</td>\n",
              "      <td>0</td>\n",
              "    </tr>\n",
              "    <tr>\n",
              "      <th>6602</th>\n",
              "      <td>Jakarta Lembaga survei Indikator merilis hasil...</td>\n",
              "      <td>non-hoax</td>\n",
              "      <td>1</td>\n",
              "    </tr>\n",
              "    <tr>\n",
              "      <th>3686</th>\n",
              "      <td>China Komunis BIADAB sudah mulai cari masalah ...</td>\n",
              "      <td>hoax</td>\n",
              "      <td>0</td>\n",
              "    </tr>\n",
              "    <tr>\n",
              "      <th>783</th>\n",
              "      <td>GANJAR RESMI DIKELUARKAN MEGAWATI USIR GANJAR ...</td>\n",
              "      <td>hoax</td>\n",
              "      <td>0</td>\n",
              "    </tr>\n",
              "    <tr>\n",
              "      <th>6181</th>\n",
              "      <td>Ridwan alias Ius Pane, DPO Perampokan Pulomas ...</td>\n",
              "      <td>hoax</td>\n",
              "      <td>0</td>\n",
              "    </tr>\n",
              "  </tbody>\n",
              "</table>\n",
              "<p>16844 rows × 3 columns</p>\n",
              "</div>\n",
              "    <div class=\"colab-df-buttons\">\n",
              "\n",
              "  <div class=\"colab-df-container\">\n",
              "    <button class=\"colab-df-convert\" onclick=\"convertToInteractive('df-d60a25a0-1b5e-44ee-86f6-1d5074991923')\"\n",
              "            title=\"Convert this dataframe to an interactive table.\"\n",
              "            style=\"display:none;\">\n",
              "\n",
              "  <svg xmlns=\"http://www.w3.org/2000/svg\" height=\"24px\" viewBox=\"0 -960 960 960\">\n",
              "    <path d=\"M120-120v-720h720v720H120Zm60-500h600v-160H180v160Zm220 220h160v-160H400v160Zm0 220h160v-160H400v160ZM180-400h160v-160H180v160Zm440 0h160v-160H620v160ZM180-180h160v-160H180v160Zm440 0h160v-160H620v160Z\"/>\n",
              "  </svg>\n",
              "    </button>\n",
              "\n",
              "  <style>\n",
              "    .colab-df-container {\n",
              "      display:flex;\n",
              "      gap: 12px;\n",
              "    }\n",
              "\n",
              "    .colab-df-convert {\n",
              "      background-color: #E8F0FE;\n",
              "      border: none;\n",
              "      border-radius: 50%;\n",
              "      cursor: pointer;\n",
              "      display: none;\n",
              "      fill: #1967D2;\n",
              "      height: 32px;\n",
              "      padding: 0 0 0 0;\n",
              "      width: 32px;\n",
              "    }\n",
              "\n",
              "    .colab-df-convert:hover {\n",
              "      background-color: #E2EBFA;\n",
              "      box-shadow: 0px 1px 2px rgba(60, 64, 67, 0.3), 0px 1px 3px 1px rgba(60, 64, 67, 0.15);\n",
              "      fill: #174EA6;\n",
              "    }\n",
              "\n",
              "    .colab-df-buttons div {\n",
              "      margin-bottom: 4px;\n",
              "    }\n",
              "\n",
              "    [theme=dark] .colab-df-convert {\n",
              "      background-color: #3B4455;\n",
              "      fill: #D2E3FC;\n",
              "    }\n",
              "\n",
              "    [theme=dark] .colab-df-convert:hover {\n",
              "      background-color: #434B5C;\n",
              "      box-shadow: 0px 1px 3px 1px rgba(0, 0, 0, 0.15);\n",
              "      filter: drop-shadow(0px 1px 2px rgba(0, 0, 0, 0.3));\n",
              "      fill: #FFFFFF;\n",
              "    }\n",
              "  </style>\n",
              "\n",
              "    <script>\n",
              "      const buttonEl =\n",
              "        document.querySelector('#df-d60a25a0-1b5e-44ee-86f6-1d5074991923 button.colab-df-convert');\n",
              "      buttonEl.style.display =\n",
              "        google.colab.kernel.accessAllowed ? 'block' : 'none';\n",
              "\n",
              "      async function convertToInteractive(key) {\n",
              "        const element = document.querySelector('#df-d60a25a0-1b5e-44ee-86f6-1d5074991923');\n",
              "        const dataTable =\n",
              "          await google.colab.kernel.invokeFunction('convertToInteractive',\n",
              "                                                    [key], {});\n",
              "        if (!dataTable) return;\n",
              "\n",
              "        const docLinkHtml = 'Like what you see? Visit the ' +\n",
              "          '<a target=\"_blank\" href=https://colab.research.google.com/notebooks/data_table.ipynb>data table notebook</a>'\n",
              "          + ' to learn more about interactive tables.';\n",
              "        element.innerHTML = '';\n",
              "        dataTable['output_type'] = 'display_data';\n",
              "        await google.colab.output.renderOutput(dataTable, element);\n",
              "        const docLink = document.createElement('div');\n",
              "        docLink.innerHTML = docLinkHtml;\n",
              "        element.appendChild(docLink);\n",
              "      }\n",
              "    </script>\n",
              "  </div>\n",
              "\n",
              "\n",
              "<div id=\"df-c69a9fdf-9d91-43d6-95aa-d97f4e1b62a1\">\n",
              "  <button class=\"colab-df-quickchart\" onclick=\"quickchart('df-c69a9fdf-9d91-43d6-95aa-d97f4e1b62a1')\"\n",
              "            title=\"Suggest charts\"\n",
              "            style=\"display:none;\">\n",
              "\n",
              "<svg xmlns=\"http://www.w3.org/2000/svg\" height=\"24px\"viewBox=\"0 0 24 24\"\n",
              "     width=\"24px\">\n",
              "    <g>\n",
              "        <path d=\"M19 3H5c-1.1 0-2 .9-2 2v14c0 1.1.9 2 2 2h14c1.1 0 2-.9 2-2V5c0-1.1-.9-2-2-2zM9 17H7v-7h2v7zm4 0h-2V7h2v10zm4 0h-2v-4h2v4z\"/>\n",
              "    </g>\n",
              "</svg>\n",
              "  </button>\n",
              "\n",
              "<style>\n",
              "  .colab-df-quickchart {\n",
              "      --bg-color: #E8F0FE;\n",
              "      --fill-color: #1967D2;\n",
              "      --hover-bg-color: #E2EBFA;\n",
              "      --hover-fill-color: #174EA6;\n",
              "      --disabled-fill-color: #AAA;\n",
              "      --disabled-bg-color: #DDD;\n",
              "  }\n",
              "\n",
              "  [theme=dark] .colab-df-quickchart {\n",
              "      --bg-color: #3B4455;\n",
              "      --fill-color: #D2E3FC;\n",
              "      --hover-bg-color: #434B5C;\n",
              "      --hover-fill-color: #FFFFFF;\n",
              "      --disabled-bg-color: #3B4455;\n",
              "      --disabled-fill-color: #666;\n",
              "  }\n",
              "\n",
              "  .colab-df-quickchart {\n",
              "    background-color: var(--bg-color);\n",
              "    border: none;\n",
              "    border-radius: 50%;\n",
              "    cursor: pointer;\n",
              "    display: none;\n",
              "    fill: var(--fill-color);\n",
              "    height: 32px;\n",
              "    padding: 0;\n",
              "    width: 32px;\n",
              "  }\n",
              "\n",
              "  .colab-df-quickchart:hover {\n",
              "    background-color: var(--hover-bg-color);\n",
              "    box-shadow: 0 1px 2px rgba(60, 64, 67, 0.3), 0 1px 3px 1px rgba(60, 64, 67, 0.15);\n",
              "    fill: var(--button-hover-fill-color);\n",
              "  }\n",
              "\n",
              "  .colab-df-quickchart-complete:disabled,\n",
              "  .colab-df-quickchart-complete:disabled:hover {\n",
              "    background-color: var(--disabled-bg-color);\n",
              "    fill: var(--disabled-fill-color);\n",
              "    box-shadow: none;\n",
              "  }\n",
              "\n",
              "  .colab-df-spinner {\n",
              "    border: 2px solid var(--fill-color);\n",
              "    border-color: transparent;\n",
              "    border-bottom-color: var(--fill-color);\n",
              "    animation:\n",
              "      spin 1s steps(1) infinite;\n",
              "  }\n",
              "\n",
              "  @keyframes spin {\n",
              "    0% {\n",
              "      border-color: transparent;\n",
              "      border-bottom-color: var(--fill-color);\n",
              "      border-left-color: var(--fill-color);\n",
              "    }\n",
              "    20% {\n",
              "      border-color: transparent;\n",
              "      border-left-color: var(--fill-color);\n",
              "      border-top-color: var(--fill-color);\n",
              "    }\n",
              "    30% {\n",
              "      border-color: transparent;\n",
              "      border-left-color: var(--fill-color);\n",
              "      border-top-color: var(--fill-color);\n",
              "      border-right-color: var(--fill-color);\n",
              "    }\n",
              "    40% {\n",
              "      border-color: transparent;\n",
              "      border-right-color: var(--fill-color);\n",
              "      border-top-color: var(--fill-color);\n",
              "    }\n",
              "    60% {\n",
              "      border-color: transparent;\n",
              "      border-right-color: var(--fill-color);\n",
              "    }\n",
              "    80% {\n",
              "      border-color: transparent;\n",
              "      border-right-color: var(--fill-color);\n",
              "      border-bottom-color: var(--fill-color);\n",
              "    }\n",
              "    90% {\n",
              "      border-color: transparent;\n",
              "      border-bottom-color: var(--fill-color);\n",
              "    }\n",
              "  }\n",
              "</style>\n",
              "\n",
              "  <script>\n",
              "    async function quickchart(key) {\n",
              "      const quickchartButtonEl =\n",
              "        document.querySelector('#' + key + ' button');\n",
              "      quickchartButtonEl.disabled = true;  // To prevent multiple clicks.\n",
              "      quickchartButtonEl.classList.add('colab-df-spinner');\n",
              "      try {\n",
              "        const charts = await google.colab.kernel.invokeFunction(\n",
              "            'suggestCharts', [key], {});\n",
              "      } catch (error) {\n",
              "        console.error('Error during call to suggestCharts:', error);\n",
              "      }\n",
              "      quickchartButtonEl.classList.remove('colab-df-spinner');\n",
              "      quickchartButtonEl.classList.add('colab-df-quickchart-complete');\n",
              "    }\n",
              "    (() => {\n",
              "      let quickchartButtonEl =\n",
              "        document.querySelector('#df-c69a9fdf-9d91-43d6-95aa-d97f4e1b62a1 button');\n",
              "      quickchartButtonEl.style.display =\n",
              "        google.colab.kernel.accessAllowed ? 'block' : 'none';\n",
              "    })();\n",
              "  </script>\n",
              "</div>\n",
              "\n",
              "  <div id=\"id_3edfd0eb-548d-4219-9665-c73c3a07a23b\">\n",
              "    <style>\n",
              "      .colab-df-generate {\n",
              "        background-color: #E8F0FE;\n",
              "        border: none;\n",
              "        border-radius: 50%;\n",
              "        cursor: pointer;\n",
              "        display: none;\n",
              "        fill: #1967D2;\n",
              "        height: 32px;\n",
              "        padding: 0 0 0 0;\n",
              "        width: 32px;\n",
              "      }\n",
              "\n",
              "      .colab-df-generate:hover {\n",
              "        background-color: #E2EBFA;\n",
              "        box-shadow: 0px 1px 2px rgba(60, 64, 67, 0.3), 0px 1px 3px 1px rgba(60, 64, 67, 0.15);\n",
              "        fill: #174EA6;\n",
              "      }\n",
              "\n",
              "      [theme=dark] .colab-df-generate {\n",
              "        background-color: #3B4455;\n",
              "        fill: #D2E3FC;\n",
              "      }\n",
              "\n",
              "      [theme=dark] .colab-df-generate:hover {\n",
              "        background-color: #434B5C;\n",
              "        box-shadow: 0px 1px 3px 1px rgba(0, 0, 0, 0.15);\n",
              "        filter: drop-shadow(0px 1px 2px rgba(0, 0, 0, 0.3));\n",
              "        fill: #FFFFFF;\n",
              "      }\n",
              "    </style>\n",
              "    <button class=\"colab-df-generate\" onclick=\"generateWithVariable('data')\"\n",
              "            title=\"Generate code using this dataframe.\"\n",
              "            style=\"display:none;\">\n",
              "\n",
              "  <svg xmlns=\"http://www.w3.org/2000/svg\" height=\"24px\"viewBox=\"0 0 24 24\"\n",
              "       width=\"24px\">\n",
              "    <path d=\"M7,19H8.4L18.45,9,17,7.55,7,17.6ZM5,21V16.75L18.45,3.32a2,2,0,0,1,2.83,0l1.4,1.43a1.91,1.91,0,0,1,.58,1.4,1.91,1.91,0,0,1-.58,1.4L9.25,21ZM18.45,9,17,7.55Zm-12,3A5.31,5.31,0,0,0,4.9,8.1,5.31,5.31,0,0,0,1,6.5,5.31,5.31,0,0,0,4.9,4.9,5.31,5.31,0,0,0,6.5,1,5.31,5.31,0,0,0,8.1,4.9,5.31,5.31,0,0,0,12,6.5,5.46,5.46,0,0,0,6.5,12Z\"/>\n",
              "  </svg>\n",
              "    </button>\n",
              "    <script>\n",
              "      (() => {\n",
              "      const buttonEl =\n",
              "        document.querySelector('#id_3edfd0eb-548d-4219-9665-c73c3a07a23b button.colab-df-generate');\n",
              "      buttonEl.style.display =\n",
              "        google.colab.kernel.accessAllowed ? 'block' : 'none';\n",
              "\n",
              "      buttonEl.onclick = () => {\n",
              "        google.colab.notebook.generateWithVariable('data');\n",
              "      }\n",
              "      })();\n",
              "    </script>\n",
              "  </div>\n",
              "\n",
              "    </div>\n",
              "  </div>\n"
            ],
            "application/vnd.google.colaboratory.intrinsic+json": {
              "type": "dataframe",
              "variable_name": "data",
              "summary": "{\n  \"name\": \"data\",\n  \"rows\": 16844,\n  \"fields\": [\n    {\n      \"column\": \"Text\",\n      \"properties\": {\n        \"dtype\": \"category\",\n        \"num_unique_values\": 6794,\n        \"samples\": [\n          \"Beredar kabar pesan berantai perselingkuhan antara FZ dan RS seseorang petinggi PARTAI GERINDRA ?? Berdasarkan sumber yang diperoleh dari seseorang di internal partai gerindra yang sudah tidak loyal kepada PRABOWO membeberkan adanya SKANDAL Perselingkuhan antara Wakil Ketua Umum Partai Gerindra, FADLI ZON dan RESIYA SYAFRI (Mantan Wakil Bendahara Umum) Partai Gerindra. Tampilan dan Parasnya yang anggun membuat Resiya Syafri sering menjual tubuh cantiknya ke beberapa tokoh penting di internal PARTAI GERINDRA . Selain itu ada informasi dari internal partai,RESIYA SYAFRI juga sering menjadi teman tidur Ketua Bidang Analisa dan Pengembangan Potensi Kader yaitu Benny Pangbin . Diketahui Resiya Syafri Sebenarnya sudah mempunyai suami bernama RIO WAHENDRA dan dikaruniai 1 orang anak bernama Rayya Annisa Camilia Wahendra .Dengan modal tubuh seksi dan paras yang cantik Resiya Syafri mendapatkan banyak keuntungan seperti dapat membeli barang-barang mewah serta jalan jalan keluar negeri. Sangat disayangkan adanya SKANDAL wanita yang bisa menurunkan marwah PARTAI GERINDRA tersebut. Pihak Pihak yang disebut wajib memberikan klarifikasi ke Publik, tulis akun Facebook @mustofabnahrawardaya, Selasa (17/4).\",\n          \"Yang melintas dijalanan KOTA DEPOK: Besok ada uji coba tilang e-CCTV. Berikut daftar Jl yang akan diuji coba antara lain: LAMPU MERAH RAMANDA LAMPU MERAH JUANDA LAMPU MERAH CIMANGGIS LAMPU MERAH SIMPANG DEPOK LAMPU MERAH KARTINI LAMPU MERAH CINERE Berhentilah di belakang garis Lampu TL. Hati hati dengan kecepatan ketika lampu TL sdh menyala warna kuning. Karena sensor CCTV akan me-ngezoom saat lampu kuning menyala. Mungkin jg dibeberapa wilayah atau tempat lain. Jangan lupa juga Utk Teman yang kerja atau perjalanan ke *KOTA DEPOK* informasi mulai bulan maret akan dipasang ratusan CCTV di tempat2 yang rawan pelanggaran Lalu Lintas seperti Traffic Light maupun tempat lain. Tujuan pemasangan CCTV tersebut adalah utk menangkap secara detail visual para pelanggar Lalin selanjutnya akan dilakukan penilangan secara elektronik dan dikirim surat kerumah alamat sesuai Nopol bahkan CCTV tersebut dpt menangkap gambar wajah dan Nopol secara jelas. Khususnya rekan2 jika berhenti dilampu merah jangan melebihi *Stop Line* lebih baik ambil belakangnya Stop Line. Bahwa PEMKOT DEPOK akan menggandeng kerja sama Satlantas POLRES DEPOK, Kejaksaan Negeri , Pengadilan Negeri dan Dishub KOTA DEPOK maupun instansi lain. Mari bersama -sama tertib Lalu Lintas di jalan dg Motto *Keselamatan Sebagai Kebutuhan No 1.* Aplikasi dilapangan akan segera di publikasikan. Penjelasan: Beredar di media pesan dan media sosial informasi tentang penerapan sistem tilang CCTV atau E CCTV pada bulan Maret 2019 di Depok, Jawa Barat. Dalam informasi tersebut, disebutkan bahwa penerapan itu akan dilakukan di sejumlah wilayah di Kota Depok, salah satunya . Berdasarkan hasil penelusuran, informasi tersebut salah. Dilansir dari okezone.com dan depokrayanews.com, Kasat Lantas Polresta Depok, Kompol Sutomo mengatakan, pesan berantai tersebut merupakan informasi palsu atau hoaks dan tidak bisa dipertanggungjawabkan. Pesan itu hoaks, kami belum mengeluarkan peraturan e-CCTV di wilayah Depok, ungkapnya. Tak hanya itu, informasi mengenai penambahan CCTV dan fungsi CCTV yang akan menangkap gambar posisi kendaraan roda empat dan dua yang melewati garis batas berhenti pada pesan tersebut juga tidak benar. Untuk itu, Sutomo mengimbau kepada masyarakat, khususnya warga Depok, tidak langsung mempercayai informasi tersebut. Jika mendapatkan informasi yang belum jelas kebenarannya masarakat diimbau agar tidak langsung percaya, untuk bisa mendapatkan kabar tersebut benar atau tidak masyarakat bisa menanyakan kepada anggota lalu lintas dan membaca berita dari kantor berita yang sudah terpercaya, ujarnya. Isu penerapan tilang E CCTV di Depok ini pernah berhembus di bulan Juli 2018. Isu tersebut muncul dengan narasi yang sedikit berbeda dan sudah di-debunk dalam postingan Bentang Febrylian pada tanggal 27 Juli 2018. Sama halnya dengan isu kali ini, informasi yang salah tentang tilang E CCTV beredar pertama kali melalui persebaran media pesan Whatsapp. Berdasarkan hal tersebut, maka informasi penerapan tilang E CCTV di Depok masuk ke dalam kategori False Context atau Konten yang Salah. Referensi: https://www.facebook.com/groups/fafhh/permalink/838138233185380/ https://news.okezone.com/read/2019/02/15/338/2018284/pesan-berantai-uji-coba-tilang-e-cctv-di-depok-hoaks Polresta Depok Pastikan Informasi Ujicoba Tilang E-CCTV itu HOAX https://www.facebook.com/groups/fafhh/permalink/702653650067173/ [SALAH] PENERAPAN TILANG E-CCTV DI DEPOK\",\n          \"Innalillahi 179 Orang Tewas di dalam pesawat sriwijaya , Dua Pesawat Tabrakan saat Sedang Mengudara pada 10 September 2021 . Penjelasan:Pada tanggal 12 September 2021 lalu terdapat salah satu akun Facebook bernama Tri Handayani yang membagikan sebuah link blog berita, yaitu www.membagikan.xyz dengan caption yang menjelaskan bahwa terjadi kecelakaan antara dua pesawat pada tanggal 10 September 2021 dan salah satu pesawat yang dimaksud ialah pesawat Sriwijaya Air asal Indonesia yang mengakibatkan 179 orang tewas di dalam pesawat sriwijaya. Hal itu diperkuat pula dengan foto yang tertera dalam link blog yang dibagikan, yaitu memuat sebuah foto dari salah satu pramugari asal Sriwijaya Air. Namun setelah link blog berita itu dibuka, tidak ada satu penjelasan apapun yang menyatakan tentang terjadinya kecelakaan pesawat yang melibatkan Sriwijaya Air pada tanggal 10 September 2021 lalu dengan menewaskan 179 penumpang pesawat. Karena melansir dari www.membagikan.xyz, informasi yang disampaikan dalam blog berita tersebut ialah mengenai kecelakaan dua pesawat, yaitu antara pesawat British Airways yang berangkat dari London ke Istanbul dengan 63 penumpang dan pesawat Inex Adria DC-9 yang berangkat dari Yugoslavia dengan 113 penumpang. Peristiwa tersebut terjadi di wilayah Zagreb, Kroasia pada tanggal 10 September 2021 lalu. Bahkan judul yang tertera pada blog berita tersebut juga berbeda dengan caption yang tertera pada salah satu postingan di akun Facebook sebelumnya. Karena pada judul blog berita tersebut menginformasikan tentang tewasnya 170 penumpang dalam kecelakaan pesawat yang terjadi tanggal 12 September 2021 lalu. Melansir dari kompas.com, Senior Manager Corporate Communication Sriwijaya Air, Theodora Erika Hersanti menegaskan bahwa informasi tersebut adalah hoaks. Karena tidak ada kecelakaan yang terjadi pada Sriwijaya Air sebagaimana informasi yang tersebar. Selain itu, melansir dari jabarnews.com, peristiwa kecelakaan dua pesawat yang dijelaskan pada blog tersebut merupakan kecelakaan dua pesawat yang terjadi pada 10 September 1976 di Zagreb, Kroasia antara pesawat asal Inggris Trident British Airways dengan rute London ke Istanbul yang membawa 63 orang dan jet sewaan Yugoslavia DC-9 yang mengangkut 113 penumpang dengan rute dari Split, Yugoslavia, ke Cologne yang jatuh di ketinggian 33.000 kaki di dekat Zagreb dengan menewaskan 176 orang. Lalu terkait dengan foto pramugari yang tertera dalam blog tersebutpun merupakan pramugari asal Sriwijaya Air, yaitu mendiang pramugari Mia Tresentyana Wadu yang menjadi korban jatuhnya pesawat Sriwijaya Air SJ-182 di perairan Kepulauan Seribu pada 9 Januari 2021 lalu. Sehingga dapat dipastikan bahwa peristiwa kecelakaan dua pesawat tersebut bukanlah peristiwa kecelakaan pesawat yang terjadi pada tanggal 10 September 2021 dengan melibatkan maskapai asal Indonesia yaitu Sriwijaya Air. Berdasarkan pada seluruh referensi, kecelakaan dua pesawat yang melibatkan Sriwijaya Air pada 10 September 2021 dengan menewaskan 179 orang penumpang ialah informasi salah dan masuk ke dalam kategori konten palsu Referensi: https://www.kompas.com/tren/read/2021/09/16/133100265/hoaks-kecelakaan-pesawat-sriwijaya-air-pada-10-september-2021-179-orang?page all https://www.jawapos.com/hoax-atau-bukan/16/09/2021/kabar-menyesatkan-tentang-kecelakaan-pesawat-sriwijaya-air/?page 2 Penulis: Novita Kusuma WardhaniEditor: Bentang Febrylian\"\n        ],\n        \"semantic_type\": \"\",\n        \"description\": \"\"\n      }\n    },\n    {\n      \"column\": \"tagging\",\n      \"properties\": {\n        \"dtype\": \"category\",\n        \"num_unique_values\": 2,\n        \"samples\": [\n          \"hoax\",\n          \"non-hoax\"\n        ],\n        \"semantic_type\": \"\",\n        \"description\": \"\"\n      }\n    },\n    {\n      \"column\": \"label\",\n      \"properties\": {\n        \"dtype\": \"number\",\n        \"std\": 0,\n        \"min\": 0,\n        \"max\": 1,\n        \"num_unique_values\": 2,\n        \"samples\": [\n          0,\n          1\n        ],\n        \"semantic_type\": \"\",\n        \"description\": \"\"\n      }\n    }\n  ]\n}"
            }
          },
          "metadata": {},
          "execution_count": 25
        }
      ],
      "source": [
        "# Cek data hasil kombinasi\n",
        "data"
      ]
    },
    {
      "cell_type": "markdown",
      "metadata": {
        "id": "Fkv-BogQYK1S"
      },
      "source": [
        "# Preprocess Function"
      ]
    },
    {
      "cell_type": "code",
      "execution_count": null,
      "metadata": {
        "id": "t8OaL3FeG6a_"
      },
      "outputs": [],
      "source": [
        "# Import modul re untuk bekerja dengan regular expressions\n",
        "import re\n",
        "\n",
        "# Import PorterStemmer dari library nltk untuk melakukan stemming pada kata\n",
        "from nltk.stem import PorterStemmer"
      ]
    },
    {
      "cell_type": "code",
      "execution_count": null,
      "metadata": {
        "id": "K_hH1GM2GkAK"
      },
      "outputs": [],
      "source": [
        "# Inisialisasi PorterStemmer untuk melakukan stemming (menghapus akhiran kata seperti \"ed\", \"ing\", dll.)\n",
        "stemmer = PorterStemmer()\n",
        "\n",
        "# Fungsi untuk memproses teks menjadi format yang lebih bersih dan standar\n",
        "def preprocess_text(text):\n",
        "    # Mengganti karakter selain huruf (a-z atau A-Z) dengan spasi\n",
        "    text = re.sub('[^a-zA-Z]', ' ', text)\n",
        "\n",
        "    # Mengubah semua huruf menjadi huruf kecil\n",
        "    text = text.lower()\n",
        "\n",
        "    # Melakukan stemming pada setiap kata dalam teks untuk mendapatkan bentuk dasarnya\n",
        "    text = [stemmer.stem(word) for word in text.split()]\n",
        "\n",
        "    # Menggabungkan kata-kata hasil stemming menjadi satu string kembali\n",
        "    text = ' '.join(text)\n",
        "\n",
        "    # Mengembalikan teks yang sudah diproses\n",
        "    return text"
      ]
    },
    {
      "cell_type": "markdown",
      "metadata": {
        "id": "2ISfFCMaX59L"
      },
      "source": [
        "# Training the Model\n"
      ]
    },
    {
      "cell_type": "markdown",
      "metadata": {
        "id": "BNPCADD2H0Mg"
      },
      "source": [
        "## Mengecek Ketersediaan GPU"
      ]
    },
    {
      "cell_type": "code",
      "execution_count": null,
      "metadata": {
        "id": "cOE3PnIPH8Mj",
        "colab": {
          "base_uri": "https://localhost:8080/"
        },
        "outputId": "56df550f-191f-4909-fdeb-053e5f795e43"
      },
      "outputs": [
        {
          "output_type": "stream",
          "name": "stdout",
          "text": [
            "Menggunakan perangkat: CPU:0\n"
          ]
        }
      ],
      "source": [
        "import tensorflow as tf\n",
        "# Mengecek apakah GPU tersedia\n",
        "if tf.test.is_gpu_available():\n",
        "    device_name = tf.test.gpu_device_name()  # Mendapatkan nama perangkat GPU jika tersedia\n",
        "else:\n",
        "    device_name = 'CPU:0'  # Jika tidak ada GPU, gunakan CPU\n",
        "print('Menggunakan perangkat:', device_name)"
      ]
    },
    {
      "cell_type": "markdown",
      "metadata": {
        "id": "mx26FYb3H9bs"
      },
      "source": [
        "## Memproses Data"
      ]
    },
    {
      "cell_type": "code",
      "execution_count": null,
      "metadata": {
        "colab": {
          "base_uri": "https://localhost:8080/"
        },
        "id": "jJbzOPNhIBeJ",
        "outputId": "1a719271-b088-4a2b-cbbd-fee4e372c7f3"
      },
      "outputs": [
        {
          "output_type": "stream",
          "name": "stdout",
          "text": [
            "\n",
            "Memproses data...\n"
          ]
        }
      ],
      "source": [
        "# Memproses teks menggunakan fungsi preprocess_text\n",
        "print(\"\\nMemproses data...\")\n",
        "\n",
        "data['Text'] = data['Text'].apply(preprocess_text)  # Memproses kolom teks"
      ]
    },
    {
      "cell_type": "markdown",
      "metadata": {
        "id": "X43jDEE5IFO2"
      },
      "source": [
        "## Membagi Dataset"
      ]
    },
    {
      "cell_type": "code",
      "execution_count": null,
      "metadata": {
        "id": "_5Gf8j-bIIpX",
        "colab": {
          "base_uri": "https://localhost:8080/"
        },
        "outputId": "cb840ec0-43cc-4341-cdb0-5a988bc0bd18"
      },
      "outputs": [
        {
          "output_type": "stream",
          "name": "stdout",
          "text": [
            "\n",
            "Membagi Data...\n"
          ]
        }
      ],
      "source": [
        "# Membagi dataset menjadi data latih, validasi, dan uji\n",
        "train_ratio = 0.64  # Proporsi data latih\n",
        "val_ratio = 0.16  # Proporsi data validasi\n",
        "test_ratio = 0.2  # Proporsi data uji\n",
        "\n",
        "print(\"\\nMembagi Data...\")\n",
        "\n",
        "train_data = data.sample(frac=train_ratio, random_state=42)  # Mengambil sampel data latih\n",
        "remaining_data = data.drop(train_data.index)  # Sisa data untuk validasi dan uji\n",
        "\n",
        "val_data = remaining_data.sample(frac=val_ratio/(val_ratio+test_ratio), random_state=42)  # Data validasi\n",
        "test_data = remaining_data.drop(val_data.index)  # Data uji"
      ]
    },
    {
      "cell_type": "markdown",
      "metadata": {
        "id": "ix1o5OBvIL0p"
      },
      "source": [
        "## Tokenisasi dan Konversi ke Tensor"
      ]
    },
    {
      "cell_type": "code",
      "source": [
        "!pip install transformers\n",
        "from transformers import BertTokenizer"
      ],
      "metadata": {
        "id": "l4Lb17eJ2JfF"
      },
      "execution_count": null,
      "outputs": []
    },
    {
      "cell_type": "code",
      "execution_count": null,
      "metadata": {
        "id": "9XttYEEbIO9r"
      },
      "outputs": [],
      "source": [
        "# Inisialisasi tokenizer BERT\n",
        "tokenizer = BertTokenizer.from_pretrained('bert-base-uncased')\n",
        "\n",
        "# Melakukan tokenisasi dan konversi\n",
        "print(\"\\nMelakukan Tokenisasi dan Konversi...\")\n",
        "\n",
        "train_inputs = tokenizer(\n",
        "    list(train_data['Text']),\n",
        "    truncation=True, padding='max_length', max_length=42, return_tensors='tf'\n",
        ")\n",
        "val_inputs = tokenizer(\n",
        "    list(val_data['Text']),\n",
        "    truncation=True, padding='max_length', max_length=42, return_tensors='tf'\n",
        ")\n",
        "test_inputs = tokenizer(\n",
        "    list(test_data['Text']),\n",
        "    truncation=True, padding='max_length', max_length=42, return_tensors='tf'\n",
        ")"
      ]
    },
    {
      "cell_type": "markdown",
      "metadata": {
        "id": "Xlf0IPKNIRgb"
      },
      "source": [
        "## Mengonversi Label ke Tensor"
      ]
    },
    {
      "cell_type": "code",
      "execution_count": null,
      "metadata": {
        "id": "T-e_p9d5IVi2"
      },
      "outputs": [],
      "source": [
        "# Mengonversi label menjadi tensor TensorFlow\n",
        "train_labels = tf.convert_to_tensor(list(train_data['label']))\n",
        "val_labels = tf.convert_to_tensor(list(val_data['label']))\n",
        "test_labels = tf.convert_to_tensor(list(test_data['label']))"
      ]
    },
    {
      "cell_type": "markdown",
      "metadata": {
        "id": "CiWpjeEYIXlU"
      },
      "source": [
        "## Mengekstrak Tensor Input"
      ]
    },
    {
      "cell_type": "code",
      "execution_count": null,
      "metadata": {
        "id": "U4pI0OXpIasl"
      },
      "outputs": [],
      "source": [
        "# Mengekstrak tensor token, segment, dan mask dari input BERT\n",
        "train_token_tensors = train_inputs['input_ids']\n",
        "train_segment_tensors = train_inputs['token_type_ids']\n",
        "train_mask_tensors = train_inputs['attention_mask']\n",
        "\n",
        "val_token_tensors = val_inputs['input_ids']\n",
        "val_segment_tensors = val_inputs['token_type_ids']\n",
        "val_mask_tensors = val_inputs['attention_mask']\n",
        "\n",
        "test_token_tensors = test_inputs['input_ids']\n",
        "test_segment_tensors = test_inputs['token_type_ids']\n",
        "test_mask_tensors = test_inputs['attention_mask']"
      ]
    },
    {
      "cell_type": "markdown",
      "metadata": {
        "id": "cQC7P02VIdbn"
      },
      "source": [
        "## Membangun dan Mengompilasi Model"
      ]
    },
    {
      "cell_type": "code",
      "execution_count": null,
      "metadata": {
        "id": "bJn6bpdfIjjy"
      },
      "outputs": [],
      "source": [
        "from transformers import TFBertForSequenceClassification\n",
        "# Membangun model BERT untuk klasifikasi\n",
        "model = TFBertForSequenceClassification.from_pretrained('bert-base-uncased', num_labels=2)\n",
        "\n",
        "# Mengompilasi model\n",
        "print(\"\\nMengompilasi Model...\")\n",
        "\n",
        "optimizer = tf.keras.optimizers.Adam(learning_rate=2e-5)  # Optimizer\n",
        "loss = tf.keras.losses.SparseCategoricalCrossentropy(from_logits=True)  # Loss\n",
        "metric = tf.keras.metrics.SparseCategoricalAccuracy('accuracy')  # Akurasi\n",
        "\n",
        "model.compile(optimizer=optimizer, loss=loss, metrics=[metric])  # Kompilasi model"
      ]
    },
    {
      "cell_type": "markdown",
      "metadata": {
        "id": "FfUQhErYIqsJ"
      },
      "source": [
        "## Melatih Model"
      ]
    },
    {
      "cell_type": "code",
      "execution_count": null,
      "metadata": {
        "id": "1Ze_i3fcIsZG"
      },
      "outputs": [],
      "source": [
        "# Melatih model BERT\n",
        "print(\"\\nMelatih Model...\")\n",
        "\n",
        "batch_size = 64  # Ukuran batch\n",
        "num_epochs = 4  # Jumlah epoch\n",
        "\n",
        "history = model.fit(\n",
        "    [train_token_tensors, train_segment_tensors, train_mask_tensors], train_labels,  # Data latih\n",
        "    batch_size=batch_size, epochs=num_epochs,  # Parameter pelatihan\n",
        "    validation_data=([val_token_tensors, val_segment_tensors, val_mask_tensors], val_labels)  # Data validasi\n",
        ")"
      ]
    },
    {
      "cell_type": "code",
      "execution_count": null,
      "metadata": {
        "id": "vmNE4opqXnhx"
      },
      "outputs": [],
      "source": [
        "import matplotlib.pyplot as plt\n"
      ]
    },
    {
      "cell_type": "code",
      "execution_count": null,
      "metadata": {
        "id": "GXHpEdC2XokH"
      },
      "outputs": [],
      "source": [
        "# Plot training and validation loss\n",
        "plt.figure(figsize=(12, 6))\n",
        "\n",
        "# Plot loss\n",
        "plt.subplot(1, 2, 1)\n",
        "plt.plot(history.history['loss'], label='Training Loss')\n",
        "plt.plot(history.history['val_loss'], label='Validation Loss')\n",
        "plt.title('Training and Validation Loss')\n",
        "plt.xlabel('Epochs')\n",
        "plt.ylabel('Loss')\n",
        "plt.legend()\n",
        "\n",
        "# Plot accuracy\n",
        "plt.subplot(1, 2, 2)\n",
        "plt.plot(history.history['accuracy'], label='Training Accuracy')\n",
        "plt.plot(history.history['val_accuracy'], label='Validation Accuracy')\n",
        "plt.title('Training and Validation Accuracy')\n",
        "plt.xlabel('Epochs')\n",
        "plt.ylabel('Accuracy')\n",
        "plt.legend()\n",
        "\n",
        "plt.tight_layout()\n",
        "plt.show()"
      ]
    },
    {
      "cell_type": "markdown",
      "metadata": {
        "id": "wG3QQFXaIuzU"
      },
      "source": [
        "## Menyimpan Model"
      ]
    },
    {
      "cell_type": "code",
      "execution_count": null,
      "metadata": {
        "id": "4td_BTdcIyib"
      },
      "outputs": [],
      "source": [
        "# Menyimpan model yang sudah dilatih\n",
        "print(\"\\nMenyimpan Model...\")\n",
        "\n",
        "model.save_pretrained('/content/model-hofe')  # Menyimpan model ke direktori"
      ]
    },
    {
      "cell_type": "markdown",
      "metadata": {
        "id": "bUlYf6JWXyKQ"
      },
      "source": [
        "# Evaluasi Model"
      ]
    },
    {
      "cell_type": "code",
      "execution_count": null,
      "metadata": {
        "id": "FX3mw-GCNpuY"
      },
      "outputs": [],
      "source": [
        "# Mengevaluasi model pada set data uji\n",
        "loss, accuracy = model.evaluate(\n",
        "    [test_token_tensors, test_segment_tensors, test_mask_tensors],  # Input data uji\n",
        "    test_labels,  # Label data uji\n",
        "    batch_size=batch_size  # Ukuran batch\n",
        ")\n",
        "\n",
        "# Menampilkan hasil evaluasi\n",
        "print(f'Test loss: {loss * 100:.3f}%')  # Menampilkan loss dalam persen\n",
        "print(f'Test accuracy: {accuracy * 100:.3f}%')  # Menampilkan akurasi dalam persen"
      ]
    },
    {
      "cell_type": "markdown",
      "metadata": {
        "id": "0CpwrDHrX1FF"
      },
      "source": [
        "# Uji Coba Pake Prediksi"
      ]
    },
    {
      "cell_type": "code",
      "execution_count": null,
      "metadata": {
        "id": "P_8SnYbEOFNL"
      },
      "outputs": [],
      "source": [
        "# Import library yang dibutuhkan\n",
        "from transformers import BertTokenizer, TFBertForSequenceClassification\n",
        "import transformers as tfs\n",
        "import tensorflow as tf"
      ]
    },
    {
      "cell_type": "code",
      "source": [
        "# cek versi transformers\n",
        "\n",
        "tfs.__version__"
      ],
      "metadata": {
        "id": "cakk30fOg6OI"
      },
      "execution_count": null,
      "outputs": []
    },
    {
      "cell_type": "code",
      "source": [
        "# Memuat model yang sudah disimpan\n",
        "model = TFBertForSequenceClassification.from_pretrained('/content/model-hofe')"
      ],
      "metadata": {
        "id": "3agsOr9ibutw"
      },
      "execution_count": null,
      "outputs": []
    },
    {
      "cell_type": "code",
      "source": [
        "from transformers import TFBertForSequenceClassification\n",
        "\n",
        "# Gantilah 'username/my-bert-model' dengan ID repositori kamu\n",
        "model = TFBertForSequenceClassification.from_pretrained(\"ajimaulana77/hofe-model\")\n"
      ],
      "metadata": {
        "id": "jkt1CVzqf0G5"
      },
      "execution_count": null,
      "outputs": []
    },
    {
      "cell_type": "markdown",
      "metadata": {
        "id": "FJQOCwLiN-zL"
      },
      "source": [
        "##  Load Model yang Disimpan"
      ]
    },
    {
      "cell_type": "markdown",
      "metadata": {
        "id": "0N9RCiEWOcEo"
      },
      "source": [
        "## Menyiapkan Tokenizer"
      ]
    },
    {
      "cell_type": "code",
      "execution_count": null,
      "metadata": {
        "id": "vtIDy0ZYOUEb"
      },
      "outputs": [],
      "source": [
        "# Menginisialisasi tokenizer BERT\n",
        "tokenizer = BertTokenizer.from_pretrained('bert-base-uncased')"
      ]
    },
    {
      "cell_type": "markdown",
      "metadata": {
        "id": "tEjmURKVOe7U"
      },
      "source": [
        "## Meminta Input dari Pengguna"
      ]
    },
    {
      "cell_type": "code",
      "execution_count": null,
      "metadata": {
        "id": "li0KcybUOjnz"
      },
      "outputs": [],
      "source": [
        "# Meminta input teks judul berita dari pengguna\n",
        "input_text = input(\"\\n\\n Cantumin text berita: \")"
      ]
    },
    {
      "cell_type": "markdown",
      "metadata": {
        "id": "3VnuxFNOOo1i"
      },
      "source": [
        "## Preprocessing Teks"
      ]
    },
    {
      "cell_type": "code",
      "execution_count": null,
      "metadata": {
        "id": "lLDtDwUDOtdB"
      },
      "outputs": [],
      "source": [
        "# Melakukan preprocessing pada teks input\n",
        "preprocessed_text = preprocess_text(input_text)\n",
        "\n",
        "# Menampilkan teks yang sudah diproses\n",
        "preprocessed_text"
      ]
    },
    {
      "cell_type": "markdown",
      "metadata": {
        "id": "alFUsU37Ovao"
      },
      "source": [
        "## Tokenisasi Teks yang Sudah Diproses"
      ]
    },
    {
      "cell_type": "code",
      "execution_count": null,
      "metadata": {
        "id": "U4EjziwnOyIr"
      },
      "outputs": [],
      "source": [
        "# Melakukan tokenisasi pada teks yang sudah diproses\n",
        "inputs = tokenizer(preprocessed_text, truncation=True, padding='max_length', max_length=42, return_tensors='tf')\n",
        "\n",
        "# Mengambil tensor input yang diperlukan\n",
        "token_tensors = inputs['input_ids']\n",
        "segment_tensors = inputs['token_type_ids']\n",
        "mask_tensors = inputs['attention_mask']"
      ]
    },
    {
      "cell_type": "markdown",
      "metadata": {
        "id": "I_ZWLQJsO0Lk"
      },
      "source": [
        "## Prediksi Menggunakan Model"
      ]
    },
    {
      "cell_type": "code",
      "execution_count": null,
      "metadata": {
        "id": "P46IHsRJO3gL"
      },
      "outputs": [],
      "source": [
        "# Melakukan prediksi menggunakan model\n",
        "predictions = model.predict([token_tensors, segment_tensors, mask_tensors])\n",
        "logits = predictions.logits[0]  # Mengambil logits dari hasil prediksi\n",
        "probabilities = tf.nn.softmax(logits)  # Menghitung probabilitas menggunakan softmax\n",
        "predicted_label = tf.argmax(probabilities)  # Menentukan label yang diprediksi"
      ]
    },
    {
      "cell_type": "markdown",
      "metadata": {
        "id": "Ii0GDnVjO5f2"
      },
      "source": [
        "## Menampilkan Hasil Prediksi"
      ]
    },
    {
      "cell_type": "code",
      "execution_count": null,
      "metadata": {
        "id": "b2MBByJTO7_X"
      },
      "outputs": [],
      "source": [
        "# Menampilkan hasil prediksi berdasarkan label\n",
        "if predicted_label == 0:\n",
        "    print(\"\\n*-*-Berita Palsu-*-*\")  # Jika label yang diprediksi adalah 0, berarti berita tersebut palsu\n",
        "else:\n",
        "    print(\"\\n*-*-Berita Asli-*-*\")  # Jika label yang diprediksi adalah 1, berarti berita tersebut asli\n",
        "\n",
        "# Menampilkan probabilitas berita palsu dan berita asli\n",
        "print(\"\\nProbabilitas menjadi berita palsu: {:.2%}\".format(probabilities[0]))  # Probabilitas berita tersebut palsu\n",
        "print(\"Probabilitas menjadi berita asli: {:.2%}\".format(probabilities[1]))  # Probabilitas berita tersebut asli"
      ]
    },
    {
      "cell_type": "code",
      "execution_count": null,
      "metadata": {
        "id": "XCL7Ms3hY5vy"
      },
      "outputs": [],
      "source": [
        "\n",
        "# Plotting the probabilities\n",
        "labels = ['Berita Palsu', 'Berita Asli']\n",
        "prob_values = [probabilities[0], probabilities[1]]\n",
        "\n",
        "# Create a bar chart\n",
        "plt.figure(figsize=(6, 4))\n",
        "plt.bar(labels, prob_values, color=['red', 'green'])\n",
        "plt.title(\"Prediksi Probabilitas Berita\")\n",
        "plt.ylabel(\"Probabilitas\")\n",
        "plt.ylim(0, 1)\n",
        "\n",
        "# Display the value on top of each bar\n",
        "for i, v in enumerate(prob_values):\n",
        "    plt.text(i, v + 0.02, f'{v:.2%}', ha='center', va='bottom', fontweight='bold')\n",
        "\n",
        "# Show the plot\n",
        "plt.show()"
      ]
    },
    {
      "cell_type": "markdown",
      "metadata": {
        "id": "HGeJZG1sJTgI"
      },
      "source": [
        "# Simpen Model jadi Zip"
      ]
    },
    {
      "cell_type": "code",
      "execution_count": null,
      "metadata": {
        "id": "jC3jrHUDDSIg"
      },
      "outputs": [],
      "source": [
        "import shutil\n",
        "import os\n",
        "\n",
        "# Ganti 'folder_name' dengan nama folder yang ingin di-zip\n",
        "folder_to_zip = 'model-hofe'\n",
        "output_zip_file = 'model-hofe'  # Nama file ZIP yang dihasilkan (tanpa .zip)\n",
        "\n",
        "# Membuat file ZIP\n",
        "shutil.make_archive(output_zip_file, 'zip', folder_to_zip)\n",
        "\n",
        "print(f\"Folder '{folder_to_zip}' berhasil di-zip menjadi '{output_zip_file}.zip'\")\n"
      ]
    },
    {
      "cell_type": "markdown",
      "source": [
        "# **Pengetesan Model**"
      ],
      "metadata": {
        "id": "Se4NcJVeyH53"
      }
    },
    {
      "cell_type": "code",
      "source": [
        "import os\n",
        "import pandas as pd\n",
        "import tensorflow as tf\n",
        "from transformers import BertTokenizer, TFBertForSequenceClassification\n",
        "import shutil\n",
        "import matplotlib.pyplot as plt\n",
        "\n",
        "def test_script():\n",
        "    try:\n",
        "        # 1. Test Loading Datasets\n",
        "        print(\"== Menguji Muatan Dataset ==\")\n",
        "        if not os.path.exists('cleaned_dataset_scrap.csv') or not os.path.exists('cleaned_dataset_turnbackhoax_10_cleaned.csv'):\n",
        "            raise FileNotFoundError(\"Dataset tidak ditemukan! Pastikan file 'cleaned_dataset_scrap.csv' dan 'cleaned_dataset_turnbackhoax_10_cleaned.csv' tersedia.\")\n",
        "        real_news = pd.read_csv('cleaned_dataset_scrap.csv')\n",
        "        fake_news = pd.read_csv('cleaned_dataset_turnbackhoax_10_cleaned.csv')\n",
        "        print(\"Dataset berhasil dimuat!\")\n",
        "\n",
        "        # 2. Test Preprocessing Function\n",
        "        print(\"\\n== Menguji Fungsi Preprocessing ==\")\n",
        "        def preprocess_text_test():\n",
        "            text = \"Ini contoh Kalimat123!\"\n",
        "            result = preprocess_text(text)\n",
        "            if result != \"ini contoh kalimat\":\n",
        "                raise ValueError(\"Fungsi preprocess_text gagal memproses teks!\")\n",
        "            print(\"Fungsi preprocess_text berjalan dengan benar.\")\n",
        "        preprocess_text_test()\n",
        "\n",
        "        # 3. Test Model Training\n",
        "        print(\"\\n== Menguji Pelatihan Model ==\")\n",
        "        if not os.path.exists('model-hofe'):\n",
        "            raise FileNotFoundError(\"Model belum dilatih! Harap latih model terlebih dahulu.\")\n",
        "        print(\"Model berhasil ditemukan.\")\n",
        "\n",
        "        # 4. Test Prediction\n",
        "        print(\"\\n== Menguji Prediksi ==\")\n",
        "        input_text = \"COVID-19 itu tidak nyata, hanya konspirasi.\"\n",
        "        preprocessed_text = preprocess_text(input_text)\n",
        "        tokenizer = BertTokenizer.from_pretrained('bert-base-uncased')\n",
        "        inputs = tokenizer(preprocessed_text, truncation=True, padding='max_length', max_length=42, return_tensors='tf')\n",
        "        token_tensors = inputs['input_ids']\n",
        "        segment_tensors = inputs['token_type_ids']\n",
        "        mask_tensors = inputs['attention_mask']\n",
        "\n",
        "        model = TFBertForSequenceClassification.from_pretrained('model-hofe')\n",
        "        predictions = model.predict([token_tensors, segment_tensors, mask_tensors])\n",
        "        logits = predictions.logits[0]\n",
        "        probabilities = tf.nn.softmax(logits)\n",
        "        predicted_label = tf.argmax(probabilities).numpy()\n",
        "\n",
        "        print(f\"Teks Input: {input_text}\")\n",
        "        print(f\"Label Prediksi: {'Berita Asli' if predicted_label == 1 else 'Berita Palsu'}\")\n",
        "        print(f\"Probabilitas Berita Palsu: {probabilities[0]:.2%}\")\n",
        "        print(f\"Probabilitas Berita Asli: {probabilities[1]:.2%}\")\n",
        "\n",
        "        # 5. Test Zipping Model\n",
        "        print(\"\\n== Menguji Proses Kompresi Model ==\")\n",
        "        zip_file = 'model-hofe.zip'\n",
        "        if os.path.exists(zip_file):\n",
        "            print(f\"File ZIP model ditemukan: {zip_file}\")\n",
        "        else:\n",
        "            raise FileNotFoundError(\"Model belum dikompres menjadi ZIP!\")\n",
        "\n",
        "        print(\"\\nSemua pengujian berhasil!\")\n",
        "\n",
        "    except Exception as e:\n",
        "        print(f\"Tes gagal dengan error: {str(e)}\")\n",
        "\n",
        "# Jalankan pengujian\n",
        "test_script()"
      ],
      "metadata": {
        "id": "9u5T6WDuyLNX"
      },
      "execution_count": null,
      "outputs": []
    }
  ],
  "metadata": {
    "colab": {
      "provenance": [],
      "gpuType": "V28"
    },
    "kernelspec": {
      "display_name": "Python 3",
      "name": "python3"
    },
    "language_info": {
      "name": "python"
    },
    "accelerator": "TPU"
  },
  "nbformat": 4,
  "nbformat_minor": 0
}