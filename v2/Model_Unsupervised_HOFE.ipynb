{
  "nbformat": 4,
  "nbformat_minor": 0,
  "metadata": {
    "colab": {
      "provenance": [],
      "collapsed_sections": [
        "_Upe3nhSCjw8"
      ],
      "gpuType": "V28"
    },
    "kernelspec": {
      "name": "python3",
      "display_name": "Python 3"
    },
    "language_info": {
      "name": "python"
    },
    "accelerator": "TPU"
  },
  "cells": [
    {
      "cell_type": "code",
      "execution_count": 1,
      "metadata": {
        "id": "jR1qdrafBc95"
      },
      "outputs": [],
      "source": [
        "import numpy as np\n",
        "import matplotlib.pyplot as plt\n",
        "import tensorflow as tf\n",
        "import pandas as pd\n",
        "import pickle\n",
        "import os"
      ]
    },
    {
      "cell_type": "markdown",
      "source": [
        "# **Data Gatehring**"
      ],
      "metadata": {
        "id": "_Upe3nhSCjw8"
      }
    },
    {
      "cell_type": "code",
      "source": [
        "# Load the dataset\n",
        "FILE_PATH = 'hf://datasets/ZhafranR/CC-ID-News/CCID-News-v1.csv'\n",
        "data = pd.read_csv(FILE_PATH)\n",
        "\n",
        "# Inspect the first few rows of the dataset\n",
        "print(data.head())"
      ],
      "metadata": {
        "colab": {
          "base_uri": "https://localhost:8080/"
        },
        "id": "s3YXMDYiB1lx",
        "outputId": "791a6137-9b5a-495b-b31e-56f2c8bd7a40"
      },
      "execution_count": 2,
      "outputs": [
        {
          "output_type": "stream",
          "name": "stderr",
          "text": [
            "/usr/local/lib/python3.10/dist-packages/huggingface_hub/utils/_auth.py:94: UserWarning: \n",
            "The secret `HF_TOKEN` does not exist in your Colab secrets.\n",
            "To authenticate with the Hugging Face Hub, create a token in your settings tab (https://huggingface.co/settings/tokens), set it as secret in your Google Colab and restart your session.\n",
            "You will be able to reuse this secret in all of your notebooks.\n",
            "Please note that authentication is recommended but still optional to access public models or datasets.\n",
            "  warnings.warn(\n"
          ]
        },
        {
          "output_type": "stream",
          "name": "stdout",
          "text": [
            "                                               Title  \\\n",
            "0  Bisik-bisik Menperin, Bus Listrik Juga Bakal D...   \n",
            "1  Gak Tanggung-tanggung, Freeport Sediakan Rp54,...   \n",
            "2  Begini Upaya PLN Siagakan Listrik untuk Tahun ...   \n",
            "3  Wapres Soal Reshuffle: Kita Tunggu Saja, Terja...   \n",
            "4  BMKG: Waspada Gelombang Laut 6 Meter & Banjir ...   \n",
            "\n",
            "                                                 URL  \\\n",
            "0  https://www.cnbcindonesia.com/news/20221227173...   \n",
            "1  https://www.cnbcindonesia.com/news/20221227161...   \n",
            "2  https://www.cnbcindonesia.com/news/20221227172...   \n",
            "3  https://www.cnbcindonesia.com/news/20221227155...   \n",
            "4  https://www.cnbcindonesia.com/news/20221227160...   \n",
            "\n",
            "                                               Image  \\\n",
            "0  https://awsimages.detik.net.id/visual/2022/10/...   \n",
            "1  https://awsimages.detik.net.id/visual/2018/07/...   \n",
            "2  https://awsimages.detik.net.id/visual/2022/12/...   \n",
            "3  https://awsimages.detik.net.id/visual/2022/12/...   \n",
            "4  https://awsimages.detik.net.id/visual/2020/12/...   \n",
            "\n",
            "                                           News Text         News Date  \\\n",
            "0  Menteri Perindustrian (Menperin) Agus Gumiwang...  27 December 2022   \n",
            "1  PT Freeport Indonesia (PTFI) diproyeksikan aka...  27 December 2022   \n",
            "2  Guna memastikan keandalan sistem kelistrikan s...  27 December 2022   \n",
            "3  Wakil Presiden KH Ma'ruf Amin menegaskan kalau...  27 December 2022   \n",
            "4  Kepala Badan Meteorologi, Klimatologi, dan Geo...  27 December 2022   \n",
            "\n",
            "  News Hour News Portal  \n",
            "0     17:50        CNBC  \n",
            "1     17:35        CNBC  \n",
            "2     17:29        CNBC  \n",
            "3     17:25        CNBC  \n",
            "4     17:20        CNBC  \n"
          ]
        }
      ]
    },
    {
      "cell_type": "code",
      "source": [
        "# Hapus kolom yang tidak digunakan\n",
        "dataCleaned = data.drop(columns=['URL', 'Image', 'News Hour', 'News Portal'])\n",
        "\n",
        "print(dataCleaned)"
      ],
      "metadata": {
        "colab": {
          "base_uri": "https://localhost:8080/"
        },
        "id": "u3qUCrLlCZFo",
        "outputId": "ccc4c98f-28ed-4785-fb0e-4246f18061bf"
      },
      "execution_count": 3,
      "outputs": [
        {
          "output_type": "stream",
          "name": "stdout",
          "text": [
            "                                                     Title  \\\n",
            "0        Bisik-bisik Menperin, Bus Listrik Juga Bakal D...   \n",
            "1        Gak Tanggung-tanggung, Freeport Sediakan Rp54,...   \n",
            "2        Begini Upaya PLN Siagakan Listrik untuk Tahun ...   \n",
            "3        Wapres Soal Reshuffle: Kita Tunggu Saja, Terja...   \n",
            "4        BMKG: Waspada Gelombang Laut 6 Meter & Banjir ...   \n",
            "...                                                    ...   \n",
            "1101893    PBB prihatin pertempuran kembali pecah di Sudan   \n",
            "1101894     17 orang tewas akibat jembatan ambruk di India   \n",
            "1101895  Pawai Festival ASEAN akrabkan masyarakat denga...   \n",
            "1101896         Biden tak akan hadiri KTT ASEAN di Jakarta   \n",
            "1101897  China catatkan rekor terendah jumlah kasus kri...   \n",
            "\n",
            "                                                 News Text         News Date  \n",
            "0        Menteri Perindustrian (Menperin) Agus Gumiwang...  27 December 2022  \n",
            "1        PT Freeport Indonesia (PTFI) diproyeksikan aka...  27 December 2022  \n",
            "2        Guna memastikan keandalan sistem kelistrikan s...  27 December 2022  \n",
            "3        Wakil Presiden KH Ma'ruf Amin menegaskan kalau...  27 December 2022  \n",
            "4        Kepala Badan Meteorologi, Klimatologi, dan Geo...  27 December 2022  \n",
            "...                                                    ...               ...  \n",
            "1101893  Kepala Misi Kemanusiaan Perserikatan Bangsa-ba...   23 Agustus 2023  \n",
            "1101894  Sedikitnya 17 pekerja tewas dan beberapa lainn...   23 Agustus 2023  \n",
            "1101895  Pawai Festival ASEAN mengakrabkan masyarakat I...   23 Agustus 2023  \n",
            "1101896  Presiden Amerika Serikat Joe Biden tidak akan ...   23 Agustus 2023  \n",
            "1101897  China menjadi salah satu negara dengan jumlah ...   23 Agustus 2023  \n",
            "\n",
            "[1101898 rows x 3 columns]\n"
          ]
        }
      ]
    },
    {
      "cell_type": "code",
      "source": [
        "data = pd.read_csv('cleaned_news_data.csv')\n",
        "\n",
        "# Membatasi data menjadi 20.000 baris pertama\n",
        "df_cleaned_subset = data.head(20000)\n",
        "\n",
        "# Menyimpan data yang telah dibatasi ke file CSV\n",
        "df_cleaned_subset.to_csv('cleaned_news_data_subset.csv', index=False)\n",
        "\n",
        "# Verifikasi bahwa file telah disimpan\n",
        "print(\"Data yang dibatasi telah disimpan ke 'cleaned_news_data_subset.csv'\")\n"
      ],
      "metadata": {
        "colab": {
          "base_uri": "https://localhost:8080/"
        },
        "id": "cpaaPtY5GIwe",
        "outputId": "89ba620b-ed9b-40c5-9865-fdbb5db7ab2a"
      },
      "execution_count": 2,
      "outputs": [
        {
          "output_type": "stream",
          "name": "stdout",
          "text": [
            "Data yang dibatasi telah disimpan ke 'cleaned_news_data_subset.csv'\n"
          ]
        }
      ]
    },
    {
      "cell_type": "markdown",
      "source": [
        "# **Model**"
      ],
      "metadata": {
        "id": "gk0RWKWoCr5d"
      }
    },
    {
      "cell_type": "code",
      "source": [
        "data = pd.read_csv('cleaned_news_data_subset.csv')\n",
        "\n",
        "# Preprocess the text (cleaning and tokenizing)\n",
        "texts = data['News Text'].astype(str).values\n",
        "\n",
        "# Create a TextVectorization layer\n",
        "vectorizer = tf.keras.layers.TextVectorization(\n",
        "    standardize=\"lower_and_strip_punctuation\",\n",
        "    output_mode='int',\n",
        "    output_sequence_length=500  # Can adjust this based on your data\n",
        ")\n",
        "\n",
        "# Adapt the vectorizer on the corpus (the text data)\n",
        "vectorizer.adapt(texts)\n",
        "\n",
        "# Convert texts into tokenized sequences\n",
        "sequences = vectorizer(texts)\n",
        "\n",
        "# Display the shape of the sequences\n",
        "print(f\"Tokenized sequences shape: {sequences.shape}\")"
      ],
      "metadata": {
        "colab": {
          "base_uri": "https://localhost:8080/"
        },
        "id": "zTF2Akw8CrCK",
        "outputId": "fb38db71-8266-456e-ccc8-f224bc8dd21c"
      },
      "execution_count": 3,
      "outputs": [
        {
          "output_type": "stream",
          "name": "stdout",
          "text": [
            "Tokenized sequences shape: (20000, 500)\n"
          ]
        }
      ]
    },
    {
      "cell_type": "code",
      "source": [
        "# Define the function to create features and labels for training\n",
        "def features_and_labels_dataset(sequences, sequence_length=500):\n",
        "    \"\"\"\n",
        "    Converts tokenized sequences into features and labels, then prepares them as a TensorFlow Dataset\n",
        "    \"\"\"\n",
        "    # Create features and labels\n",
        "    features = sequences[:, :-1]  # All tokens except the last\n",
        "    labels = sequences[:, -1]  # Last token as the label\n",
        "\n",
        "    # One hot encode labels\n",
        "    one_hot_labels = tf.keras.utils.to_categorical(labels, num_classes=len(vectorizer.get_vocabulary()))\n",
        "\n",
        "    # Create TensorFlow dataset\n",
        "    dataset = tf.data.Dataset.from_tensor_slices((features, one_hot_labels))\n",
        "\n",
        "    return dataset.batch(32).prefetch(tf.data.AUTOTUNE)\n",
        "\n",
        "# Prepare the dataset\n",
        "dataset = features_and_labels_dataset(sequences)\n",
        "\n",
        "# Check the shape of one batch of data\n",
        "for features, label in dataset.take(1):\n",
        "    print(f\"Features shape: {features.shape}\")\n",
        "    print(f\"Labels shape: {label.shape}\")\n"
      ],
      "metadata": {
        "colab": {
          "base_uri": "https://localhost:8080/"
        },
        "id": "_YYEIZX-EA2-",
        "outputId": "b13bd09f-47cf-4d41-9893-4c3635a66602"
      },
      "execution_count": 4,
      "outputs": [
        {
          "output_type": "stream",
          "name": "stdout",
          "text": [
            "Features shape: (32, 499)\n",
            "Labels shape: (32, 186263)\n"
          ]
        }
      ]
    },
    {
      "cell_type": "code",
      "source": [
        "# Define the model architecture\n",
        "def create_model(vocab_size, max_sequence_length):\n",
        "    \"\"\"\n",
        "    Creates a simple neural network model for text classification using an LSTM layer.\n",
        "\n",
        "    Args:\n",
        "        vocab_size (int): Size of the vocabulary.\n",
        "        max_sequence_length (int): Length of input sequences.\n",
        "\n",
        "    Returns:\n",
        "        tf.keras.Model: The model to train.\n",
        "    \"\"\"\n",
        "    model = tf.keras.Sequential([\n",
        "        tf.keras.layers.Input(shape=(max_sequence_length-1,)),  # Input layer\n",
        "        tf.keras.layers.Embedding(vocab_size, 100),  # Embedding layer\n",
        "        tf.keras.layers.Bidirectional(tf.keras.layers.LSTM(128)),  # Bidirectional LSTM layer\n",
        "        tf.keras.layers.Dense(64, activation='relu'),  # Dense layer\n",
        "        tf.keras.layers.Dense(vocab_size, activation='softmax')  # Output layer\n",
        "    ])\n",
        "\n",
        "    # Compile the model\n",
        "    model.compile(optimizer='adam', loss='categorical_crossentropy', metrics=['accuracy'])\n",
        "\n",
        "    return model\n",
        "\n",
        "# Get the total vocab size and max sequence length\n",
        "vocab_size = len(vectorizer.get_vocabulary())\n",
        "max_sequence_length = 500  # Set according to your sequence length\n",
        "\n",
        "# Create the model\n",
        "model = create_model(vocab_size, max_sequence_length)\n",
        "\n",
        "# Summarize the model\n",
        "model.summary()"
      ],
      "metadata": {
        "colab": {
          "base_uri": "https://localhost:8080/"
        },
        "id": "dMy6yhL1IwdC",
        "outputId": "18333517-323d-447d-9c51-7a5af9fa530e"
      },
      "execution_count": 5,
      "outputs": [
        {
          "output_type": "stream",
          "name": "stdout",
          "text": [
            "Model: \"sequential\"\n",
            "_________________________________________________________________\n",
            " Layer (type)                Output Shape              Param #   \n",
            "=================================================================\n",
            " embedding (Embedding)       (None, 499, 100)          18626300  \n",
            "                                                                 \n",
            " bidirectional (Bidirection  (None, 256)               234496    \n",
            " al)                                                             \n",
            "                                                                 \n",
            " dense (Dense)               (None, 64)                16448     \n",
            "                                                                 \n",
            " dense_1 (Dense)             (None, 186263)            12107095  \n",
            "                                                                 \n",
            "=================================================================\n",
            "Total params: 30984339 (118.20 MB)\n",
            "Trainable params: 30984339 (118.20 MB)\n",
            "Non-trainable params: 0 (0.00 Byte)\n",
            "_________________________________________________________________\n"
          ]
        }
      ]
    },
    {
      "cell_type": "code",
      "source": [
        "# Calculate the number of samples for validation\n",
        "val_size = int(len(sequences) * 0.2)\n",
        "\n",
        "num_shards = 2 # number of shards\n",
        "shard_index_val = 0 # shard index for validation\n",
        "shard_index_train = 1 # shard index for training\n",
        "\n",
        "# Create validation dataset\n",
        "val_dataset = dataset.shard(num_shards=num_shards, index=shard_index_val)\n",
        "\n",
        "# Create training dataset\n",
        "train_dataset = dataset.shard(num_shards=num_shards, index=shard_index_train)\n",
        "\n",
        "# Train the model using the split datasets\n",
        "history = model.fit(train_dataset, epochs=10, batch_size=32, validation_data=val_dataset)"
      ],
      "metadata": {
        "colab": {
          "base_uri": "https://localhost:8080/"
        },
        "id": "wl8tCi7OJDw7",
        "outputId": "81b2e334-4acb-4390-d695-cacb320c6e63"
      },
      "execution_count": 10,
      "outputs": [
        {
          "output_type": "stream",
          "name": "stdout",
          "text": [
            "Epoch 1/10\n",
            "312/312 [==============================] - 253s 803ms/step - loss: 1.9569 - accuracy: 0.9139 - val_loss: 0.9472 - val_accuracy: 0.9127\n",
            "Epoch 2/10\n",
            "312/312 [==============================] - 240s 771ms/step - loss: 0.6449 - accuracy: 0.9164 - val_loss: 0.9221 - val_accuracy: 0.9127\n",
            "Epoch 3/10\n",
            "312/312 [==============================] - 240s 769ms/step - loss: 0.5566 - accuracy: 0.9165 - val_loss: 0.9803 - val_accuracy: 0.9136\n",
            "Epoch 4/10\n",
            "312/312 [==============================] - 240s 769ms/step - loss: 0.5365 - accuracy: 0.9169 - val_loss: 1.0510 - val_accuracy: 0.9136\n",
            "Epoch 5/10\n",
            "312/312 [==============================] - 241s 772ms/step - loss: 0.5239 - accuracy: 0.9177 - val_loss: 1.0436 - val_accuracy: 0.9130\n",
            "Epoch 6/10\n",
            "312/312 [==============================] - 240s 770ms/step - loss: 0.5116 - accuracy: 0.9183 - val_loss: 1.1384 - val_accuracy: 0.9122\n",
            "Epoch 7/10\n",
            "312/312 [==============================] - 241s 773ms/step - loss: 0.4887 - accuracy: 0.9178 - val_loss: 1.2684 - val_accuracy: 0.9120\n",
            "Epoch 8/10\n",
            "312/312 [==============================] - 240s 770ms/step - loss: 0.4667 - accuracy: 0.9180 - val_loss: 1.3664 - val_accuracy: 0.9116\n",
            "Epoch 9/10\n",
            "312/312 [==============================] - 240s 771ms/step - loss: 0.4538 - accuracy: 0.9181 - val_loss: 1.3969 - val_accuracy: 0.9122\n",
            "Epoch 10/10\n",
            "312/312 [==============================] - 240s 769ms/step - loss: 0.4395 - accuracy: 0.9190 - val_loss: 1.4708 - val_accuracy: 0.9119\n"
          ]
        }
      ]
    },
    {
      "cell_type": "code",
      "source": [
        "# Plotting training and validation accuracy and loss\n",
        "def plot_training_history(history):\n",
        "    \"\"\"\n",
        "    Plots the training and validation accuracy and loss.\n",
        "\n",
        "    Args:\n",
        "        history: History object returned by model.fit().\n",
        "    \"\"\"\n",
        "    acc = history.history['accuracy']\n",
        "    val_acc = history.history['val_accuracy']\n",
        "    loss = history.history['loss']\n",
        "    val_loss = history.history['val_loss']\n",
        "\n",
        "    epochs = range(len(acc))\n",
        "\n",
        "    # Plot accuracy\n",
        "    plt.figure(figsize=(12, 6))\n",
        "    plt.subplot(1, 2, 1)\n",
        "    plt.plot(epochs, acc, label='Training Accuracy')\n",
        "    plt.plot(epochs, val_acc, label='Validation Accuracy')\n",
        "    plt.title('Training and Validation Accuracy')\n",
        "    plt.xlabel('Epochs')\n",
        "    plt.ylabel('Accuracy')\n",
        "    plt.legend()\n",
        "\n",
        "    # Plot loss\n",
        "    plt.subplot(1, 2, 2)\n",
        "    plt.plot(epochs, loss, label='Training Loss')\n",
        "    plt.plot(epochs, val_loss, label='Validation Loss')\n",
        "    plt.title('Training and Validation Loss')\n",
        "    plt.xlabel('Epochs')\n",
        "    plt.ylabel('Loss')\n",
        "    plt.legend()\n",
        "\n",
        "    plt.show()\n",
        "\n",
        "# Plot the results\n",
        "plot_training_history(history)\n"
      ],
      "metadata": {
        "colab": {
          "base_uri": "https://localhost:8080/",
          "height": 539
        },
        "id": "r4REbQfwI0kJ",
        "outputId": "eed57271-b904-45f0-e746-0d194bbd12d5"
      },
      "execution_count": 11,
      "outputs": [
        {
          "output_type": "display_data",
          "data": {
            "text/plain": [
              "<Figure size 1200x600 with 2 Axes>"
            ],
            "image/png": "[encoded data removed]"
          },
          "metadata": {}
        }
      ]
    },
    {
      "cell_type": "code",
      "source": [
        "# Evaluate the model on the validation data\n",
        "val_loss, val_accuracy = model.evaluate(dataset, verbose=1)\n",
        "print(f\"Validation Loss: {val_loss}\")\n",
        "print(f\"Validation Accuracy: {val_accuracy}\")"
      ],
      "metadata": {
        "colab": {
          "base_uri": "https://localhost:8080/"
        },
        "id": "oCDdddjFTw6W",
        "outputId": "6e325720-ff45-4ede-8ca1-6c8a7382f0b1"
      },
      "execution_count": 13,
      "outputs": [
        {
          "output_type": "stream",
          "name": "stdout",
          "text": [
            "625/625 [==============================] - 116s 185ms/step - loss: 1.0044 - accuracy: 0.9154\n",
            "Validation Loss: 1.0044126510620117\n",
            "Validation Accuracy: 0.9154000282287598\n"
          ]
        }
      ]
    },
    {
      "cell_type": "code",
      "source": [
        "# Use the model to make predictions on new, unseen data\n",
        "def predict_hoax(model, input_text, vectorizer, max_sequence_len):\n",
        "    \"\"\"\n",
        "    Predicts whether a given text is a hoax or not using the trained model.\n",
        "\n",
        "    Args:\n",
        "        model: The trained model.\n",
        "        input_text: The text to predict on.\n",
        "        vectorizer: The text vectorizer used for preprocessing the input.\n",
        "        max_sequence_len: The maximum sequence length for padding.\n",
        "\n",
        "    Returns:\n",
        "        prediction (str): \"Hoax\" or \"Not Hoax\" based on the model's output.\n",
        "    \"\"\"\n",
        "    # Preprocess the input text\n",
        "    tokenized_input = vectorizer(input_text)\n",
        "    padded_input = tf.keras.utils.pad_sequences([tokenized_input], maxlen=max_sequence_len-1, padding='pre')\n",
        "\n",
        "    # Make the prediction\n",
        "    prediction = model.predict(padded_input)\n",
        "    predicted_class = np.argmax(prediction, axis=-1).item()\n",
        "\n",
        "    # Return the prediction based on the output class\n",
        "    if predicted_class == 1:\n",
        "        return \"Hoax\"\n",
        "    else:\n",
        "        return \"Not Hoax\""
      ],
      "metadata": {
        "id": "LL11w31gSpr1"
      },
      "execution_count": 14,
      "outputs": []
    },
    {
      "cell_type": "code",
      "source": [
        "# Save the model architecture in JSON format\n",
        "model_json = model.to_json()\n",
        "with open(\"hoax_detection_model.json\", \"w\") as json_file:\n",
        "    json_file.write(model_json)\n",
        "\n",
        "# Save the model weights in H5 format\n",
        "model.save_weights(\"hoax_detection_model_weights.h5\")\n",
        "\n",
        "print(\"Model saved in JSON and H5 formats.\")"
      ],
      "metadata": {
        "colab": {
          "base_uri": "https://localhost:8080/"
        },
        "id": "PBR5H2b9TjGn",
        "outputId": "d45a10d7-4012-4039-93ba-ffcd87747ca5"
      },
      "execution_count": 16,
      "outputs": [
        {
          "output_type": "stream",
          "name": "stdout",
          "text": [
            "Model saved in JSON and H5 formats.\n"
          ]
        }
      ]
    }
  ]
}